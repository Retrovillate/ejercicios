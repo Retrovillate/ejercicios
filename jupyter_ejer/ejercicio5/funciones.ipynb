{
 "cells": [
  {
   "cell_type": "code",
   "execution_count": 1,
   "id": "104fd66e",
   "metadata": {},
   "outputs": [],
   "source": [
    "\"\"\"\n",
    "creación de funciones\n",
    "\"\"\"\n",
    "def funcion ():\n",
    "    return(\"Hola mundo\")"
   ]
  },
  {
   "cell_type": "code",
   "execution_count": 2,
   "id": "9a73d270",
   "metadata": {},
   "outputs": [
    {
     "data": {
      "text/plain": [
       "'Hola mundo'"
      ]
     },
     "execution_count": 2,
     "metadata": {},
     "output_type": "execute_result"
    }
   ],
   "source": [
    "\"\"\"\n",
    "llamado de funciones\n",
    "\n",
    "\"\"\"\n",
    "\n",
    "funcion()"
   ]
  },
  {
   "cell_type": "code",
   "execution_count": 5,
   "id": "3feae7e2",
   "metadata": {},
   "outputs": [],
   "source": [
    "def cuadrado (numero, cuad):\n",
    "    return(numero**cuad)"
   ]
  },
  {
   "cell_type": "code",
   "execution_count": 6,
   "id": "b115d7b4",
   "metadata": {},
   "outputs": [
    {
     "data": {
      "text/plain": [
       "3125"
      ]
     },
     "execution_count": 6,
     "metadata": {},
     "output_type": "execute_result"
    }
   ],
   "source": [
    "cuadrado(5,5)"
   ]
  },
  {
   "cell_type": "code",
   "execution_count": 7,
   "id": "b09380d8",
   "metadata": {},
   "outputs": [
    {
     "data": {
      "text/plain": [
       "243"
      ]
     },
     "execution_count": 7,
     "metadata": {},
     "output_type": "execute_result"
    }
   ],
   "source": [
    "# invocar funciones por nombre consulta el nombre en la funcion\n",
    "\n",
    "cuadrado(cuad=5,numero =3)"
   ]
  },
  {
   "cell_type": "code",
   "execution_count": 10,
   "id": "449b15af",
   "metadata": {},
   "outputs": [],
   "source": [
    "\"\"\"\n",
    "Función con cantidad indefinida de parametros por posición\n",
    "\"\"\"\n",
    "\n",
    "def funcion2(*args):\n",
    "    result = 0\n",
    "    for i in args:\n",
    "        #print(i)\n",
    "        result+=i\n",
    "    return result\n",
    "    "
   ]
  },
  {
   "cell_type": "code",
   "execution_count": 12,
   "id": "c8028a60",
   "metadata": {},
   "outputs": [
    {
     "data": {
      "text/plain": [
       "32"
      ]
     },
     "execution_count": 12,
     "metadata": {},
     "output_type": "execute_result"
    }
   ],
   "source": [
    "funcion2(1,2,5,8,16)"
   ]
  },
  {
   "cell_type": "code",
   "execution_count": 22,
   "id": "77953f8c",
   "metadata": {},
   "outputs": [],
   "source": [
    "\"\"\"\n",
    "Función con cantidad indefinida de argumento por nombre\n",
    "\"\"\"\n",
    "\n",
    "def funcion3(**args):\n",
    "    for argument in args:\n",
    "        print(argument , '->', args[argument])\n",
    "    "
   ]
  },
  {
   "cell_type": "code",
   "execution_count": 23,
   "id": "bd5292bd",
   "metadata": {},
   "outputs": [
    {
     "name": "stdout",
     "output_type": "stream",
     "text": [
      "arg1 -> 1\n",
      "arg2 -> Hola Mundo\n"
     ]
    }
   ],
   "source": [
    "funcion3(arg1=1, arg2= \"Hola Mundo\")"
   ]
  },
  {
   "cell_type": "code",
   "execution_count": 24,
   "id": "9ac5e8cf",
   "metadata": {},
   "outputs": [],
   "source": [
    "\"\"\"\n",
    "retorno de valores multiples\n",
    "\n",
    "\"\"\"\n",
    "def devuelveVariosValores():\n",
    "    return 1,2,\"Hola Mundo\""
   ]
  },
  {
   "cell_type": "code",
   "execution_count": 25,
   "id": "7b83144e",
   "metadata": {},
   "outputs": [
    {
     "data": {
      "text/plain": [
       "(1, 2, 'Hola Mundo')"
      ]
     },
     "execution_count": 25,
     "metadata": {},
     "output_type": "execute_result"
    }
   ],
   "source": [
    "devuelveVariosValores()"
   ]
  },
  {
   "cell_type": "code",
   "execution_count": 26,
   "id": "375a630e",
   "metadata": {},
   "outputs": [],
   "source": [
    "\"\"\"\n",
    "Realizar asignación a variables en una función\n",
    "\"\"\"\n",
    "x,v,w = devuelveVariosValores()"
   ]
  },
  {
   "cell_type": "code",
   "execution_count": 28,
   "id": "071d2bf8",
   "metadata": {},
   "outputs": [
    {
     "name": "stdout",
     "output_type": "stream",
     "text": [
      "1\n",
      "2\n",
      "Hola Mundo\n"
     ]
    }
   ],
   "source": [
    "print(x)\n",
    "print(v)\n",
    "print(w)"
   ]
  },
  {
   "cell_type": "code",
   "execution_count": 29,
   "id": "646756ec",
   "metadata": {},
   "outputs": [],
   "source": [
    "\"\"\"\n",
    "documentar funcones docString\n",
    "\"\"\"\n",
    "def cuadrado(numero):\n",
    "    \"\"\"\n",
    "    Esta función permite elevar al cuadrado un numero\n",
    "    \n",
    "    Argumentos:\n",
    "    numero de tipo numero\n",
    "    \n",
    "    \"\"\"\n",
    "    return numero**2"
   ]
  },
  {
   "cell_type": "code",
   "execution_count": 30,
   "id": "648c8683",
   "metadata": {},
   "outputs": [
    {
     "data": {
      "text/plain": [
       "4"
      ]
     },
     "execution_count": 30,
     "metadata": {},
     "output_type": "execute_result"
    }
   ],
   "source": [
    "cuadrado(2)"
   ]
  },
  {
   "cell_type": "code",
   "execution_count": 31,
   "id": "b2ab9be3",
   "metadata": {},
   "outputs": [
    {
     "name": "stdout",
     "output_type": "stream",
     "text": [
      "Help on function cuadrado in module __main__:\n",
      "\n",
      "cuadrado(numero)\n",
      "    Esta función permite elevar al cuadrado un numero\n",
      "    \n",
      "    Argumentos:\n",
      "    numero de tipo numero\n",
      "\n"
     ]
    }
   ],
   "source": [
    "help(cuadrado)"
   ]
  },
  {
   "cell_type": "code",
   "execution_count": null,
   "id": "0fc2496e",
   "metadata": {},
   "outputs": [],
   "source": []
  }
 ],
 "metadata": {
  "kernelspec": {
   "display_name": "Python 3 (ipykernel)",
   "language": "python",
   "name": "python3"
  },
  "language_info": {
   "codemirror_mode": {
    "name": "ipython",
    "version": 3
   },
   "file_extension": ".py",
   "mimetype": "text/x-python",
   "name": "python",
   "nbconvert_exporter": "python",
   "pygments_lexer": "ipython3",
   "version": "3.9.7"
  }
 },
 "nbformat": 4,
 "nbformat_minor": 5
}
