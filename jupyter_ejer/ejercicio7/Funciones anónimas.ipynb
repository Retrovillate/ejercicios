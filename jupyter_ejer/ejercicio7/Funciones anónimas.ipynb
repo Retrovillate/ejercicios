{
 "cells": [
  {
   "cell_type": "code",
   "execution_count": 1,
   "id": "c31d9154",
   "metadata": {},
   "outputs": [],
   "source": [
    "def cuadrado(numero):\n",
    "    resultado = numero**2\n",
    "    return resultado"
   ]
  },
  {
   "cell_type": "code",
   "execution_count": 2,
   "id": "54c2d1d4",
   "metadata": {},
   "outputs": [
    {
     "data": {
      "text/plain": [
       "25"
      ]
     },
     "execution_count": 2,
     "metadata": {},
     "output_type": "execute_result"
    }
   ],
   "source": [
    "cuadrado(5)"
   ]
  },
  {
   "cell_type": "code",
   "execution_count": 7,
   "id": "e8ccc6c6",
   "metadata": {},
   "outputs": [],
   "source": [
    "\"\"\"\n",
    "genera un objeto de funcion \n",
    "\"\"\"\n",
    "cuadradoFuncion =lambda numero : numero**2"
   ]
  },
  {
   "cell_type": "code",
   "execution_count": 9,
   "id": "8e53b9d8",
   "metadata": {},
   "outputs": [
    {
     "data": {
      "text/plain": [
       "9"
      ]
     },
     "execution_count": 9,
     "metadata": {},
     "output_type": "execute_result"
    }
   ],
   "source": [
    "\"\"\"\n",
    "llamado al objeto de funcion\n",
    "\"\"\"\n",
    "cuadradoFuncion(3)"
   ]
  },
  {
   "cell_type": "code",
   "execution_count": 1,
   "id": "df046544",
   "metadata": {},
   "outputs": [],
   "source": [
    "\"\"\"\n",
    "generando una funcion lambda\n",
    "\"\"\"\n",
    "lista = [3,5,7,8,9,78,98]\n",
    "esimpar = lambda numero : numero % 2 != 0"
   ]
  },
  {
   "cell_type": "code",
   "execution_count": 11,
   "id": "fbde9812",
   "metadata": {},
   "outputs": [
    {
     "data": {
      "text/plain": [
       "[3, 5, 7, 9]"
      ]
     },
     "execution_count": 11,
     "metadata": {},
     "output_type": "execute_result"
    }
   ],
   "source": [
    "\"\"\"\n",
    "filtrando la lista con la funcion lambda para obtener los impares\n",
    "\"\"\"\n",
    "list(filter(esimpar,lista))"
   ]
  },
  {
   "cell_type": "code",
   "execution_count": 12,
   "id": "cbcb7a90",
   "metadata": {},
   "outputs": [],
   "source": [
    "import time\n",
    "\n",
    "start_for = time.time()\n",
    "\n",
    "a = range(100000)\n",
    "b=[]\n",
    "\n",
    "for i in a:\n",
    "    if(i % 2 != 0):\n",
    "        b.append(i)\n",
    "end_for = time.time()\n",
    "\n",
    "start_lambda = time.time()\n",
    "\n",
    "esimpar = lambda numero : numero % 2 != 0\n",
    "\n",
    "c = list(filter(esimpar,a))\n",
    "\n",
    "end_lambda = time.time()\n",
    "\n",
    "tiempo_for = end_for - start_for\n",
    "tiempo_lambda = end_lambda - start_lambda "
   ]
  },
  {
   "cell_type": "code",
   "execution_count": 13,
   "id": "0d8726ea",
   "metadata": {},
   "outputs": [
    {
     "data": {
      "text/plain": [
       "0.02094435691833496"
      ]
     },
     "execution_count": 13,
     "metadata": {},
     "output_type": "execute_result"
    }
   ],
   "source": [
    "tiempo_for"
   ]
  },
  {
   "cell_type": "code",
   "execution_count": 14,
   "id": "ee4754ca",
   "metadata": {},
   "outputs": [
    {
     "data": {
      "text/plain": [
       "0.0109710693359375"
      ]
     },
     "execution_count": 14,
     "metadata": {},
     "output_type": "execute_result"
    }
   ],
   "source": [
    "tiempo_lambda"
   ]
  },
  {
   "cell_type": "code",
   "execution_count": 16,
   "id": "7d6d7001",
   "metadata": {},
   "outputs": [
    {
     "data": {
      "text/plain": [
       "[9, 25, 49, 64, 81, 6084, 9604]"
      ]
     },
     "execution_count": 16,
     "metadata": {},
     "output_type": "execute_result"
    }
   ],
   "source": [
    "lista = [3,5,7,8,9,78,98]\n",
    "cuadrado =lambda numero : numero**2\n",
    "\n",
    "list(map(cuadrado, lista))"
   ]
  },
  {
   "cell_type": "code",
   "execution_count": 17,
   "id": "c7c2db99",
   "metadata": {},
   "outputs": [],
   "source": [
    "def calculo(numero_1, numero_2 = 3):\n",
    "    return numero_1 / numero_2"
   ]
  },
  {
   "cell_type": "code",
   "execution_count": 18,
   "id": "58d18709",
   "metadata": {},
   "outputs": [
    {
     "data": {
      "text/plain": [
       "3.3333333333333335"
      ]
     },
     "execution_count": 18,
     "metadata": {},
     "output_type": "execute_result"
    }
   ],
   "source": [
    "calculo(10)"
   ]
  },
  {
   "cell_type": "code",
   "execution_count": null,
   "id": "e7896630",
   "metadata": {},
   "outputs": [],
   "source": []
  }
 ],
 "metadata": {
  "kernelspec": {
   "display_name": "Python 3 (ipykernel)",
   "language": "python",
   "name": "python3"
  },
  "language_info": {
   "codemirror_mode": {
    "name": "ipython",
    "version": 3
   },
   "file_extension": ".py",
   "mimetype": "text/x-python",
   "name": "python",
   "nbconvert_exporter": "python",
   "pygments_lexer": "ipython3",
   "version": "3.9.7"
  }
 },
 "nbformat": 4,
 "nbformat_minor": 5
}
