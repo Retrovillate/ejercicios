{
 "cells": [
  {
   "cell_type": "code",
   "execution_count": 10,
   "id": "3a7756b2",
   "metadata": {},
   "outputs": [
    {
     "data": {
      "text/plain": [
       "1.1154j"
      ]
     },
     "execution_count": 10,
     "metadata": {},
     "output_type": "execute_result"
    }
   ],
   "source": [
    "7.15 * 0.156j"
   ]
  },
  {
   "cell_type": "code",
   "execution_count": 25,
   "id": "d5ebf90a",
   "metadata": {},
   "outputs": [],
   "source": [
    "n = 7.15"
   ]
  },
  {
   "cell_type": "code",
   "execution_count": 26,
   "id": "749b0792",
   "metadata": {},
   "outputs": [
    {
     "name": "stdout",
     "output_type": "stream",
     "text": [
      "7.15\n"
     ]
    }
   ],
   "source": [
    "print(n)"
   ]
  },
  {
   "cell_type": "code",
   "execution_count": 31,
   "id": "b450cfd0",
   "metadata": {},
   "outputs": [],
   "source": [
    "n **= 4"
   ]
  },
  {
   "cell_type": "code",
   "execution_count": 32,
   "id": "4bfead94",
   "metadata": {},
   "outputs": [
    {
     "name": "stdout",
     "output_type": "stream",
     "text": [
      "81\n"
     ]
    }
   ],
   "source": [
    "print(n)"
   ]
  },
  {
   "cell_type": "code",
   "execution_count": 34,
   "id": "16b1d0f6",
   "metadata": {},
   "outputs": [
    {
     "data": {
      "text/plain": [
       "0"
      ]
     },
     "execution_count": 34,
     "metadata": {},
     "output_type": "execute_result"
    }
   ],
   "source": [
    "2 & 5"
   ]
  },
  {
   "cell_type": "code",
   "execution_count": 35,
   "id": "2eba7fb9",
   "metadata": {},
   "outputs": [
    {
     "data": {
      "text/plain": [
       "True"
      ]
     },
     "execution_count": 35,
     "metadata": {},
     "output_type": "execute_result"
    }
   ],
   "source": [
    "True & True"
   ]
  },
  {
   "cell_type": "code",
   "execution_count": 38,
   "id": "634f804c",
   "metadata": {},
   "outputs": [
    {
     "data": {
      "text/plain": [
       "False"
      ]
     },
     "execution_count": 38,
     "metadata": {},
     "output_type": "execute_result"
    }
   ],
   "source": [
    "8 <= 7"
   ]
  },
  {
   "cell_type": "code",
   "execution_count": 40,
   "id": "268c4bc0",
   "metadata": {},
   "outputs": [],
   "source": [
    "mensaje = \"Esto es un mensaje de pruebas para el curso de Python\""
   ]
  },
  {
   "cell_type": "code",
   "execution_count": 42,
   "id": "57af3c87",
   "metadata": {},
   "outputs": [
    {
     "data": {
      "text/plain": [
       "'mensaje '"
      ]
     },
     "execution_count": 42,
     "metadata": {},
     "output_type": "execute_result"
    }
   ],
   "source": [
    "mensaje [11:19]"
   ]
  },
  {
   "cell_type": "code",
   "execution_count": 43,
   "id": "ba0b16a6",
   "metadata": {},
   "outputs": [
    {
     "data": {
      "text/plain": [
       "'Esto es un mensaje '"
      ]
     },
     "execution_count": 43,
     "metadata": {},
     "output_type": "execute_result"
    }
   ],
   "source": [
    "mensaje [:19]"
   ]
  },
  {
   "cell_type": "code",
   "execution_count": 44,
   "id": "7931e385",
   "metadata": {},
   "outputs": [
    {
     "data": {
      "text/plain": [
       "'de pruebas para el curso de Python'"
      ]
     },
     "execution_count": 44,
     "metadata": {},
     "output_type": "execute_result"
    }
   ],
   "source": [
    "mensaje [19:]"
   ]
  },
  {
   "cell_type": "code",
   "execution_count": 45,
   "id": "d050f45d",
   "metadata": {},
   "outputs": [
    {
     "data": {
      "text/plain": [
       "' el curso de Python'"
      ]
     },
     "execution_count": 45,
     "metadata": {},
     "output_type": "execute_result"
    }
   ],
   "source": [
    "mensaje [-19:]"
   ]
  },
  {
   "cell_type": "code",
   "execution_count": 46,
   "id": "c9edcc18",
   "metadata": {},
   "outputs": [
    {
     "data": {
      "text/plain": [
       "'Esto es un mensaje de pruebas para'"
      ]
     },
     "execution_count": 46,
     "metadata": {},
     "output_type": "execute_result"
    }
   ],
   "source": [
    "mensaje [:-19]"
   ]
  },
  {
   "cell_type": "code",
   "execution_count": 50,
   "id": "522c4c20",
   "metadata": {},
   "outputs": [
    {
     "data": {
      "text/plain": [
       "'hola mundo adios mundo'"
      ]
     },
     "execution_count": 50,
     "metadata": {},
     "output_type": "execute_result"
    }
   ],
   "source": [
    "\"hola mundo \" + \"adios mundo\""
   ]
  },
  {
   "cell_type": "code",
   "execution_count": 51,
   "id": "ada38cba",
   "metadata": {},
   "outputs": [
    {
     "data": {
      "text/plain": [
       "'hola mundo hola mundo hola mundo hola mundo hola mundo '"
      ]
     },
     "execution_count": 51,
     "metadata": {},
     "output_type": "execute_result"
    }
   ],
   "source": [
    "\"hola mundo \" * 5"
   ]
  },
  {
   "cell_type": "code",
   "execution_count": 52,
   "id": "8f54a368",
   "metadata": {},
   "outputs": [
    {
     "data": {
      "text/plain": [
       "53"
      ]
     },
     "execution_count": 52,
     "metadata": {},
     "output_type": "execute_result"
    }
   ],
   "source": [
    "len(mensaje)"
   ]
  },
  {
   "cell_type": "code",
   "execution_count": 53,
   "id": "96088363",
   "metadata": {},
   "outputs": [
    {
     "data": {
      "text/plain": [
       "11"
      ]
     },
     "execution_count": 53,
     "metadata": {},
     "output_type": "execute_result"
    }
   ],
   "source": [
    "mensaje.find(\"mensaje\")"
   ]
  },
  {
   "cell_type": "code",
   "execution_count": 54,
   "id": "630f1a1d",
   "metadata": {},
   "outputs": [
    {
     "data": {
      "text/plain": [
       "'ESTO ES UN MENSAJE DE PRUEBAS PARA EL CURSO DE PYTHON'"
      ]
     },
     "execution_count": 54,
     "metadata": {},
     "output_type": "execute_result"
    }
   ],
   "source": [
    "mensaje.upper()"
   ]
  },
  {
   "cell_type": "code",
   "execution_count": 55,
   "id": "19e489d1",
   "metadata": {},
   "outputs": [
    {
     "data": {
      "text/plain": [
       "'esto es un mensaje de pruebas para el curso de python'"
      ]
     },
     "execution_count": 55,
     "metadata": {},
     "output_type": "execute_result"
    }
   ],
   "source": [
    "mensaje.lower()"
   ]
  },
  {
   "cell_type": "code",
   "execution_count": 56,
   "id": "41bc36dd",
   "metadata": {},
   "outputs": [
    {
     "data": {
      "text/plain": [
       "'Esto es un olvido de pruebas para el curso de Python'"
      ]
     },
     "execution_count": 56,
     "metadata": {},
     "output_type": "execute_result"
    }
   ],
   "source": [
    "mensaje.replace(\"mensaje\", \"olvido\")"
   ]
  },
  {
   "cell_type": "code",
   "execution_count": 57,
   "id": "11d98d10",
   "metadata": {},
   "outputs": [],
   "source": [
    "var = None"
   ]
  },
  {
   "cell_type": "code",
   "execution_count": 58,
   "id": "d9b5c729",
   "metadata": {},
   "outputs": [
    {
     "data": {
      "text/plain": [
       "NoneType"
      ]
     },
     "execution_count": 58,
     "metadata": {},
     "output_type": "execute_result"
    }
   ],
   "source": [
    "type(var)"
   ]
  },
  {
   "cell_type": "code",
   "execution_count": 59,
   "id": "a0d30205",
   "metadata": {},
   "outputs": [],
   "source": [
    "valor = 10"
   ]
  },
  {
   "cell_type": "code",
   "execution_count": 60,
   "id": "cf44e2db",
   "metadata": {},
   "outputs": [
    {
     "data": {
      "text/plain": [
       "'10'"
      ]
     },
     "execution_count": 60,
     "metadata": {},
     "output_type": "execute_result"
    }
   ],
   "source": [
    "str(valor)"
   ]
  },
  {
   "cell_type": "code",
   "execution_count": 61,
   "id": "df1a6d35",
   "metadata": {},
   "outputs": [
    {
     "data": {
      "text/plain": [
       "10"
      ]
     },
     "execution_count": 61,
     "metadata": {},
     "output_type": "execute_result"
    }
   ],
   "source": [
    "valor = \"10\"\n",
    "int(valor)"
   ]
  },
  {
   "cell_type": "code",
   "execution_count": 62,
   "id": "1981e28d",
   "metadata": {},
   "outputs": [
    {
     "data": {
      "text/plain": [
       "30.52"
      ]
     },
     "execution_count": 62,
     "metadata": {},
     "output_type": "execute_result"
    }
   ],
   "source": [
    "valor = \"30.52\"\n",
    "float(valor)"
   ]
  },
  {
   "cell_type": "code",
   "execution_count": 63,
   "id": "be9edc2d",
   "metadata": {},
   "outputs": [
    {
     "data": {
      "text/plain": [
       "(10.58+0j)"
      ]
     },
     "execution_count": 63,
     "metadata": {},
     "output_type": "execute_result"
    }
   ],
   "source": [
    "valor = 10.58\n",
    "complex(valor)"
   ]
  },
  {
   "cell_type": "code",
   "execution_count": 64,
   "id": "cf9d1765",
   "metadata": {},
   "outputs": [
    {
     "data": {
      "text/plain": [
       "False"
      ]
     },
     "execution_count": 64,
     "metadata": {},
     "output_type": "execute_result"
    }
   ],
   "source": [
    "bool()"
   ]
  },
  {
   "cell_type": "code",
   "execution_count": 65,
   "id": "cc0bf88b",
   "metadata": {},
   "outputs": [
    {
     "data": {
      "text/plain": [
       "True"
      ]
     },
     "execution_count": 65,
     "metadata": {},
     "output_type": "execute_result"
    }
   ],
   "source": [
    "bool(\"hola\")"
   ]
  },
  {
   "cell_type": "code",
   "execution_count": 66,
   "id": "7495efbc",
   "metadata": {},
   "outputs": [
    {
     "data": {
      "text/plain": [
       "False"
      ]
     },
     "execution_count": 66,
     "metadata": {},
     "output_type": "execute_result"
    }
   ],
   "source": [
    "bool(0)"
   ]
  },
  {
   "cell_type": "code",
   "execution_count": 67,
   "id": "1f39772f",
   "metadata": {},
   "outputs": [
    {
     "data": {
      "text/plain": [
       "False"
      ]
     },
     "execution_count": 67,
     "metadata": {},
     "output_type": "execute_result"
    }
   ],
   "source": [
    "bool(None)"
   ]
  },
  {
   "cell_type": "code",
   "execution_count": null,
   "id": "933485e2",
   "metadata": {},
   "outputs": [],
   "source": []
  }
 ],
 "metadata": {
  "kernelspec": {
   "display_name": "Python 3 (ipykernel)",
   "language": "python",
   "name": "python3"
  },
  "language_info": {
   "codemirror_mode": {
    "name": "ipython",
    "version": 3
   },
   "file_extension": ".py",
   "mimetype": "text/x-python",
   "name": "python",
   "nbconvert_exporter": "python",
   "pygments_lexer": "ipython3",
   "version": "3.9.7"
  }
 },
 "nbformat": 4,
 "nbformat_minor": 5
}
