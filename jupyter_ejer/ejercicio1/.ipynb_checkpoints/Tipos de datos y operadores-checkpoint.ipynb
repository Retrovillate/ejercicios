{
 "cells": [
  {
   "cell_type": "code",
   "execution_count": 10,
   "id": "32371b89",
   "metadata": {},
   "outputs": [
    {
     "data": {
      "text/plain": [
       "1.1154j"
      ]
     },
     "execution_count": 10,
     "metadata": {},
     "output_type": "execute_result"
    }
   ],
   "source": [
    "7.15 * 0.156j"
   ]
  },
  {
   "cell_type": "code",
   "execution_count": 25,
   "id": "77555a9b",
   "metadata": {},
   "outputs": [],
   "source": [
    "n = 7.15"
   ]
  },
  {
   "cell_type": "code",
   "execution_count": 26,
   "id": "f526f074",
   "metadata": {},
   "outputs": [
    {
     "name": "stdout",
     "output_type": "stream",
     "text": [
      "7.15\n"
     ]
    }
   ],
   "source": [
    "print(n)"
   ]
  },
  {
   "cell_type": "code",
   "execution_count": 31,
   "id": "88af1fd1",
   "metadata": {},
   "outputs": [],
   "source": [
    "n **= 4"
   ]
  },
  {
   "cell_type": "code",
   "execution_count": 32,
   "id": "e61dd20d",
   "metadata": {},
   "outputs": [
    {
     "name": "stdout",
     "output_type": "stream",
     "text": [
      "81\n"
     ]
    }
   ],
   "source": [
    "print(n)"
   ]
  },
  {
   "cell_type": "code",
   "execution_count": 34,
   "id": "74ed137a",
   "metadata": {},
   "outputs": [
    {
     "data": {
      "text/plain": [
       "0"
      ]
     },
     "execution_count": 34,
     "metadata": {},
     "output_type": "execute_result"
    }
   ],
   "source": [
    "2 & 5"
   ]
  },
  {
   "cell_type": "code",
   "execution_count": 35,
   "id": "a4a3780c",
   "metadata": {},
   "outputs": [
    {
     "data": {
      "text/plain": [
       "True"
      ]
     },
     "execution_count": 35,
     "metadata": {},
     "output_type": "execute_result"
    }
   ],
   "source": [
    "True & True"
   ]
  },
  {
   "cell_type": "code",
   "execution_count": 38,
   "id": "f4d10c0d",
   "metadata": {},
   "outputs": [
    {
     "data": {
      "text/plain": [
       "False"
      ]
     },
     "execution_count": 38,
     "metadata": {},
     "output_type": "execute_result"
    }
   ],
   "source": [
    "8 <= 7"
   ]
  },
  {
   "cell_type": "code",
   "execution_count": 40,
   "id": "b034c597",
   "metadata": {},
   "outputs": [],
   "source": [
    "mensaje = \"Esto es un mensaje de pruebas para el curso de Python\""
   ]
  },
  {
   "cell_type": "code",
   "execution_count": 42,
   "id": "826aa562",
   "metadata": {},
   "outputs": [
    {
     "data": {
      "text/plain": [
       "'mensaje '"
      ]
     },
     "execution_count": 42,
     "metadata": {},
     "output_type": "execute_result"
    }
   ],
   "source": [
    "mensaje [11:19]"
   ]
  },
  {
   "cell_type": "code",
   "execution_count": 43,
   "id": "ad750758",
   "metadata": {},
   "outputs": [
    {
     "data": {
      "text/plain": [
       "'Esto es un mensaje '"
      ]
     },
     "execution_count": 43,
     "metadata": {},
     "output_type": "execute_result"
    }
   ],
   "source": [
    "mensaje [:19]"
   ]
  },
  {
   "cell_type": "code",
   "execution_count": 44,
   "id": "338ae0c0",
   "metadata": {},
   "outputs": [
    {
     "data": {
      "text/plain": [
       "'de pruebas para el curso de Python'"
      ]
     },
     "execution_count": 44,
     "metadata": {},
     "output_type": "execute_result"
    }
   ],
   "source": [
    "mensaje [19:]"
   ]
  },
  {
   "cell_type": "code",
   "execution_count": 45,
   "id": "41ea211f",
   "metadata": {},
   "outputs": [
    {
     "data": {
      "text/plain": [
       "' el curso de Python'"
      ]
     },
     "execution_count": 45,
     "metadata": {},
     "output_type": "execute_result"
    }
   ],
   "source": [
    "mensaje [-19:]"
   ]
  },
  {
   "cell_type": "code",
   "execution_count": 46,
   "id": "4bbd56ba",
   "metadata": {},
   "outputs": [
    {
     "data": {
      "text/plain": [
       "'Esto es un mensaje de pruebas para'"
      ]
     },
     "execution_count": 46,
     "metadata": {},
     "output_type": "execute_result"
    }
   ],
   "source": [
    "mensaje [:-19]"
   ]
  },
  {
   "cell_type": "code",
   "execution_count": 50,
   "id": "0e5066ba",
   "metadata": {},
   "outputs": [
    {
     "data": {
      "text/plain": [
       "'hola mundo adios mundo'"
      ]
     },
     "execution_count": 50,
     "metadata": {},
     "output_type": "execute_result"
    }
   ],
   "source": [
    "\"hola mundo \" + \"adios mundo\""
   ]
  },
  {
   "cell_type": "code",
   "execution_count": 51,
   "id": "c49964f9",
   "metadata": {},
   "outputs": [
    {
     "data": {
      "text/plain": [
       "'hola mundo hola mundo hola mundo hola mundo hola mundo '"
      ]
     },
     "execution_count": 51,
     "metadata": {},
     "output_type": "execute_result"
    }
   ],
   "source": [
    "\"hola mundo \" * 5"
   ]
  },
  {
   "cell_type": "code",
   "execution_count": 52,
   "id": "e4e8fd28",
   "metadata": {},
   "outputs": [
    {
     "data": {
      "text/plain": [
       "53"
      ]
     },
     "execution_count": 52,
     "metadata": {},
     "output_type": "execute_result"
    }
   ],
   "source": [
    "len(mensaje)"
   ]
  },
  {
   "cell_type": "code",
   "execution_count": 53,
   "id": "eaed37c7",
   "metadata": {},
   "outputs": [
    {
     "data": {
      "text/plain": [
       "11"
      ]
     },
     "execution_count": 53,
     "metadata": {},
     "output_type": "execute_result"
    }
   ],
   "source": [
    "mensaje.find(\"mensaje\")"
   ]
  },
  {
   "cell_type": "code",
   "execution_count": 54,
   "id": "f5d7f6c2",
   "metadata": {},
   "outputs": [
    {
     "data": {
      "text/plain": [
       "'ESTO ES UN MENSAJE DE PRUEBAS PARA EL CURSO DE PYTHON'"
      ]
     },
     "execution_count": 54,
     "metadata": {},
     "output_type": "execute_result"
    }
   ],
   "source": [
    "mensaje.upper()"
   ]
  },
  {
   "cell_type": "code",
   "execution_count": 55,
   "id": "3f4d9085",
   "metadata": {},
   "outputs": [
    {
     "data": {
      "text/plain": [
       "'esto es un mensaje de pruebas para el curso de python'"
      ]
     },
     "execution_count": 55,
     "metadata": {},
     "output_type": "execute_result"
    }
   ],
   "source": [
    "mensaje.lower()"
   ]
  },
  {
   "cell_type": "code",
   "execution_count": 56,
   "id": "c3715d51",
   "metadata": {},
   "outputs": [
    {
     "data": {
      "text/plain": [
       "'Esto es un olvido de pruebas para el curso de Python'"
      ]
     },
     "execution_count": 56,
     "metadata": {},
     "output_type": "execute_result"
    }
   ],
   "source": [
    "mensaje.replace(\"mensaje\", \"olvido\")"
   ]
  },
  {
   "cell_type": "code",
   "execution_count": 57,
   "id": "8da83900",
   "metadata": {},
   "outputs": [],
   "source": [
    "var = None"
   ]
  },
  {
   "cell_type": "code",
   "execution_count": 58,
   "id": "945ef721",
   "metadata": {},
   "outputs": [
    {
     "data": {
      "text/plain": [
       "NoneType"
      ]
     },
     "execution_count": 58,
     "metadata": {},
     "output_type": "execute_result"
    }
   ],
   "source": [
    "type(var)"
   ]
  },
  {
   "cell_type": "code",
   "execution_count": 59,
   "id": "74f45ff7",
   "metadata": {},
   "outputs": [],
   "source": [
    "valor = 10"
   ]
  },
  {
   "cell_type": "code",
   "execution_count": 60,
   "id": "36085914",
   "metadata": {},
   "outputs": [
    {
     "data": {
      "text/plain": [
       "'10'"
      ]
     },
     "execution_count": 60,
     "metadata": {},
     "output_type": "execute_result"
    }
   ],
   "source": [
    "str(valor)"
   ]
  },
  {
   "cell_type": "code",
   "execution_count": 61,
   "id": "13118c02",
   "metadata": {},
   "outputs": [
    {
     "data": {
      "text/plain": [
       "10"
      ]
     },
     "execution_count": 61,
     "metadata": {},
     "output_type": "execute_result"
    }
   ],
   "source": [
    "valor = \"10\"\n",
    "int(valor)"
   ]
  },
  {
   "cell_type": "code",
   "execution_count": 62,
   "id": "3ec8f559",
   "metadata": {},
   "outputs": [
    {
     "data": {
      "text/plain": [
       "30.52"
      ]
     },
     "execution_count": 62,
     "metadata": {},
     "output_type": "execute_result"
    }
   ],
   "source": [
    "valor = \"30.52\"\n",
    "float(valor)"
   ]
  },
  {
   "cell_type": "code",
   "execution_count": 63,
   "id": "7632e8c0",
   "metadata": {},
   "outputs": [
    {
     "data": {
      "text/plain": [
       "(10.58+0j)"
      ]
     },
     "execution_count": 63,
     "metadata": {},
     "output_type": "execute_result"
    }
   ],
   "source": [
    "valor = 10.58\n",
    "complex(valor)"
   ]
  },
  {
   "cell_type": "code",
   "execution_count": 64,
   "id": "4036c05e",
   "metadata": {},
   "outputs": [
    {
     "data": {
      "text/plain": [
       "False"
      ]
     },
     "execution_count": 64,
     "metadata": {},
     "output_type": "execute_result"
    }
   ],
   "source": [
    "bool()"
   ]
  },
  {
   "cell_type": "code",
   "execution_count": 65,
   "id": "c066409e",
   "metadata": {},
   "outputs": [
    {
     "data": {
      "text/plain": [
       "True"
      ]
     },
     "execution_count": 65,
     "metadata": {},
     "output_type": "execute_result"
    }
   ],
   "source": [
    "bool(\"hola\")"
   ]
  },
  {
   "cell_type": "code",
   "execution_count": 66,
   "id": "79e1a07e",
   "metadata": {},
   "outputs": [
    {
     "data": {
      "text/plain": [
       "False"
      ]
     },
     "execution_count": 66,
     "metadata": {},
     "output_type": "execute_result"
    }
   ],
   "source": [
    "bool(0)"
   ]
  },
  {
   "cell_type": "code",
   "execution_count": 67,
   "id": "f2f0ac3f",
   "metadata": {},
   "outputs": [
    {
     "data": {
      "text/plain": [
       "False"
      ]
     },
     "execution_count": 67,
     "metadata": {},
     "output_type": "execute_result"
    }
   ],
   "source": [
    "bool(None)"
   ]
  },
  {
   "cell_type": "code",
   "execution_count": null,
   "id": "04c1693d",
   "metadata": {},
   "outputs": [],
   "source": []
  }
 ],
 "metadata": {
  "kernelspec": {
   "display_name": "Python 3 (ipykernel)",
   "language": "python",
   "name": "python3"
  },
  "language_info": {
   "codemirror_mode": {
    "name": "ipython",
    "version": 3
   },
   "file_extension": ".py",
   "mimetype": "text/x-python",
   "name": "python",
   "nbconvert_exporter": "python",
   "pygments_lexer": "ipython3",
   "version": "3.9.7"
  }
 },
 "nbformat": 4,
 "nbformat_minor": 5
}
