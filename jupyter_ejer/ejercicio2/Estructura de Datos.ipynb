{
 "cells": [
  {
   "cell_type": "code",
   "execution_count": 1,
   "id": "719a756d",
   "metadata": {},
   "outputs": [],
   "source": [
    "# listas\n",
    "\n",
    "lista = [3, 2, 5] # listas de un solo tipo valor\n",
    "\n",
    "lista = [3, \"2\", True] # listas de varios tipos de valor\n",
    "\n",
    "lista = [3, \"Hola mundo\", True]\n",
    "\n",
    "list = [] # lista vacia"
   ]
  },
  {
   "cell_type": "code",
   "execution_count": 11,
   "id": "7afd9314",
   "metadata": {},
   "outputs": [
    {
     "name": "stdout",
     "output_type": "stream",
     "text": [
      "True\n",
      "[3, 'Hola mundo']\n",
      "[3, 'Hola mundo']\n",
      "['Hola mundo', True]\n",
      "[True]\n",
      "[3, 'Hola mundo']\n"
     ]
    }
   ],
   "source": [
    "print(lista[2])\n",
    "print(lista[0:2])\n",
    "print(lista[:2])\n",
    "print(lista[1:])\n",
    "print(lista[-1:])\n",
    "print(lista[:-1])"
   ]
  },
  {
   "cell_type": "code",
   "execution_count": 14,
   "id": "e2c61611",
   "metadata": {},
   "outputs": [
    {
     "name": "stdout",
     "output_type": "stream",
     "text": [
      "3\n",
      "0\n"
     ]
    }
   ],
   "source": [
    "tama =len(lista) # tamaño de la lista\n",
    "print(tama)\n",
    "tamaVacio=len(list)\n",
    "print(tamaVacio)"
   ]
  },
  {
   "cell_type": "code",
   "execution_count": 16,
   "id": "2ad09093",
   "metadata": {},
   "outputs": [
    {
     "data": {
      "text/plain": [
       "2"
      ]
     },
     "execution_count": 16,
     "metadata": {},
     "output_type": "execute_result"
    }
   ],
   "source": [
    "lista.index(True) # devuelve la pos de donde se encuentre el dato en la lista"
   ]
  },
  {
   "cell_type": "code",
   "execution_count": 17,
   "id": "baca6ae5",
   "metadata": {},
   "outputs": [],
   "source": [
    "lista.insert(1, \"Adios mundo\") # inserta un nuevo valor de la lista dado una pos "
   ]
  },
  {
   "cell_type": "code",
   "execution_count": 18,
   "id": "4de0eb87",
   "metadata": {},
   "outputs": [
    {
     "data": {
      "text/plain": [
       "[3, 'Adios mundo', 'Hola mundo', True]"
      ]
     },
     "execution_count": 18,
     "metadata": {},
     "output_type": "execute_result"
    }
   ],
   "source": [
    "lista"
   ]
  },
  {
   "cell_type": "code",
   "execution_count": 19,
   "id": "5bea25ad",
   "metadata": {},
   "outputs": [],
   "source": [
    "lista.append(3) # inserta un nuevo valor al final de la lista"
   ]
  },
  {
   "cell_type": "code",
   "execution_count": 20,
   "id": "0d8db719",
   "metadata": {},
   "outputs": [
    {
     "data": {
      "text/plain": [
       "[3, 'Adios mundo', 'Hola mundo', True, 3]"
      ]
     },
     "execution_count": 20,
     "metadata": {},
     "output_type": "execute_result"
    }
   ],
   "source": [
    "lista"
   ]
  },
  {
   "cell_type": "code",
   "execution_count": 21,
   "id": "91110e24",
   "metadata": {},
   "outputs": [],
   "source": [
    "lista.insert(1, [3, 4]) # insertar listas dentro de otra lista"
   ]
  },
  {
   "cell_type": "code",
   "execution_count": 22,
   "id": "389bc4f4",
   "metadata": {},
   "outputs": [
    {
     "data": {
      "text/plain": [
       "[3, [3, 4], 'Adios mundo', 'Hola mundo', True, 3]"
      ]
     },
     "execution_count": 22,
     "metadata": {},
     "output_type": "execute_result"
    }
   ],
   "source": [
    "lista"
   ]
  },
  {
   "cell_type": "code",
   "execution_count": 23,
   "id": "39dd5d76",
   "metadata": {},
   "outputs": [],
   "source": [
    "lista.append([5, 6]) # insertar al final nuevas listas"
   ]
  },
  {
   "cell_type": "code",
   "execution_count": 24,
   "id": "21fc7714",
   "metadata": {},
   "outputs": [
    {
     "data": {
      "text/plain": [
       "[3, [3, 4], 'Adios mundo', 'Hola mundo', True, 3, [5, 6]]"
      ]
     },
     "execution_count": 24,
     "metadata": {},
     "output_type": "execute_result"
    }
   ],
   "source": [
    "lista"
   ]
  },
  {
   "cell_type": "code",
   "execution_count": 25,
   "id": "788aad22",
   "metadata": {},
   "outputs": [],
   "source": [
    "lista.extend([5, 6]) #inserta a la lista al final valor individual de una lista entregada"
   ]
  },
  {
   "cell_type": "code",
   "execution_count": 26,
   "id": "a05f7dca",
   "metadata": {},
   "outputs": [
    {
     "data": {
      "text/plain": [
       "[3, [3, 4], 'Adios mundo', 'Hola mundo', True, 3, [5, 6], 5, 6]"
      ]
     },
     "execution_count": 26,
     "metadata": {},
     "output_type": "execute_result"
    }
   ],
   "source": [
    "lista"
   ]
  },
  {
   "cell_type": "code",
   "execution_count": 27,
   "id": "778260a7",
   "metadata": {},
   "outputs": [],
   "source": [
    "lista.remove(5) # elimina un elemento dado por una pos de la lista"
   ]
  },
  {
   "cell_type": "code",
   "execution_count": 28,
   "id": "1aa4a5da",
   "metadata": {},
   "outputs": [
    {
     "data": {
      "text/plain": [
       "[3, [3, 4], 'Adios mundo', 'Hola mundo', True, 3, [5, 6], 6]"
      ]
     },
     "execution_count": 28,
     "metadata": {},
     "output_type": "execute_result"
    }
   ],
   "source": [
    "lista"
   ]
  },
  {
   "cell_type": "code",
   "execution_count": 29,
   "id": "331a3b3d",
   "metadata": {},
   "outputs": [
    {
     "data": {
      "text/plain": [
       "1"
      ]
     },
     "execution_count": 29,
     "metadata": {},
     "output_type": "execute_result"
    }
   ],
   "source": [
    "lista.count(\"Hola mundo\") #devuelve la cantidad de vecez que se encuentra repetido ese valor en la lista"
   ]
  },
  {
   "cell_type": "code",
   "execution_count": 30,
   "id": "7a73614b",
   "metadata": {},
   "outputs": [],
   "source": [
    "lista.reverse() #invierte el orden de las pos de cada dato de la lista"
   ]
  },
  {
   "cell_type": "code",
   "execution_count": 31,
   "id": "d8d5f809",
   "metadata": {},
   "outputs": [
    {
     "data": {
      "text/plain": [
       "[6, [5, 6], 3, True, 'Hola mundo', 'Adios mundo', [3, 4], 3]"
      ]
     },
     "execution_count": 31,
     "metadata": {},
     "output_type": "execute_result"
    }
   ],
   "source": [
    "lista"
   ]
  },
  {
   "cell_type": "code",
   "execution_count": 32,
   "id": "1c3e9d90",
   "metadata": {},
   "outputs": [],
   "source": [
    "listaDesOrd = [3, 5, 4, 7, 2]"
   ]
  },
  {
   "cell_type": "code",
   "execution_count": 33,
   "id": "af9c2eaa",
   "metadata": {},
   "outputs": [],
   "source": [
    "listaDesOrd.sort() # orndena  una lista siempre y cuando los datos sean del mismo tipo (menor a mayor)"
   ]
  },
  {
   "cell_type": "code",
   "execution_count": 34,
   "id": "9d9bbd72",
   "metadata": {},
   "outputs": [
    {
     "data": {
      "text/plain": [
       "[2, 3, 4, 5, 7]"
      ]
     },
     "execution_count": 34,
     "metadata": {},
     "output_type": "execute_result"
    }
   ],
   "source": [
    "listaDesOrd"
   ]
  },
  {
   "cell_type": "code",
   "execution_count": 35,
   "id": "01c9b83e",
   "metadata": {},
   "outputs": [],
   "source": [
    "listaDesOrd.sort(reverse = True) # orndena  una lista siempre y cuando los datos sean del mismo tipo (mayor a menor)"
   ]
  },
  {
   "cell_type": "code",
   "execution_count": 36,
   "id": "95216d14",
   "metadata": {},
   "outputs": [
    {
     "data": {
      "text/plain": [
       "[7, 5, 4, 3, 2]"
      ]
     },
     "execution_count": 36,
     "metadata": {},
     "output_type": "execute_result"
    }
   ],
   "source": [
    "listaDesOrd"
   ]
  },
  {
   "cell_type": "code",
   "execution_count": 37,
   "id": "bf5a1e20",
   "metadata": {},
   "outputs": [
    {
     "data": {
      "text/plain": [
       "4"
      ]
     },
     "execution_count": 37,
     "metadata": {},
     "output_type": "execute_result"
    }
   ],
   "source": [
    "listaDesOrd.pop(2) # devuleve el valor de una lista y elimina este dato en la lista mensionada"
   ]
  },
  {
   "cell_type": "code",
   "execution_count": 38,
   "id": "ec8798e0",
   "metadata": {},
   "outputs": [
    {
     "data": {
      "text/plain": [
       "[7, 5, 3, 2]"
      ]
     },
     "execution_count": 38,
     "metadata": {},
     "output_type": "execute_result"
    }
   ],
   "source": [
    "listaDesOrd"
   ]
  },
  {
   "cell_type": "code",
   "execution_count": 39,
   "id": "25acd01f",
   "metadata": {},
   "outputs": [],
   "source": [
    "\"\"\"\n",
    "La diferencia de una tupla a una lista es que la tupla su valor es inmutable\n",
    "\"\"\"\n",
    "tupla = 4, 5, 6, \"Hola mundo\" # empaquetado de tupla"
   ]
  },
  {
   "cell_type": "code",
   "execution_count": 40,
   "id": "cabbfdc5",
   "metadata": {},
   "outputs": [
    {
     "data": {
      "text/plain": [
       "(4, 5, 6, 'Hola mundo')"
      ]
     },
     "execution_count": 40,
     "metadata": {},
     "output_type": "execute_result"
    }
   ],
   "source": [
    "tupla"
   ]
  },
  {
   "cell_type": "code",
   "execution_count": 41,
   "id": "c53c9c1b",
   "metadata": {},
   "outputs": [],
   "source": [
    "v,w,x,y = tupla # desempaquetado de tupla"
   ]
  },
  {
   "cell_type": "code",
   "execution_count": 43,
   "id": "ff67c321",
   "metadata": {},
   "outputs": [
    {
     "name": "stdout",
     "output_type": "stream",
     "text": [
      "4\n",
      "5\n",
      "6\n",
      "Hola mundo\n"
     ]
    }
   ],
   "source": [
    "print(v)\n",
    "print(w)\n",
    "print(x)\n",
    "print(y)"
   ]
  },
  {
   "cell_type": "code",
   "execution_count": null,
   "id": "f4b383ef",
   "metadata": {},
   "outputs": [],
   "source": [
    "\"\"\"\n",
    "Aplica la misma forma de recorrer la lista en la tupla\n",
    "Apica solo las funciones de consulta de la lista en la tupla\n",
    "\"\"\""
   ]
  },
  {
   "cell_type": "code",
   "execution_count": 1,
   "id": "c5e90fc3",
   "metadata": {},
   "outputs": [],
   "source": [
    "# los dicionarios llevan claves y pueden contener diferentes tipos\n",
    "\n",
    "diccionario = {\n",
    "    \n",
    "    \"Clave1\" : \"Hola Mundo\",\n",
    "    \"clave\": 3,\n",
    "    3 : True\n",
    "}"
   ]
  },
  {
   "cell_type": "code",
   "execution_count": 2,
   "id": "13ded228",
   "metadata": {},
   "outputs": [
    {
     "data": {
      "text/plain": [
       "{'Clave1': 'Hola Mundo', 'clave': 3, 3: True}"
      ]
     },
     "execution_count": 2,
     "metadata": {},
     "output_type": "execute_result"
    }
   ],
   "source": [
    "diccionario"
   ]
  },
  {
   "cell_type": "code",
   "execution_count": 3,
   "id": "fcbb50ae",
   "metadata": {},
   "outputs": [
    {
     "data": {
      "text/plain": [
       "'Hola Mundo'"
      ]
     },
     "execution_count": 3,
     "metadata": {},
     "output_type": "execute_result"
    }
   ],
   "source": [
    "diccionario[\"Clave1\"]"
   ]
  },
  {
   "cell_type": "code",
   "execution_count": 4,
   "id": "41f525ba",
   "metadata": {},
   "outputs": [
    {
     "data": {
      "text/plain": [
       "True"
      ]
     },
     "execution_count": 4,
     "metadata": {},
     "output_type": "execute_result"
    }
   ],
   "source": [
    "diccionario[3]"
   ]
  },
  {
   "cell_type": "code",
   "execution_count": 5,
   "id": "719d3b77",
   "metadata": {},
   "outputs": [],
   "source": [
    "diccionario[2] = \"Hola\""
   ]
  },
  {
   "cell_type": "code",
   "execution_count": 6,
   "id": "9c227728",
   "metadata": {},
   "outputs": [
    {
     "data": {
      "text/plain": [
       "{'Clave1': 'Hola Mundo', 'clave': 3, 3: True, 2: 'Hola'}"
      ]
     },
     "execution_count": 6,
     "metadata": {},
     "output_type": "execute_result"
    }
   ],
   "source": [
    "diccionario"
   ]
  },
  {
   "cell_type": "code",
   "execution_count": 7,
   "id": "5b31e0d0",
   "metadata": {},
   "outputs": [],
   "source": [
    "diccionario[\"Clave1\"] = True #asigna valores a una disccionario dado una clave"
   ]
  },
  {
   "cell_type": "code",
   "execution_count": 8,
   "id": "5ea8bd2b",
   "metadata": {},
   "outputs": [
    {
     "data": {
      "text/plain": [
       "{'Clave1': True, 'clave': 3, 3: True, 2: 'Hola'}"
      ]
     },
     "execution_count": 8,
     "metadata": {},
     "output_type": "execute_result"
    }
   ],
   "source": [
    "diccionario"
   ]
  },
  {
   "cell_type": "code",
   "execution_count": 9,
   "id": "2248f7da",
   "metadata": {},
   "outputs": [],
   "source": [
    "del diccionario[\"Clave1\"] #elimina el valor de una clave juanto con la clave en el diccionario"
   ]
  },
  {
   "cell_type": "code",
   "execution_count": 10,
   "id": "c737a2e3",
   "metadata": {},
   "outputs": [
    {
     "data": {
      "text/plain": [
       "{'clave': 3, 3: True, 2: 'Hola'}"
      ]
     },
     "execution_count": 10,
     "metadata": {},
     "output_type": "execute_result"
    }
   ],
   "source": [
    "diccionario"
   ]
  },
  {
   "cell_type": "code",
   "execution_count": 11,
   "id": "b30a1d73",
   "metadata": {},
   "outputs": [
    {
     "data": {
      "text/plain": [
       "['clave', 3, 2]"
      ]
     },
     "execution_count": 11,
     "metadata": {},
     "output_type": "execute_result"
    }
   ],
   "source": [
    "list(diccionario) #convierte el diccionario en una lista con las claves"
   ]
  },
  {
   "cell_type": "code",
   "execution_count": 12,
   "id": "d2a7385c",
   "metadata": {},
   "outputs": [
    {
     "data": {
      "text/plain": [
       "True"
      ]
     },
     "execution_count": 12,
     "metadata": {},
     "output_type": "execute_result"
    }
   ],
   "source": [
    "\"clave\" in diccionario # busca la clave en un diccionario booleano"
   ]
  },
  {
   "cell_type": "code",
   "execution_count": null,
   "id": "95000860",
   "metadata": {},
   "outputs": [],
   "source": [
    "\"\"\"\n",
    "llamado de los conjuntos son similares a las listas pero no se puede repetir el valor de un elemento\n",
    "No se puede acceder por la posición ya que no es una lista ordenada\n",
    "\"\"\""
   ]
  },
  {
   "cell_type": "code",
   "execution_count": 13,
   "id": "292dfca1",
   "metadata": {},
   "outputs": [],
   "source": [
    "conjunto = { \"hola\", \"hola2\",3,5}"
   ]
  },
  {
   "cell_type": "code",
   "execution_count": 14,
   "id": "dcc15307",
   "metadata": {},
   "outputs": [
    {
     "data": {
      "text/plain": [
       "{3, 5, 'hola', 'hola2'}"
      ]
     },
     "execution_count": 14,
     "metadata": {},
     "output_type": "execute_result"
    }
   ],
   "source": [
    "conjunto"
   ]
  },
  {
   "cell_type": "code",
   "execution_count": 15,
   "id": "4b5c6d11",
   "metadata": {},
   "outputs": [],
   "source": [
    "conjunto2 = {4,5,True}"
   ]
  },
  {
   "cell_type": "code",
   "execution_count": 16,
   "id": "96ebcb7b",
   "metadata": {},
   "outputs": [
    {
     "data": {
      "text/plain": [
       "{3, 4, 5, True, 'hola', 'hola2'}"
      ]
     },
     "execution_count": 16,
     "metadata": {},
     "output_type": "execute_result"
    }
   ],
   "source": [
    "conjunto.union(conjunto2) #concatena los conjuntos"
   ]
  },
  {
   "cell_type": "code",
   "execution_count": 17,
   "id": "daf6242c",
   "metadata": {},
   "outputs": [
    {
     "data": {
      "text/plain": [
       "{5}"
      ]
     },
     "execution_count": 17,
     "metadata": {},
     "output_type": "execute_result"
    }
   ],
   "source": [
    "conjunto.intersection(conjunto2) #detecta que elementos se encuentran repetidos en los conjuntos"
   ]
  },
  {
   "cell_type": "code",
   "execution_count": 19,
   "id": "83dfb8ae",
   "metadata": {},
   "outputs": [
    {
     "data": {
      "text/plain": [
       "{3, 'hola', 'hola2'}"
      ]
     },
     "execution_count": 19,
     "metadata": {},
     "output_type": "execute_result"
    }
   ],
   "source": [
    "conjunto.difference(conjunto2) #detecta que elementos no se encuentran repetidos en los conjuntos"
   ]
  },
  {
   "cell_type": "code",
   "execution_count": 20,
   "id": "836eed50",
   "metadata": {},
   "outputs": [
    {
     "data": {
      "text/plain": [
       "True"
      ]
     },
     "execution_count": 20,
     "metadata": {},
     "output_type": "execute_result"
    }
   ],
   "source": [
    "3 in conjunto # busca el valor en un conjunto como booleano"
   ]
  },
  {
   "cell_type": "code",
   "execution_count": 21,
   "id": "ca09604c",
   "metadata": {},
   "outputs": [
    {
     "data": {
      "text/plain": [
       "4"
      ]
     },
     "execution_count": 21,
     "metadata": {},
     "output_type": "execute_result"
    }
   ],
   "source": [
    "len(conjunto) # Tamaño del conjunto"
   ]
  },
  {
   "cell_type": "code",
   "execution_count": 22,
   "id": "dcee01aa",
   "metadata": {},
   "outputs": [],
   "source": [
    "\"\"\"\n",
    "Concatenar Todas las estructuras de datos\n",
    "\n",
    "\"\"\"\n",
    "diccionario = {\n",
    "    \n",
    "    \"Clave1\" : \"Hola Mundo\",\n",
    "    \"clave\": 3,\n",
    "    3 : [3,4,6]\n",
    "}"
   ]
  },
  {
   "cell_type": "code",
   "execution_count": 23,
   "id": "adff7777",
   "metadata": {},
   "outputs": [
    {
     "data": {
      "text/plain": [
       "{'Clave1': 'Hola Mundo', 'clave': 3, 3: [3, 4, 6]}"
      ]
     },
     "execution_count": 23,
     "metadata": {},
     "output_type": "execute_result"
    }
   ],
   "source": [
    "diccionario"
   ]
  },
  {
   "cell_type": "code",
   "execution_count": 24,
   "id": "42b09cbc",
   "metadata": {},
   "outputs": [
    {
     "data": {
      "text/plain": [
       "[3, 4, 6]"
      ]
     },
     "execution_count": 24,
     "metadata": {},
     "output_type": "execute_result"
    }
   ],
   "source": [
    "diccionario[3]"
   ]
  },
  {
   "cell_type": "code",
   "execution_count": 25,
   "id": "569a842f",
   "metadata": {},
   "outputs": [],
   "source": [
    "lista = []"
   ]
  },
  {
   "cell_type": "code",
   "execution_count": 26,
   "id": "840b0ecf",
   "metadata": {},
   "outputs": [],
   "source": [
    "lista.append(diccionario)"
   ]
  },
  {
   "cell_type": "code",
   "execution_count": 27,
   "id": "293687b4",
   "metadata": {},
   "outputs": [
    {
     "data": {
      "text/plain": [
       "[{'Clave1': 'Hola Mundo', 'clave': 3, 3: [3, 4, 6]}]"
      ]
     },
     "execution_count": 27,
     "metadata": {},
     "output_type": "execute_result"
    }
   ],
   "source": [
    "lista"
   ]
  },
  {
   "cell_type": "code",
   "execution_count": 28,
   "id": "76804866",
   "metadata": {},
   "outputs": [],
   "source": [
    "lista.append(3)"
   ]
  },
  {
   "cell_type": "code",
   "execution_count": 29,
   "id": "3f717e1e",
   "metadata": {},
   "outputs": [
    {
     "data": {
      "text/plain": [
       "[{'Clave1': 'Hola Mundo', 'clave': 3, 3: [3, 4, 6]}, 3]"
      ]
     },
     "execution_count": 29,
     "metadata": {},
     "output_type": "execute_result"
    }
   ],
   "source": [
    "lista"
   ]
  },
  {
   "cell_type": "code",
   "execution_count": 27,
   "id": "3107102e",
   "metadata": {},
   "outputs": [],
   "source": [
    "numer = 45545454566 % 23"
   ]
  },
  {
   "cell_type": "code",
   "execution_count": 28,
   "id": "93dec22e",
   "metadata": {},
   "outputs": [
    {
     "data": {
      "text/plain": [
       "1"
      ]
     },
     "execution_count": 28,
     "metadata": {},
     "output_type": "execute_result"
    }
   ],
   "source": [
    "numer"
   ]
  },
  {
   "cell_type": "code",
   "execution_count": 29,
   "id": "71d70809",
   "metadata": {},
   "outputs": [
    {
     "data": {
      "text/plain": [
       "int"
      ]
     },
     "execution_count": 29,
     "metadata": {},
     "output_type": "execute_result"
    }
   ],
   "source": [
    "type(numer)"
   ]
  },
  {
   "cell_type": "code",
   "execution_count": 30,
   "id": "203f21f7",
   "metadata": {},
   "outputs": [],
   "source": [
    "val = type(numer)"
   ]
  },
  {
   "cell_type": "code",
   "execution_count": 31,
   "id": "8ff590d1",
   "metadata": {},
   "outputs": [
    {
     "data": {
      "text/plain": [
       "type"
      ]
     },
     "execution_count": 31,
     "metadata": {},
     "output_type": "execute_result"
    }
   ],
   "source": [
    "type(val)"
   ]
  },
  {
   "cell_type": "code",
   "execution_count": 9,
   "id": "72607ddf",
   "metadata": {},
   "outputs": [],
   "source": [
    "lista = list(range(1,101))"
   ]
  },
  {
   "cell_type": "code",
   "execution_count": 10,
   "id": "ddc6df64",
   "metadata": {},
   "outputs": [
    {
     "data": {
      "text/plain": [
       "[1,\n",
       " 2,\n",
       " 3,\n",
       " 4,\n",
       " 5,\n",
       " 6,\n",
       " 7,\n",
       " 8,\n",
       " 9,\n",
       " 10,\n",
       " 11,\n",
       " 12,\n",
       " 13,\n",
       " 14,\n",
       " 15,\n",
       " 16,\n",
       " 17,\n",
       " 18,\n",
       " 19,\n",
       " 20,\n",
       " 21,\n",
       " 22,\n",
       " 23,\n",
       " 24,\n",
       " 25,\n",
       " 26,\n",
       " 27,\n",
       " 28,\n",
       " 29,\n",
       " 30,\n",
       " 31,\n",
       " 32,\n",
       " 33,\n",
       " 34,\n",
       " 35,\n",
       " 36,\n",
       " 37,\n",
       " 38,\n",
       " 39,\n",
       " 40,\n",
       " 41,\n",
       " 42,\n",
       " 43,\n",
       " 44,\n",
       " 45,\n",
       " 46,\n",
       " 47,\n",
       " 48,\n",
       " 49,\n",
       " 50,\n",
       " 51,\n",
       " 52,\n",
       " 53,\n",
       " 54,\n",
       " 55,\n",
       " 56,\n",
       " 57,\n",
       " 58,\n",
       " 59,\n",
       " 60,\n",
       " 61,\n",
       " 62,\n",
       " 63,\n",
       " 64,\n",
       " 65,\n",
       " 66,\n",
       " 67,\n",
       " 68,\n",
       " 69,\n",
       " 70,\n",
       " 71,\n",
       " 72,\n",
       " 73,\n",
       " 74,\n",
       " 75,\n",
       " 76,\n",
       " 77,\n",
       " 78,\n",
       " 79,\n",
       " 80,\n",
       " 81,\n",
       " 82,\n",
       " 83,\n",
       " 84,\n",
       " 85,\n",
       " 86,\n",
       " 87,\n",
       " 88,\n",
       " 89,\n",
       " 90,\n",
       " 91,\n",
       " 92,\n",
       " 93,\n",
       " 94,\n",
       " 95,\n",
       " 96,\n",
       " 97,\n",
       " 98,\n",
       " 99,\n",
       " 100]"
      ]
     },
     "execution_count": 10,
     "metadata": {},
     "output_type": "execute_result"
    }
   ],
   "source": [
    "lista"
   ]
  },
  {
   "cell_type": "code",
   "execution_count": null,
   "id": "f14fc8b8",
   "metadata": {},
   "outputs": [],
   "source": []
  }
 ],
 "metadata": {
  "kernelspec": {
   "display_name": "Python 3 (ipykernel)",
   "language": "python",
   "name": "python3"
  },
  "language_info": {
   "codemirror_mode": {
    "name": "ipython",
    "version": 3
   },
   "file_extension": ".py",
   "mimetype": "text/x-python",
   "name": "python",
   "nbconvert_exporter": "python",
   "pygments_lexer": "ipython3",
   "version": "3.9.7"
  }
 },
 "nbformat": 4,
 "nbformat_minor": 5
}
