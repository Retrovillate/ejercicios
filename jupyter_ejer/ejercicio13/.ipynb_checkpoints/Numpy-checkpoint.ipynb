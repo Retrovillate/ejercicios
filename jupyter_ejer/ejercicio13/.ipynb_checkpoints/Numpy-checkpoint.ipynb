{
 "cells": [
  {
   "cell_type": "code",
   "execution_count": 1,
   "id": "2772ccb5",
   "metadata": {},
   "outputs": [],
   "source": [
    "# importando la libreria numpy \n",
    "import numpy as np"
   ]
  },
  {
   "cell_type": "code",
   "execution_count": 2,
   "id": "c8fcbf3a",
   "metadata": {},
   "outputs": [],
   "source": [
    "# creación de array en numpy\n",
    "\n",
    "array = np.array([1,2,3,4,5,6])"
   ]
  },
  {
   "cell_type": "code",
   "execution_count": 3,
   "id": "1da3dcc0",
   "metadata": {},
   "outputs": [
    {
     "data": {
      "text/plain": [
       "array([1, 2, 3, 4, 5, 6])"
      ]
     },
     "execution_count": 3,
     "metadata": {},
     "output_type": "execute_result"
    }
   ],
   "source": [
    "array"
   ]
  },
  {
   "cell_type": "code",
   "execution_count": 4,
   "id": "da6e4866",
   "metadata": {},
   "outputs": [
    {
     "data": {
      "text/plain": [
       "4"
      ]
     },
     "execution_count": 4,
     "metadata": {},
     "output_type": "execute_result"
    }
   ],
   "source": [
    "# accediendo especificamemente a un elemento del array\n",
    "array[3]"
   ]
  },
  {
   "cell_type": "code",
   "execution_count": 5,
   "id": "c27957c5",
   "metadata": {},
   "outputs": [],
   "source": [
    "# se puede generar un array con diferentes tipos de valores de una lista\n",
    "array2 = np.array([1,2,\"Hola mundo\",True])"
   ]
  },
  {
   "cell_type": "code",
   "execution_count": 6,
   "id": "0a888a02",
   "metadata": {},
   "outputs": [
    {
     "data": {
      "text/plain": [
       "array(['1', '2', 'Hola mundo', 'True'], dtype='<U11')"
      ]
     },
     "execution_count": 6,
     "metadata": {},
     "output_type": "execute_result"
    }
   ],
   "source": [
    "array2"
   ]
  },
  {
   "cell_type": "code",
   "execution_count": 7,
   "id": "bfc4a658",
   "metadata": {},
   "outputs": [
    {
     "data": {
      "text/plain": [
       "'True'"
      ]
     },
     "execution_count": 7,
     "metadata": {},
     "output_type": "execute_result"
    }
   ],
   "source": [
    "array2[3]"
   ]
  },
  {
   "cell_type": "code",
   "execution_count": 8,
   "id": "497b9a83",
   "metadata": {},
   "outputs": [],
   "source": [
    "# generar una matriz en numpy\n",
    "matriz = np.array([[1,2,3], [4,5,6]])"
   ]
  },
  {
   "cell_type": "code",
   "execution_count": 9,
   "id": "4878c9c1",
   "metadata": {},
   "outputs": [
    {
     "data": {
      "text/plain": [
       "array([[1, 2, 3],\n",
       "       [4, 5, 6]])"
      ]
     },
     "execution_count": 9,
     "metadata": {},
     "output_type": "execute_result"
    }
   ],
   "source": [
    "matriz"
   ]
  },
  {
   "cell_type": "code",
   "execution_count": 12,
   "id": "c3256122",
   "metadata": {},
   "outputs": [
    {
     "name": "stderr",
     "output_type": "stream",
     "text": [
      "C:\\Users\\Admin\\AppData\\Local\\Temp\\ipykernel_3288\\1784233308.py:2: VisibleDeprecationWarning: Creating an ndarray from ragged nested sequences (which is a list-or-tuple of lists-or-tuples-or ndarrays with different lengths or shapes) is deprecated. If you meant to do this, you must specify 'dtype=object' when creating the ndarray.\n",
      "  matriz2 = np.array([[1,2,3], [4,5]])\n"
     ]
    }
   ],
   "source": [
    "# generar una matriz en numpy con diferente cantidad de logitud de filas creando un array de una dimension como lista\n",
    "matriz2 = np.array([[1,2,3], [4,5]])"
   ]
  },
  {
   "cell_type": "code",
   "execution_count": 13,
   "id": "e2b663c2",
   "metadata": {},
   "outputs": [],
   "source": [
    "# calcular rendimiento de la libreria\n",
    "import sys"
   ]
  },
  {
   "cell_type": "code",
   "execution_count": 14,
   "id": "f7061053",
   "metadata": {},
   "outputs": [
    {
     "name": "stdout",
     "output_type": "stream",
     "text": [
      "28000\n",
      "4000\n"
     ]
    }
   ],
   "source": [
    "lista = range(1000)\n",
    "array = np.array(range(1000))\n",
    "\n",
    "# calcular los tamaños que ocupan en memoria los elementos\n",
    "print(sys.getsizeof(1) * len(lista))\n",
    "print(array.size * array.itemsize)"
   ]
  },
  {
   "cell_type": "code",
   "execution_count": 15,
   "id": "c5fae1e8",
   "metadata": {},
   "outputs": [],
   "source": [
    "# calcular el tiempo de ejecución\n",
    "import time"
   ]
  },
  {
   "cell_type": "code",
   "execution_count": 16,
   "id": "b4a6b10b",
   "metadata": {},
   "outputs": [
    {
     "name": "stdout",
     "output_type": "stream",
     "text": [
      "Tiempo: 0.11020994186401367\n",
      "Tiempo: 0.02070474624633789\n"
     ]
    }
   ],
   "source": [
    "lista1 = range(1000000)\n",
    "lista2 = range(1000000)\n",
    "\n",
    "array1 = np.array(range(1000000))\n",
    "array2 = np.array(range(1000000))\n",
    "\n",
    "comienzo = time.time()\n",
    "\n",
    "resultado = [x-y for x,y in zip(lista1, lista2)]\n",
    "\n",
    "final = time.time()\n",
    "\n",
    "print(\"Tiempo: \" + str(final- comienzo))\n",
    "\n",
    "comienzo = time.time()\n",
    "resultado = array1 - array2\n",
    "final = time.time()\n",
    "\n",
    "print(\"Tiempo: \" + str(final- comienzo))"
   ]
  },
  {
   "cell_type": "code",
   "execution_count": 17,
   "id": "24fc3c7d",
   "metadata": {},
   "outputs": [
    {
     "data": {
      "text/plain": [
       "array([0, 0, 0, ..., 0, 0, 0])"
      ]
     },
     "execution_count": 17,
     "metadata": {},
     "output_type": "execute_result"
    }
   ],
   "source": [
    "# funcion aritmetica de numpy de resta debe tener la misma dimencion\n",
    "np.subtract(array1, array2)"
   ]
  },
  {
   "cell_type": "code",
   "execution_count": 18,
   "id": "8a1e6ab8",
   "metadata": {},
   "outputs": [
    {
     "data": {
      "text/plain": [
       "array([      0,       2,       4, ..., 1999994, 1999996, 1999998])"
      ]
     },
     "execution_count": 18,
     "metadata": {},
     "output_type": "execute_result"
    }
   ],
   "source": [
    "# funcion aritmetica de numpy de suma\n",
    "np.add(array1, array2)"
   ]
  },
  {
   "cell_type": "code",
   "execution_count": 19,
   "id": "7def02a3",
   "metadata": {},
   "outputs": [
    {
     "data": {
      "text/plain": [
       "array([1125, 1575,  672])"
      ]
     },
     "execution_count": 19,
     "metadata": {},
     "output_type": "execute_result"
    }
   ],
   "source": [
    "# funcion aritmetica de numpy de multiplicacion\n",
    "\n",
    "arr1 = np.array([25,45,56])\n",
    "arr2 = np.array([45,35,12])\n",
    "\n",
    "np.multiply(arr1,arr2)"
   ]
  },
  {
   "cell_type": "code",
   "execution_count": 20,
   "id": "62733c6f",
   "metadata": {},
   "outputs": [
    {
     "data": {
      "text/plain": [
       "array([0.55555556, 1.28571429, 4.66666667])"
      ]
     },
     "execution_count": 20,
     "metadata": {},
     "output_type": "execute_result"
    }
   ],
   "source": [
    "# funcion aritmetica de numpy de divicion\n",
    "\n",
    "np.divide(arr1,arr2)"
   ]
  },
  {
   "cell_type": "code",
   "execution_count": 21,
   "id": "c74aaed4",
   "metadata": {},
   "outputs": [
    {
     "data": {
      "text/plain": [
       "array([ 1895799737, -2096989579,           0])"
      ]
     },
     "execution_count": 21,
     "metadata": {},
     "output_type": "execute_result"
    }
   ],
   "source": [
    "# funcion aritmetica de numpy que devulve la potencia elevando el primer array a la potencia del segundo\n",
    "\n",
    "np.power(arr1,arr2)"
   ]
  },
  {
   "cell_type": "code",
   "execution_count": 22,
   "id": "bb4845d1",
   "metadata": {},
   "outputs": [
    {
     "data": {
      "text/plain": [
       "array([5.        , 6.70820393, 7.48331477])"
      ]
     },
     "execution_count": 22,
     "metadata": {},
     "output_type": "execute_result"
    }
   ],
   "source": [
    "# funcion aritmetica de numpy que devuleve la raiz cuadrada de cada elemento de un array\n",
    "\n",
    "np.sqrt(arr1)"
   ]
  },
  {
   "cell_type": "code",
   "execution_count": 23,
   "id": "57707ed6",
   "metadata": {},
   "outputs": [
    {
     "data": {
      "text/plain": [
       "array([ 625, 2025, 3136])"
      ]
     },
     "execution_count": 23,
     "metadata": {},
     "output_type": "execute_result"
    }
   ],
   "source": [
    "# funcion aritmetica de numpy que eleva al cudrado cada elemento de un array\n",
    "\n",
    "np.square(arr1)"
   ]
  },
  {
   "cell_type": "code",
   "execution_count": 24,
   "id": "8abac94b",
   "metadata": {},
   "outputs": [
    {
     "data": {
      "text/plain": [
       "array([5, 5, 4])"
      ]
     },
     "execution_count": 24,
     "metadata": {},
     "output_type": "execute_result"
    }
   ],
   "source": [
    "# funcion aritmetica de numpy que devuelve el maximo comun divisor de dos array elemento a elemento\n",
    "\n",
    "np.gcd(arr1,arr2)"
   ]
  },
  {
   "cell_type": "code",
   "execution_count": 25,
   "id": "ffd90db1",
   "metadata": {},
   "outputs": [
    {
     "data": {
      "text/plain": [
       "array([225, 315, 168])"
      ]
     },
     "execution_count": 25,
     "metadata": {},
     "output_type": "execute_result"
    }
   ],
   "source": [
    "# funcion aritmetica de numpy que devulve el minimo comun multiplo de dos array elemento a elemento\n",
    "\n",
    "np.lcm(arr1,arr2)"
   ]
  },
  {
   "cell_type": "code",
   "execution_count": 26,
   "id": "14b10eaf",
   "metadata": {},
   "outputs": [
    {
     "data": {
      "text/plain": [
       "array([False,  True,  True])"
      ]
     },
     "execution_count": 26,
     "metadata": {},
     "output_type": "execute_result"
    }
   ],
   "source": [
    "# funcion aritmetica de numpy que compara dos arrays y devulve un booleano si el numero del array 1 es  mayor al array 2\n",
    "\n",
    "np.greater(arr1,arr2)"
   ]
  },
  {
   "cell_type": "code",
   "execution_count": 27,
   "id": "07d7a979",
   "metadata": {},
   "outputs": [
    {
     "data": {
      "text/plain": [
       "array([False,  True,  True])"
      ]
     },
     "execution_count": 27,
     "metadata": {},
     "output_type": "execute_result"
    }
   ],
   "source": [
    "np.greater_equal(arr1,arr2)"
   ]
  },
  {
   "cell_type": "code",
   "execution_count": 28,
   "id": "005dbbfe",
   "metadata": {},
   "outputs": [
    {
     "data": {
      "text/plain": [
       "array([ True, False, False])"
      ]
     },
     "execution_count": 28,
     "metadata": {},
     "output_type": "execute_result"
    }
   ],
   "source": [
    "# funcion aritmetica de numpy que compara dos arrays y devulve un booleano si el numero del array 1 es menor al array 2\n",
    "\n",
    "np.less(arr1,arr2)"
   ]
  },
  {
   "cell_type": "code",
   "execution_count": 29,
   "id": "8036777a",
   "metadata": {},
   "outputs": [
    {
     "data": {
      "text/plain": [
       "array([ True, False, False])"
      ]
     },
     "execution_count": 29,
     "metadata": {},
     "output_type": "execute_result"
    }
   ],
   "source": [
    "np.less_equal(arr1,arr2)"
   ]
  },
  {
   "cell_type": "code",
   "execution_count": 30,
   "id": "ca90dbaf",
   "metadata": {},
   "outputs": [
    {
     "data": {
      "text/plain": [
       "array([False, False, False])"
      ]
     },
     "execution_count": 30,
     "metadata": {},
     "output_type": "execute_result"
    }
   ],
   "source": [
    "# funcion aritmetica de numpy que compara dos arrays y devulve un booleano si el numero del array 1 es igual al array 2\n",
    "\n",
    "np.equal(arr1,arr2)"
   ]
  },
  {
   "cell_type": "code",
   "execution_count": 31,
   "id": "c9b51e6c",
   "metadata": {},
   "outputs": [
    {
     "data": {
      "text/plain": [
       "array([ True,  True,  True])"
      ]
     },
     "execution_count": 31,
     "metadata": {},
     "output_type": "execute_result"
    }
   ],
   "source": [
    "# funcion aritmetica de numpy que compara dos arrays y devulve un booleano si el numero del array 1 no es igual al array 2\n",
    "\n",
    "np.not_equal(arr1,arr2)"
   ]
  },
  {
   "cell_type": "code",
   "execution_count": 32,
   "id": "f8d76872",
   "metadata": {},
   "outputs": [
    {
     "data": {
      "text/plain": [
       "array([ True, False, False])"
      ]
     },
     "execution_count": 32,
     "metadata": {},
     "output_type": "execute_result"
    }
   ],
   "source": [
    "# realiza la funcion logica and  con dos array para cada uno de los elementos\n",
    "\n",
    "arratBool1 = np.array([True, True, False])\n",
    "arratBool2 = np.array([True, False, True])\n",
    "\n",
    "np.logical_and(arratBool1, arratBool2)"
   ]
  },
  {
   "cell_type": "code",
   "execution_count": 34,
   "id": "da895ada",
   "metadata": {},
   "outputs": [
    {
     "data": {
      "text/plain": [
       "array([ True,  True,  True])"
      ]
     },
     "execution_count": 34,
     "metadata": {},
     "output_type": "execute_result"
    }
   ],
   "source": [
    "# realiza la funcion logica or con dos array para cada uno de los elementos\n",
    "\n",
    "np.logical_or(arratBool1, arratBool2)"
   ]
  },
  {
   "cell_type": "code",
   "execution_count": 35,
   "id": "e455e168",
   "metadata": {},
   "outputs": [
    {
     "data": {
      "text/plain": [
       "array([False,  True,  True])"
      ]
     },
     "execution_count": 35,
     "metadata": {},
     "output_type": "execute_result"
    }
   ],
   "source": [
    "# realiza la funcion logica xor con dos array para cada uno de los elementos\n",
    "\n",
    "np.logical_xor(arratBool1, arratBool2)"
   ]
  },
  {
   "cell_type": "code",
   "execution_count": 36,
   "id": "b977a00b",
   "metadata": {},
   "outputs": [
    {
     "data": {
      "text/plain": [
       "array([False, False,  True])"
      ]
     },
     "execution_count": 36,
     "metadata": {},
     "output_type": "execute_result"
    }
   ],
   "source": [
    "# realiza la funcion logica not invirtiendo los valores de los elementos\n",
    "\n",
    "np.logical_not(arratBool1)"
   ]
  },
  {
   "cell_type": "code",
   "execution_count": 38,
   "id": "1c466fdf",
   "metadata": {},
   "outputs": [
    {
     "data": {
      "text/plain": [
       "25"
      ]
     },
     "execution_count": 38,
     "metadata": {},
     "output_type": "execute_result"
    }
   ],
   "source": [
    "\"\"\"\n",
    "Funciones estadisticas\n",
    "\n",
    "devuelve el valor minimo de una lista o matriz\n",
    "\n",
    "\"\"\"\n",
    "\n",
    "arr1 = np.array([25,45,56])\n",
    "arr2 = np.array([[45,35,12], [25,45,56]])\n",
    "\n",
    "np.amin(arr1)"
   ]
  },
  {
   "cell_type": "code",
   "execution_count": 39,
   "id": "3a6a4c0a",
   "metadata": {},
   "outputs": [
    {
     "data": {
      "text/plain": [
       "12"
      ]
     },
     "execution_count": 39,
     "metadata": {},
     "output_type": "execute_result"
    }
   ],
   "source": [
    "np.amin(arr2)"
   ]
  },
  {
   "cell_type": "code",
   "execution_count": 40,
   "id": "4f14977e",
   "metadata": {},
   "outputs": [
    {
     "data": {
      "text/plain": [
       "56"
      ]
     },
     "execution_count": 40,
     "metadata": {},
     "output_type": "execute_result"
    }
   ],
   "source": [
    "# devuelve el valor maximo de una lista o matriz\n",
    "np.amax(arr1)"
   ]
  },
  {
   "cell_type": "code",
   "execution_count": 41,
   "id": "3f0bc5c6",
   "metadata": {},
   "outputs": [
    {
     "data": {
      "text/plain": [
       "56"
      ]
     },
     "execution_count": 41,
     "metadata": {},
     "output_type": "execute_result"
    }
   ],
   "source": [
    "np.amax(arr2)"
   ]
  },
  {
   "cell_type": "code",
   "execution_count": 42,
   "id": "e6f82236",
   "metadata": {},
   "outputs": [
    {
     "data": {
      "text/plain": [
       "3.25"
      ]
     },
     "execution_count": 42,
     "metadata": {},
     "output_type": "execute_result"
    }
   ],
   "source": [
    "# devulve el persentil de una lista o matriz con rangos a trabajar (filas = 1, columnas =2)\n",
    "\n",
    "arrayPer = [1,2,3,4,5,6,7,8,9,10]\n",
    "\n",
    "np.percentile(arrayPer, 25)"
   ]
  },
  {
   "cell_type": "code",
   "execution_count": 43,
   "id": "33ec445d",
   "metadata": {},
   "outputs": [
    {
     "data": {
      "text/plain": [
       "5.5"
      ]
     },
     "execution_count": 43,
     "metadata": {},
     "output_type": "execute_result"
    }
   ],
   "source": [
    "# devuleve la mediana de una lista o matriz \n",
    "\n",
    "np.median(arrayPer)"
   ]
  },
  {
   "cell_type": "code",
   "execution_count": 44,
   "id": "24d87148",
   "metadata": {},
   "outputs": [
    {
     "data": {
      "text/plain": [
       "5.5"
      ]
     },
     "execution_count": 44,
     "metadata": {},
     "output_type": "execute_result"
    }
   ],
   "source": [
    "# devulve la media de una lista o matriz\n",
    "np.mean(arrayPer)"
   ]
  },
  {
   "cell_type": "code",
   "execution_count": 46,
   "id": "2a243272",
   "metadata": {},
   "outputs": [
    {
     "data": {
      "text/plain": [
       "6.3090909090909095"
      ]
     },
     "execution_count": 46,
     "metadata": {},
     "output_type": "execute_result"
    }
   ],
   "source": [
    "# devuleve la media ponderada de una lista o matriz\n",
    "\n",
    "arrayPesos = np.array([3,2,5,4,6,7,8,9,1,10])\n",
    "\n",
    "np.average(arrayPer, weights = arrayPesos)"
   ]
  },
  {
   "cell_type": "code",
   "execution_count": 47,
   "id": "b04ce4de",
   "metadata": {},
   "outputs": [
    {
     "data": {
      "text/plain": [
       "2.8722813232690143"
      ]
     },
     "execution_count": 47,
     "metadata": {},
     "output_type": "execute_result"
    }
   ],
   "source": [
    "# devulve la desviacion estandar para una lista o matriz\n",
    "\n",
    "np.std(arrayPer)"
   ]
  },
  {
   "cell_type": "code",
   "execution_count": 48,
   "id": "293d57ed",
   "metadata": {},
   "outputs": [
    {
     "data": {
      "text/plain": [
       "8.25"
      ]
     },
     "execution_count": 48,
     "metadata": {},
     "output_type": "execute_result"
    }
   ],
   "source": [
    "# devulve la desviacion varinza para una lista o matriz\n",
    "\n",
    "np.var(arrayPer)"
   ]
  },
  {
   "cell_type": "code",
   "execution_count": null,
   "id": "fb4156f3",
   "metadata": {},
   "outputs": [],
   "source": []
  }
 ],
 "metadata": {
  "kernelspec": {
   "display_name": "Python 3 (ipykernel)",
   "language": "python",
   "name": "python3"
  },
  "language_info": {
   "codemirror_mode": {
    "name": "ipython",
    "version": 3
   },
   "file_extension": ".py",
   "mimetype": "text/x-python",
   "name": "python",
   "nbconvert_exporter": "python",
   "pygments_lexer": "ipython3",
   "version": "3.9.7"
  }
 },
 "nbformat": 4,
 "nbformat_minor": 5
}
