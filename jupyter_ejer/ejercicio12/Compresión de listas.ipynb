{
 "cells": [
  {
   "cell_type": "code",
   "execution_count": 1,
   "id": "016f68fb",
   "metadata": {},
   "outputs": [],
   "source": [
    "list = []\n",
    "\n",
    "for i in range (1, 11):\n",
    "    list.append(i**2)"
   ]
  },
  {
   "cell_type": "code",
   "execution_count": 2,
   "id": "57467fea",
   "metadata": {},
   "outputs": [
    {
     "data": {
      "text/plain": [
       "[1, 4, 9, 16, 25, 36, 49, 64, 81, 100]"
      ]
     },
     "execution_count": 2,
     "metadata": {},
     "output_type": "execute_result"
    }
   ],
   "source": [
    "list"
   ]
  },
  {
   "cell_type": "code",
   "execution_count": 3,
   "id": "e6737936",
   "metadata": {},
   "outputs": [],
   "source": [
    "\"\"\"\n",
    "Comprecion de listas se le pone un expresion a realizar seguida de un ciclo for\n",
    "\n",
    "\"\"\"\n",
    "list2 =[]\n",
    "list2= [i**2 for i in range(1,11)]"
   ]
  },
  {
   "cell_type": "code",
   "execution_count": 4,
   "id": "6579fd65",
   "metadata": {},
   "outputs": [
    {
     "data": {
      "text/plain": [
       "[1, 4, 9, 16, 25, 36, 49, 64, 81, 100]"
      ]
     },
     "execution_count": 4,
     "metadata": {},
     "output_type": "execute_result"
    }
   ],
   "source": [
    "list2"
   ]
  },
  {
   "cell_type": "code",
   "execution_count": 5,
   "id": "4738e997",
   "metadata": {},
   "outputs": [],
   "source": [
    "\"\"\"\n",
    "Comprecion de listas se le pone un expresion a realizar seguida de un ciclo for\n",
    "con una condicion\n",
    "\"\"\"\n",
    "list2 =[]\n",
    "list2= [i**2 for i in range(1,11) if i> 5]"
   ]
  },
  {
   "cell_type": "code",
   "execution_count": 6,
   "id": "7c07f264",
   "metadata": {},
   "outputs": [
    {
     "data": {
      "text/plain": [
       "[36, 49, 64, 81, 100]"
      ]
     },
     "execution_count": 6,
     "metadata": {},
     "output_type": "execute_result"
    }
   ],
   "source": [
    "list2"
   ]
  },
  {
   "cell_type": "code",
   "execution_count": 7,
   "id": "a7bdae72",
   "metadata": {},
   "outputs": [],
   "source": [
    "\"\"\"\n",
    "Compreción con diccionarios\n",
    "\"\"\"\n",
    "list3 = {\"clave \" + str(i): i**2 for i in range(1,11)}"
   ]
  },
  {
   "cell_type": "code",
   "execution_count": 8,
   "id": "1db7e5d7",
   "metadata": {},
   "outputs": [
    {
     "data": {
      "text/plain": [
       "{'clave 1': 1,\n",
       " 'clave 2': 4,\n",
       " 'clave 3': 9,\n",
       " 'clave 4': 16,\n",
       " 'clave 5': 25,\n",
       " 'clave 6': 36,\n",
       " 'clave 7': 49,\n",
       " 'clave 8': 64,\n",
       " 'clave 9': 81,\n",
       " 'clave 10': 100}"
      ]
     },
     "execution_count": 8,
     "metadata": {},
     "output_type": "execute_result"
    }
   ],
   "source": [
    "list3"
   ]
  },
  {
   "cell_type": "code",
   "execution_count": 9,
   "id": "2c7a4f64",
   "metadata": {},
   "outputs": [],
   "source": [
    "\"\"\"\n",
    "Compreción con diccionarios agrgando condición\n",
    "\"\"\"\n",
    "list3 = {\"clave \" + str(i): i**2 for i in range(1,11) if i>2}"
   ]
  },
  {
   "cell_type": "code",
   "execution_count": 10,
   "id": "00da89a3",
   "metadata": {},
   "outputs": [
    {
     "data": {
      "text/plain": [
       "{'clave 3': 9,\n",
       " 'clave 4': 16,\n",
       " 'clave 5': 25,\n",
       " 'clave 6': 36,\n",
       " 'clave 7': 49,\n",
       " 'clave 8': 64,\n",
       " 'clave 9': 81,\n",
       " 'clave 10': 100}"
      ]
     },
     "execution_count": 10,
     "metadata": {},
     "output_type": "execute_result"
    }
   ],
   "source": [
    "list3"
   ]
  },
  {
   "cell_type": "code",
   "execution_count": 11,
   "id": "8d0be7c6",
   "metadata": {},
   "outputs": [],
   "source": [
    "\"\"\"\n",
    "Compreción con conjuntos\n",
    "\"\"\"\n",
    "conjunto = {i**2 for i in range(1,11)}"
   ]
  },
  {
   "cell_type": "code",
   "execution_count": 12,
   "id": "cfbaf94e",
   "metadata": {},
   "outputs": [
    {
     "data": {
      "text/plain": [
       "{1, 4, 9, 16, 25, 36, 49, 64, 81, 100}"
      ]
     },
     "execution_count": 12,
     "metadata": {},
     "output_type": "execute_result"
    }
   ],
   "source": [
    "conjunto"
   ]
  },
  {
   "cell_type": "code",
   "execution_count": 13,
   "id": "d923c845",
   "metadata": {},
   "outputs": [],
   "source": [
    "\"\"\"\n",
    "Compreción con conjuntos con condición\n",
    "\"\"\"\n",
    "conjunto = {i**2 for i in range(1,11) if i<4}"
   ]
  },
  {
   "cell_type": "code",
   "execution_count": 14,
   "id": "b6e8eeb6",
   "metadata": {},
   "outputs": [
    {
     "data": {
      "text/plain": [
       "{1, 4, 9}"
      ]
     },
     "execution_count": 14,
     "metadata": {},
     "output_type": "execute_result"
    }
   ],
   "source": [
    "conjunto"
   ]
  },
  {
   "cell_type": "code",
   "execution_count": 16,
   "id": "11b098f4",
   "metadata": {},
   "outputs": [
    {
     "data": {
      "text/plain": [
       "'Buenos días me gusta estudiar Python'"
      ]
     },
     "execution_count": 16,
     "metadata": {},
     "output_type": "execute_result"
    }
   ],
   "source": [
    "import re\n",
    "mensaje = 'Hola, me gusta estudiar Python'\n",
    "\n",
    "re.sub('\\w{4},', 'Buenos días', mensaje)"
   ]
  },
  {
   "cell_type": "code",
   "execution_count": 21,
   "id": "fcad9723",
   "metadata": {},
   "outputs": [
    {
     "data": {
      "text/plain": [
       "['10', '12', '2', '2', '4', '128']"
      ]
     },
     "execution_count": 21,
     "metadata": {},
     "output_type": "execute_result"
    }
   ],
   "source": [
    "string = 'Hoy hemos comido 10 personas un menú de 12 euros. y 2 niños 2 bocadillos de 4 euros. En total pagamos 128 euros.'\n",
    "re.findall('\\d+', string)\n"
   ]
  },
  {
   "cell_type": "code",
   "execution_count": 22,
   "id": "8ea1e0df",
   "metadata": {},
   "outputs": [
    {
     "name": "stdout",
     "output_type": "stream",
     "text": [
      "Error 2\n"
     ]
    }
   ],
   "source": [
    "try:\n",
    "\n",
    "    'Hola'+ 5\n",
    "\n",
    "except ValueError:\n",
    "\n",
    "    print('Error 1')\n",
    "\n",
    "except TypeError:\n",
    "\n",
    "    print('Error 2')\n",
    "\n",
    "except:\n",
    "\n",
    "    print('Error 3')"
   ]
  },
  {
   "cell_type": "code",
   "execution_count": 25,
   "id": "5318abe0",
   "metadata": {},
   "outputs": [
    {
     "ename": "SyntaxError",
     "evalue": "invalid syntax (1501429247.py, line 2)",
     "output_type": "error",
     "traceback": [
      "\u001b[1;36m  Cell \u001b[1;32mIn[25], line 2\u001b[1;36m\u001b[0m\n\u001b[1;33m    lista = list(range(1,10)) [x / 2 for x in lista if x * 4 < 15]\u001b[0m\n\u001b[1;37m                                     ^\u001b[0m\n\u001b[1;31mSyntaxError\u001b[0m\u001b[1;31m:\u001b[0m invalid syntax\n"
     ]
    }
   ],
   "source": [
    "lista =[]\n",
    "lista = list(range(1,10)) [x / 2 for x in lista if x * 4 < 15]"
   ]
  },
  {
   "cell_type": "code",
   "execution_count": null,
   "id": "730cc641",
   "metadata": {},
   "outputs": [],
   "source": []
  }
 ],
 "metadata": {
  "kernelspec": {
   "display_name": "Python 3 (ipykernel)",
   "language": "python",
   "name": "python3"
  },
  "language_info": {
   "codemirror_mode": {
    "name": "ipython",
    "version": 3
   },
   "file_extension": ".py",
   "mimetype": "text/x-python",
   "name": "python",
   "nbconvert_exporter": "python",
   "pygments_lexer": "ipython3",
   "version": "3.9.7"
  }
 },
 "nbformat": 4,
 "nbformat_minor": 5
}
