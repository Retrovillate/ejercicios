{
 "cells": [
  {
   "cell_type": "code",
   "execution_count": 1,
   "id": "89f942ba",
   "metadata": {},
   "outputs": [],
   "source": [
    "list = []\n",
    "\n",
    "for i in range (1, 11):\n",
    "    list.append(i**2)"
   ]
  },
  {
   "cell_type": "code",
   "execution_count": 2,
   "id": "f9c08d65",
   "metadata": {},
   "outputs": [
    {
     "data": {
      "text/plain": [
       "[1, 4, 9, 16, 25, 36, 49, 64, 81, 100]"
      ]
     },
     "execution_count": 2,
     "metadata": {},
     "output_type": "execute_result"
    }
   ],
   "source": [
    "list"
   ]
  },
  {
   "cell_type": "code",
   "execution_count": 3,
   "id": "2d69358f",
   "metadata": {},
   "outputs": [],
   "source": [
    "\"\"\"\n",
    "Comprecion de listas se le pone un expresion a realizar seguida de un ciclo for\n",
    "\n",
    "\"\"\"\n",
    "list2 =[]\n",
    "list2= [i**2 for i in range(1,11)]"
   ]
  },
  {
   "cell_type": "code",
   "execution_count": 4,
   "id": "961b05b1",
   "metadata": {},
   "outputs": [
    {
     "data": {
      "text/plain": [
       "[1, 4, 9, 16, 25, 36, 49, 64, 81, 100]"
      ]
     },
     "execution_count": 4,
     "metadata": {},
     "output_type": "execute_result"
    }
   ],
   "source": [
    "list2"
   ]
  },
  {
   "cell_type": "code",
   "execution_count": 5,
   "id": "6b4a4bda",
   "metadata": {},
   "outputs": [],
   "source": [
    "\"\"\"\n",
    "Comprecion de listas se le pone un expresion a realizar seguida de un ciclo for\n",
    "con una condicion\n",
    "\"\"\"\n",
    "list2 =[]\n",
    "list2= [i**2 for i in range(1,11) if i> 5]"
   ]
  },
  {
   "cell_type": "code",
   "execution_count": 6,
   "id": "5ae21081",
   "metadata": {},
   "outputs": [
    {
     "data": {
      "text/plain": [
       "[36, 49, 64, 81, 100]"
      ]
     },
     "execution_count": 6,
     "metadata": {},
     "output_type": "execute_result"
    }
   ],
   "source": [
    "list2"
   ]
  },
  {
   "cell_type": "code",
   "execution_count": 7,
   "id": "476fc624",
   "metadata": {},
   "outputs": [],
   "source": [
    "\"\"\"\n",
    "Compreción con diccionarios\n",
    "\"\"\"\n",
    "list3 = {\"clave \" + str(i): i**2 for i in range(1,11)}"
   ]
  },
  {
   "cell_type": "code",
   "execution_count": 8,
   "id": "1dd575f1",
   "metadata": {},
   "outputs": [
    {
     "data": {
      "text/plain": [
       "{'clave 1': 1,\n",
       " 'clave 2': 4,\n",
       " 'clave 3': 9,\n",
       " 'clave 4': 16,\n",
       " 'clave 5': 25,\n",
       " 'clave 6': 36,\n",
       " 'clave 7': 49,\n",
       " 'clave 8': 64,\n",
       " 'clave 9': 81,\n",
       " 'clave 10': 100}"
      ]
     },
     "execution_count": 8,
     "metadata": {},
     "output_type": "execute_result"
    }
   ],
   "source": [
    "list3"
   ]
  },
  {
   "cell_type": "code",
   "execution_count": 9,
   "id": "984b078c",
   "metadata": {},
   "outputs": [],
   "source": [
    "\"\"\"\n",
    "Compreción con diccionarios agrgando condición\n",
    "\"\"\"\n",
    "list3 = {\"clave \" + str(i): i**2 for i in range(1,11) if i>2}"
   ]
  },
  {
   "cell_type": "code",
   "execution_count": 10,
   "id": "e8ef9b5a",
   "metadata": {},
   "outputs": [
    {
     "data": {
      "text/plain": [
       "{'clave 3': 9,\n",
       " 'clave 4': 16,\n",
       " 'clave 5': 25,\n",
       " 'clave 6': 36,\n",
       " 'clave 7': 49,\n",
       " 'clave 8': 64,\n",
       " 'clave 9': 81,\n",
       " 'clave 10': 100}"
      ]
     },
     "execution_count": 10,
     "metadata": {},
     "output_type": "execute_result"
    }
   ],
   "source": [
    "list3"
   ]
  },
  {
   "cell_type": "code",
   "execution_count": null,
   "id": "db41098e",
   "metadata": {},
   "outputs": [],
   "source": []
  }
 ],
 "metadata": {
  "kernelspec": {
   "display_name": "Python 3 (ipykernel)",
   "language": "python",
   "name": "python3"
  },
  "language_info": {
   "codemirror_mode": {
    "name": "ipython",
    "version": 3
   },
   "file_extension": ".py",
   "mimetype": "text/x-python",
   "name": "python",
   "nbconvert_exporter": "python",
   "pygments_lexer": "ipython3",
   "version": "3.9.7"
  }
 },
 "nbformat": 4,
 "nbformat_minor": 5
}
