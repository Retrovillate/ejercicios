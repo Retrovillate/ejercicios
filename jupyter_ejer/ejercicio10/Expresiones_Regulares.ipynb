{
 "cells": [
  {
   "cell_type": "code",
   "execution_count": 1,
   "id": "ceebb2d6",
   "metadata": {},
   "outputs": [],
   "source": [
    "import re"
   ]
  },
  {
   "cell_type": "code",
   "execution_count": 11,
   "id": "978cf881",
   "metadata": {},
   "outputs": [],
   "source": [
    "mensaje = \"Esto es un mensaje de ejemplo del curso de python.\"\n",
    "\n",
    "match = re.search(\"curso\", mensaje)"
   ]
  },
  {
   "cell_type": "code",
   "execution_count": 12,
   "id": "efec2541",
   "metadata": {},
   "outputs": [
    {
     "data": {
      "text/plain": [
       "<re.Match object; span=(34, 39), match='curso'>"
      ]
     },
     "execution_count": 12,
     "metadata": {},
     "output_type": "execute_result"
    }
   ],
   "source": [
    "# objeto math de busquedas\n",
    "match"
   ]
  },
  {
   "cell_type": "code",
   "execution_count": 13,
   "id": "827c64bb",
   "metadata": {},
   "outputs": [
    {
     "data": {
      "text/plain": [
       "34"
      ]
     },
     "execution_count": 13,
     "metadata": {},
     "output_type": "execute_result"
    }
   ],
   "source": [
    "# metodo que obtiene la posición de la cadena donde empieza el mensaje a buscar\n",
    "match.start()"
   ]
  },
  {
   "cell_type": "code",
   "execution_count": 14,
   "id": "12027975",
   "metadata": {},
   "outputs": [
    {
     "data": {
      "text/plain": [
       "39"
      ]
     },
     "execution_count": 14,
     "metadata": {},
     "output_type": "execute_result"
    }
   ],
   "source": [
    "# metodo que obtiene la posición de la cadena donde finbaliza el mensaje a buscar\n",
    "match.end()"
   ]
  },
  {
   "cell_type": "code",
   "execution_count": 16,
   "id": "e68656e7",
   "metadata": {},
   "outputs": [],
   "source": [
    "# devuelve el patron en la cadena\n",
    "match2 = re.match(\"Esto\", mensaje)"
   ]
  },
  {
   "cell_type": "code",
   "execution_count": 17,
   "id": "901e5226",
   "metadata": {},
   "outputs": [
    {
     "data": {
      "text/plain": [
       "0"
      ]
     },
     "execution_count": 17,
     "metadata": {},
     "output_type": "execute_result"
    }
   ],
   "source": [
    "match2.start()"
   ]
  },
  {
   "cell_type": "code",
   "execution_count": 18,
   "id": "6f6a7185",
   "metadata": {},
   "outputs": [
    {
     "data": {
      "text/plain": [
       "4"
      ]
     },
     "execution_count": 18,
     "metadata": {},
     "output_type": "execute_result"
    }
   ],
   "source": [
    "match2.end()"
   ]
  },
  {
   "cell_type": "code",
   "execution_count": 19,
   "id": "b8bf95e4",
   "metadata": {},
   "outputs": [],
   "source": [
    "# entrega una lista con las divisiones del mensaje\n",
    "mensajeSinEspacio = re.split(\" \", mensaje)"
   ]
  },
  {
   "cell_type": "code",
   "execution_count": 20,
   "id": "fdbd976f",
   "metadata": {},
   "outputs": [
    {
     "data": {
      "text/plain": [
       "['Esto',\n",
       " 'es',\n",
       " 'un',\n",
       " 'mensaje',\n",
       " 'de',\n",
       " 'ejemplo',\n",
       " 'del',\n",
       " 'curso',\n",
       " 'de',\n",
       " 'python.']"
      ]
     },
     "execution_count": 20,
     "metadata": {},
     "output_type": "execute_result"
    }
   ],
   "source": [
    "mensajeSinEspacio"
   ]
  },
  {
   "cell_type": "code",
   "execution_count": 21,
   "id": "cf668fa2",
   "metadata": {},
   "outputs": [],
   "source": [
    "# Entrega una lista con la cantidad de veces que se encuentre una palabra en una cadena\n",
    "patron = re.findall(\"de\", mensaje)"
   ]
  },
  {
   "cell_type": "code",
   "execution_count": 22,
   "id": "da07fc42",
   "metadata": {},
   "outputs": [
    {
     "data": {
      "text/plain": [
       "['de', 'de', 'de']"
      ]
     },
     "execution_count": 22,
     "metadata": {},
     "output_type": "execute_result"
    }
   ],
   "source": [
    "patron"
   ]
  },
  {
   "cell_type": "code",
   "execution_count": 25,
   "id": "7d554251",
   "metadata": {},
   "outputs": [],
   "source": [
    "texto = \"Un texto es una composición de signos codificados en un sistema de  escritura que forma una unidad de sentido. \\\n",
    "También es una composición de caracteres imprimibles (con grafema) generpor un algoritmo de cifrado que, aunque no tiene sentido para cualquier persona, sí puede ser descifrado por su destinatario original. En otras palabras, un texto es un entramado de signos con una intención comunicativa que adquiere sentido en determinado contexto.\""
   ]
  },
  {
   "cell_type": "code",
   "execution_count": 26,
   "id": "a56e486f",
   "metadata": {},
   "outputs": [
    {
     "data": {
      "text/plain": [
       "'Un5texto5es5una5composición5de5signos5codificados5en5un5sistema5de55escritura5que5forma5una5unidad5de5sentido.5También5es5una5composición5de5caracteres5imprimibles5(con5grafema)5generpor5un5algoritmo5de5cifrado5que,5aunque5no5tiene5sentido5para5cualquier5persona,5sí5puede5ser5descifrado5por5su5destinatario5original.5En5otras5palabras,5un5texto5es5un5entramado5de5signos5con5una5intención5comunicativa5que5adquiere5sentido5en5determinado5contexto.'"
      ]
     },
     "execution_count": 26,
     "metadata": {},
     "output_type": "execute_result"
    }
   ],
   "source": [
    "# sustituir un caracter especial por un texto\n",
    "re.sub(\"\\s\",\"5\",texto)"
   ]
  },
  {
   "cell_type": "code",
   "execution_count": 29,
   "id": "df804c54",
   "metadata": {},
   "outputs": [],
   "source": [
    "patron = \"(se\\w+)\\s\\w+\""
   ]
  },
  {
   "cell_type": "code",
   "execution_count": 30,
   "id": "0b381409",
   "metadata": {},
   "outputs": [
    {
     "data": {
      "text/plain": [
       "['sentido', 'ser', 'sentido']"
      ]
     },
     "execution_count": 30,
     "metadata": {},
     "output_type": "execute_result"
    }
   ],
   "source": [
    "re.findall(patron, texto)"
   ]
  },
  {
   "cell_type": "code",
   "execution_count": 31,
   "id": "458f0cd4",
   "metadata": {},
   "outputs": [
    {
     "data": {
      "text/plain": [
       "['es', 'es', 'es', 'es', 'es', 'ser', 'es', 'es', 'es']"
      ]
     },
     "execution_count": 31,
     "metadata": {},
     "output_type": "execute_result"
    }
   ],
   "source": [
    "# con metacaracteres\n",
    "re.findall(\"es|ser\", texto)"
   ]
  },
  {
   "cell_type": "code",
   "execution_count": 32,
   "id": "d2c29db3",
   "metadata": {},
   "outputs": [],
   "source": [
    "ejemplo = \"1 22 333 4444\""
   ]
  },
  {
   "cell_type": "code",
   "execution_count": 34,
   "id": "de39d0cd",
   "metadata": {},
   "outputs": [
    {
     "data": {
      "text/plain": [
       "['1 ', '2 ', '3 ']"
      ]
     },
     "execution_count": 34,
     "metadata": {},
     "output_type": "execute_result"
    }
   ],
   "source": [
    "re.findall(\"\\d?\\s\", ejemplo)"
   ]
  },
  {
   "cell_type": "code",
   "execution_count": 35,
   "id": "9d0fc4a0",
   "metadata": {},
   "outputs": [
    {
     "data": {
      "text/plain": [
       "['333']"
      ]
     },
     "execution_count": 35,
     "metadata": {},
     "output_type": "execute_result"
    }
   ],
   "source": [
    "re.findall(\"3+\", ejemplo)"
   ]
  },
  {
   "cell_type": "code",
   "execution_count": 42,
   "id": "150642c2",
   "metadata": {},
   "outputs": [
    {
     "data": {
      "text/plain": [
       "['1112', '12', '2', '12', '12']"
      ]
     },
     "execution_count": 42,
     "metadata": {},
     "output_type": "execute_result"
    }
   ],
   "source": [
    "ejemplo = \"111212321212\"\n",
    "\n",
    "re.findall(\"1*2\", ejemplo)"
   ]
  },
  {
   "cell_type": "code",
   "execution_count": 37,
   "id": "124cd730",
   "metadata": {},
   "outputs": [
    {
     "data": {
      "text/plain": [
       "['11', '12', '12', '32', '12', '12']"
      ]
     },
     "execution_count": 37,
     "metadata": {},
     "output_type": "execute_result"
    }
   ],
   "source": [
    "re.findall(\"\\d{2}\", ejemplo)"
   ]
  },
  {
   "cell_type": "code",
   "execution_count": 45,
   "id": "2b6cd6de",
   "metadata": {},
   "outputs": [
    {
     "data": {
      "text/plain": [
       "['111']"
      ]
     },
     "execution_count": 45,
     "metadata": {},
     "output_type": "execute_result"
    }
   ],
   "source": [
    "re.findall(\"1{2,3}\", ejemplo)"
   ]
  },
  {
   "cell_type": "code",
   "execution_count": 44,
   "id": "c34b51c7",
   "metadata": {},
   "outputs": [
    {
     "data": {
      "text/plain": [
       "['111', '212', '212', '12']"
      ]
     },
     "execution_count": 44,
     "metadata": {},
     "output_type": "execute_result"
    }
   ],
   "source": [
    "re.findall(\"[1,2]{2,3}\", ejemplo)"
   ]
  },
  {
   "cell_type": "code",
   "execution_count": 46,
   "id": "9ad89283",
   "metadata": {},
   "outputs": [
    {
     "data": {
      "text/plain": [
       "['1112', '1232', '1212']"
      ]
     },
     "execution_count": 46,
     "metadata": {},
     "output_type": "execute_result"
    }
   ],
   "source": [
    "re.findall(\"[1-3]{4}\", ejemplo)"
   ]
  },
  {
   "cell_type": "code",
   "execution_count": null,
   "id": "8c265cbe",
   "metadata": {},
   "outputs": [],
   "source": []
  }
 ],
 "metadata": {
  "kernelspec": {
   "display_name": "Python 3 (ipykernel)",
   "language": "python",
   "name": "python3"
  },
  "language_info": {
   "codemirror_mode": {
    "name": "ipython",
    "version": 3
   },
   "file_extension": ".py",
   "mimetype": "text/x-python",
   "name": "python",
   "nbconvert_exporter": "python",
   "pygments_lexer": "ipython3",
   "version": "3.9.7"
  }
 },
 "nbformat": 4,
 "nbformat_minor": 5
}
