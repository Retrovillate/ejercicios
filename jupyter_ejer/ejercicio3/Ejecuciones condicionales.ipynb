{
 "cells": [
  {
   "cell_type": "code",
   "execution_count": 3,
   "id": "2bfa7450",
   "metadata": {},
   "outputs": [
    {
     "name": "stdout",
     "output_type": "stream",
     "text": [
      "introduce tu edad: \n",
      "45\n",
      "Hola mayores\n"
     ]
    }
   ],
   "source": [
    "print(\"introduce tu edad: \")\n",
    "edad = int(input())\n",
    "\n",
    "if (edad > 18 and edad < 50):\n",
    "    if (edad > 18 and edad < 25):\n",
    "        print(\"Hola!\")\n",
    "    else:\n",
    "        print(\"Hola mayores\")\n",
    "elif (edad > 40 and edad < 75):\n",
    "    if(edad > 40 and edad < 60):\n",
    "        print(\"hola medio mayores!\")\n",
    "    else:\n",
    "        print(\"Hola muy mayores.\")\n",
    "else:\n",
    "    print(\"Adios!\")"
   ]
  },
  {
   "cell_type": "code",
   "execution_count": null,
   "id": "6fd15212",
   "metadata": {},
   "outputs": [],
   "source": []
  }
 ],
 "metadata": {
  "kernelspec": {
   "display_name": "Python 3 (ipykernel)",
   "language": "python",
   "name": "python3"
  },
  "language_info": {
   "codemirror_mode": {
    "name": "ipython",
    "version": 3
   },
   "file_extension": ".py",
   "mimetype": "text/x-python",
   "name": "python",
   "nbconvert_exporter": "python",
   "pygments_lexer": "ipython3",
   "version": "3.9.7"
  }
 },
 "nbformat": 4,
 "nbformat_minor": 5
}
