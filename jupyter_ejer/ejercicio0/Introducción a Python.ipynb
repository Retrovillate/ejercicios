{
 "cells": [
  {
   "cell_type": "code",
   "execution_count": 2,
   "id": "4ffae9df",
   "metadata": {},
   "outputs": [],
   "source": [
    "variable = 1\n",
    "variable1 = 0\n",
    "vari1able1 = 0\n",
    "vari__able = 1"
   ]
  },
  {
   "cell_type": "code",
   "execution_count": null,
   "id": "c376ff9b",
   "metadata": {},
   "outputs": [],
   "source": [
    "and\n",
    "else\n",
    "if"
   ]
  },
  {
   "cell_type": "code",
   "execution_count": 3,
   "id": "a07c65c7",
   "metadata": {},
   "outputs": [
    {
     "data": {
      "text/plain": [
       "'\\nComentarios\\ncomentario 2\\n'"
      ]
     },
     "execution_count": 3,
     "metadata": {},
     "output_type": "execute_result"
    }
   ],
   "source": [
    "#Esto es ub comentario\n",
    "\"\"\"\n",
    "Comentarios\n",
    "comentario 2\n",
    "\"\"\""
   ]
  },
  {
   "cell_type": "code",
   "execution_count": 11,
   "id": "df61b68d",
   "metadata": {},
   "outputs": [
    {
     "name": "stdout",
     "output_type": "stream",
     "text": [
      "Hola pasa\n",
      "Hola mundo\n"
     ]
    }
   ],
   "source": [
    "variable = 1\n",
    "if ( variable == 1):\n",
    "    print(\"Hola pasa\")\n",
    "    print(\"Hola mundo\")"
   ]
  },
  {
   "cell_type": "code",
   "execution_count": 27,
   "id": "c450b224",
   "metadata": {},
   "outputs": [
    {
     "name": "stdout",
     "output_type": "stream",
     "text": [
      "<class 'float'>\n",
      "<class 'str'>\n"
     ]
    }
   ],
   "source": [
    "n = 3.65\n",
    "print(type(n))\n",
    "n = \"hola mundo\"\n",
    "print(type(n))"
   ]
  },
  {
   "cell_type": "code",
   "execution_count": 25,
   "id": "9d869787",
   "metadata": {},
   "outputs": [
    {
     "name": "stdout",
     "output_type": "stream",
     "text": [
      "3.65\n"
     ]
    }
   ],
   "source": [
    "print(n)"
   ]
  },
  {
   "cell_type": "code",
   "execution_count": 26,
   "id": "13eaad38",
   "metadata": {},
   "outputs": [
    {
     "data": {
      "text/plain": [
       "float"
      ]
     },
     "execution_count": 26,
     "metadata": {},
     "output_type": "execute_result"
    }
   ],
   "source": [
    "type(n)"
   ]
  },
  {
   "cell_type": "code",
   "execution_count": 1,
   "id": "c5d2e8a2",
   "metadata": {},
   "outputs": [],
   "source": [
    "import constantes\n",
    "\n",
    "precio = 25\n",
    "precio_final = precio + (precio*constantes.IVA)"
   ]
  },
  {
   "cell_type": "code",
   "execution_count": 2,
   "id": "935bc56a",
   "metadata": {},
   "outputs": [
    {
     "name": "stdout",
     "output_type": "stream",
     "text": [
      "28.75\n"
     ]
    }
   ],
   "source": [
    "print(precio_final)"
   ]
  },
  {
   "cell_type": "code",
   "execution_count": null,
   "id": "d491cc1c",
   "metadata": {},
   "outputs": [],
   "source": []
  }
 ],
 "metadata": {
  "kernelspec": {
   "display_name": "Python 3 (ipykernel)",
   "language": "python",
   "name": "python3"
  },
  "language_info": {
   "codemirror_mode": {
    "name": "ipython",
    "version": 3
   },
   "file_extension": ".py",
   "mimetype": "text/x-python",
   "name": "python",
   "nbconvert_exporter": "python",
   "pygments_lexer": "ipython3",
   "version": "3.9.7"
  }
 },
 "nbformat": 4,
 "nbformat_minor": 5
}
