{
 "cells": [
  {
   "cell_type": "code",
   "execution_count": 1,
   "id": "5ab545bb",
   "metadata": {},
   "outputs": [],
   "source": [
    "# importando la libreria pandas\n",
    "\n",
    "import pandas as pd"
   ]
  },
  {
   "cell_type": "code",
   "execution_count": 2,
   "id": "8f519f1e",
   "metadata": {},
   "outputs": [],
   "source": [
    "\"\"\"\n",
    "las series son arreglos unidimencionales como las listas o los arrays\n",
    "pero se pueden generar por id etiquetas\n",
    "\"\"\"\n",
    "\n",
    "serie = pd.Series([1,2,4,5,6])"
   ]
  },
  {
   "cell_type": "code",
   "execution_count": 3,
   "id": "c7d4a611",
   "metadata": {},
   "outputs": [
    {
     "data": {
      "text/plain": [
       "0    1\n",
       "1    2\n",
       "2    4\n",
       "3    5\n",
       "4    6\n",
       "dtype: int64"
      ]
     },
     "execution_count": 3,
     "metadata": {},
     "output_type": "execute_result"
    }
   ],
   "source": [
    "serie"
   ]
  },
  {
   "cell_type": "code",
   "execution_count": 4,
   "id": "9f6a2251",
   "metadata": {},
   "outputs": [],
   "source": [
    "# ejemplo creando serie con etiquetas\n",
    "serie = pd.Series([1,2,4,5,6], index = ['a', 'b', 'c', 'd', 'e'])"
   ]
  },
  {
   "cell_type": "code",
   "execution_count": 5,
   "id": "d2f659f8",
   "metadata": {},
   "outputs": [
    {
     "data": {
      "text/plain": [
       "a    1\n",
       "b    2\n",
       "c    4\n",
       "d    5\n",
       "e    6\n",
       "dtype: int64"
      ]
     },
     "execution_count": 5,
     "metadata": {},
     "output_type": "execute_result"
    }
   ],
   "source": [
    "serie"
   ]
  },
  {
   "cell_type": "code",
   "execution_count": 7,
   "id": "fd8ea37e",
   "metadata": {},
   "outputs": [],
   "source": [
    "# creando series a partir de diccionarios\n",
    "\n",
    "diccionario = {'a':5, 'b':6 ,'c':89, 'd':97}\n",
    "\n",
    "serie1 = pd.Series(diccionario)"
   ]
  },
  {
   "cell_type": "code",
   "execution_count": 8,
   "id": "af3946c9",
   "metadata": {},
   "outputs": [
    {
     "data": {
      "text/plain": [
       "a     5\n",
       "b     6\n",
       "c    89\n",
       "d    97\n",
       "dtype: int64"
      ]
     },
     "execution_count": 8,
     "metadata": {},
     "output_type": "execute_result"
    }
   ],
   "source": [
    "serie1"
   ]
  },
  {
   "cell_type": "code",
   "execution_count": 9,
   "id": "46e915a5",
   "metadata": {},
   "outputs": [
    {
     "data": {
      "text/plain": [
       "5"
      ]
     },
     "execution_count": 9,
     "metadata": {},
     "output_type": "execute_result"
    }
   ],
   "source": [
    "# obtener el valor de una serie pasando el valor de la etiqueta\n",
    "\n",
    "serie1['a']"
   ]
  },
  {
   "cell_type": "code",
   "execution_count": 10,
   "id": "144faf8b",
   "metadata": {},
   "outputs": [
    {
     "data": {
      "text/plain": [
       "97"
      ]
     },
     "execution_count": 10,
     "metadata": {},
     "output_type": "execute_result"
    }
   ],
   "source": [
    "# obtener el valor de una serie pasando el valor de la posicion\n",
    "\n",
    "serie1[3]"
   ]
  },
  {
   "cell_type": "code",
   "execution_count": 11,
   "id": "57144175",
   "metadata": {},
   "outputs": [
    {
     "data": {
      "text/plain": [
       "c    89\n",
       "d    97\n",
       "dtype: int64"
      ]
     },
     "execution_count": 11,
     "metadata": {},
     "output_type": "execute_result"
    }
   ],
   "source": [
    "# obtener los valores de una serie pasando un rango de valores\n",
    "\n",
    "serie1[2:]"
   ]
  },
  {
   "cell_type": "code",
   "execution_count": 13,
   "id": "c1c6d2f2",
   "metadata": {},
   "outputs": [
    {
     "data": {
      "text/plain": [
       "Index(['a', 'b', 'c', 'd'], dtype='object')"
      ]
     },
     "execution_count": 13,
     "metadata": {},
     "output_type": "execute_result"
    }
   ],
   "source": [
    "# devulve las etiquetas asignadas a una serie\n",
    "\n",
    "serie1.index"
   ]
  },
  {
   "cell_type": "code",
   "execution_count": 14,
   "id": "244187fe",
   "metadata": {},
   "outputs": [
    {
     "data": {
      "text/plain": [
       "array([ 5,  6, 89, 97], dtype=int64)"
      ]
     },
     "execution_count": 14,
     "metadata": {},
     "output_type": "execute_result"
    }
   ],
   "source": [
    "# devulve los valores asignados a una serie\n",
    "\n",
    "serie1.values"
   ]
  },
  {
   "cell_type": "code",
   "execution_count": 15,
   "id": "7cd99f9f",
   "metadata": {},
   "outputs": [],
   "source": [
    "# realizar operaciones con series se debe tener cuidado que tengan las mismas etiquetas\n",
    "\n",
    "# suma de series\n",
    "\n",
    "serie = pd.Series([1,2,4,5,6], index = ['a', 'b', 'c', 'd', 'e'])\n",
    "\n",
    "diccionario = {'a':5, 'b':6 ,'c':89, 'd':97, 'e':15}\n",
    "\n",
    "serie1 = pd.Series(diccionario)\n",
    "\n",
    "resultado = serie + serie1"
   ]
  },
  {
   "cell_type": "code",
   "execution_count": 16,
   "id": "75e8cd8e",
   "metadata": {},
   "outputs": [
    {
     "data": {
      "text/plain": [
       "a      6\n",
       "b      8\n",
       "c     93\n",
       "d    102\n",
       "e     21\n",
       "dtype: int64"
      ]
     },
     "execution_count": 16,
     "metadata": {},
     "output_type": "execute_result"
    }
   ],
   "source": [
    "resultado"
   ]
  },
  {
   "cell_type": "code",
   "execution_count": 17,
   "id": "bda046a6",
   "metadata": {},
   "outputs": [
    {
     "data": {
      "text/plain": [
       "a     50\n",
       "b     60\n",
       "c    890\n",
       "d    970\n",
       "e    150\n",
       "dtype: int64"
      ]
     },
     "execution_count": 17,
     "metadata": {},
     "output_type": "execute_result"
    }
   ],
   "source": [
    "# multiplicar todos los elementos de una serie por un valor\n",
    "\n",
    "serie1*10"
   ]
  },
  {
   "cell_type": "code",
   "execution_count": 18,
   "id": "c8c38bac",
   "metadata": {},
   "outputs": [],
   "source": [
    "# utilizar las opciones de numpy \n",
    "import numpy as np"
   ]
  },
  {
   "cell_type": "code",
   "execution_count": 19,
   "id": "cd6b4a21",
   "metadata": {},
   "outputs": [
    {
     "data": {
      "text/plain": [
       "a    2.236068\n",
       "b    2.449490\n",
       "c    9.433981\n",
       "d    9.848858\n",
       "e    3.872983\n",
       "dtype: float64"
      ]
     },
     "execution_count": 19,
     "metadata": {},
     "output_type": "execute_result"
    }
   ],
   "source": [
    "# raiz cuadrada de la serie1\n",
    "np.sqrt(serie1)"
   ]
  },
  {
   "cell_type": "code",
   "execution_count": 23,
   "id": "94a2bd57",
   "metadata": {},
   "outputs": [],
   "source": [
    "\"\"\"\n",
    "\n",
    "Crear un dataframe es una estructura bidimencional muy parecidas a las tablas\n",
    "\n",
    "\"\"\"\n",
    "\n",
    "# se crea un diccionario con dos columnas se series\n",
    "\n",
    "dic1 = {'columna1': pd.Series([1,2,4,5,6], index = ['a', 'b', 'c', 'd', 'e']),'columna2': pd.Series([8,9,10,11,12], index = ['a', 'b', 'c', 'd', 'e'])}"
   ]
  },
  {
   "cell_type": "code",
   "execution_count": 24,
   "id": "61e69fb8",
   "metadata": {},
   "outputs": [],
   "source": [
    "# se crea el dataframe a partir del diccionario\n",
    "\n",
    "dataframe = pd.DataFrame(dic1)"
   ]
  },
  {
   "cell_type": "code",
   "execution_count": 25,
   "id": "0020ef36",
   "metadata": {},
   "outputs": [
    {
     "data": {
      "text/html": [
       "<div>\n",
       "<style scoped>\n",
       "    .dataframe tbody tr th:only-of-type {\n",
       "        vertical-align: middle;\n",
       "    }\n",
       "\n",
       "    .dataframe tbody tr th {\n",
       "        vertical-align: top;\n",
       "    }\n",
       "\n",
       "    .dataframe thead th {\n",
       "        text-align: right;\n",
       "    }\n",
       "</style>\n",
       "<table border=\"1\" class=\"dataframe\">\n",
       "  <thead>\n",
       "    <tr style=\"text-align: right;\">\n",
       "      <th></th>\n",
       "      <th>columna1</th>\n",
       "      <th>columna2</th>\n",
       "    </tr>\n",
       "  </thead>\n",
       "  <tbody>\n",
       "    <tr>\n",
       "      <th>a</th>\n",
       "      <td>1</td>\n",
       "      <td>8</td>\n",
       "    </tr>\n",
       "    <tr>\n",
       "      <th>b</th>\n",
       "      <td>2</td>\n",
       "      <td>9</td>\n",
       "    </tr>\n",
       "    <tr>\n",
       "      <th>c</th>\n",
       "      <td>4</td>\n",
       "      <td>10</td>\n",
       "    </tr>\n",
       "    <tr>\n",
       "      <th>d</th>\n",
       "      <td>5</td>\n",
       "      <td>11</td>\n",
       "    </tr>\n",
       "    <tr>\n",
       "      <th>e</th>\n",
       "      <td>6</td>\n",
       "      <td>12</td>\n",
       "    </tr>\n",
       "  </tbody>\n",
       "</table>\n",
       "</div>"
      ],
      "text/plain": [
       "   columna1  columna2\n",
       "a         1         8\n",
       "b         2         9\n",
       "c         4        10\n",
       "d         5        11\n",
       "e         6        12"
      ]
     },
     "execution_count": 25,
     "metadata": {},
     "output_type": "execute_result"
    }
   ],
   "source": [
    "dataframe"
   ]
  },
  {
   "cell_type": "code",
   "execution_count": 26,
   "id": "1afbbc40",
   "metadata": {},
   "outputs": [],
   "source": [
    "# crear un dataframe a partir de una lista con diccionarios\n",
    "\n",
    "lista = [{'a':1, 'b':5, 'c':7}, {'c':1, 'h':5, 'b':7}]\n",
    "\n",
    "dataframe1 = pd.DataFrame(lista)"
   ]
  },
  {
   "cell_type": "code",
   "execution_count": 27,
   "id": "af377cf5",
   "metadata": {},
   "outputs": [
    {
     "data": {
      "text/html": [
       "<div>\n",
       "<style scoped>\n",
       "    .dataframe tbody tr th:only-of-type {\n",
       "        vertical-align: middle;\n",
       "    }\n",
       "\n",
       "    .dataframe tbody tr th {\n",
       "        vertical-align: top;\n",
       "    }\n",
       "\n",
       "    .dataframe thead th {\n",
       "        text-align: right;\n",
       "    }\n",
       "</style>\n",
       "<table border=\"1\" class=\"dataframe\">\n",
       "  <thead>\n",
       "    <tr style=\"text-align: right;\">\n",
       "      <th></th>\n",
       "      <th>a</th>\n",
       "      <th>b</th>\n",
       "      <th>c</th>\n",
       "      <th>h</th>\n",
       "    </tr>\n",
       "  </thead>\n",
       "  <tbody>\n",
       "    <tr>\n",
       "      <th>0</th>\n",
       "      <td>1.0</td>\n",
       "      <td>5</td>\n",
       "      <td>7</td>\n",
       "      <td>NaN</td>\n",
       "    </tr>\n",
       "    <tr>\n",
       "      <th>1</th>\n",
       "      <td>NaN</td>\n",
       "      <td>7</td>\n",
       "      <td>1</td>\n",
       "      <td>5.0</td>\n",
       "    </tr>\n",
       "  </tbody>\n",
       "</table>\n",
       "</div>"
      ],
      "text/plain": [
       "     a  b  c    h\n",
       "0  1.0  5  7  NaN\n",
       "1  NaN  7  1  5.0"
      ]
     },
     "execution_count": 27,
     "metadata": {},
     "output_type": "execute_result"
    }
   ],
   "source": [
    "dataframe1"
   ]
  },
  {
   "cell_type": "code",
   "execution_count": 28,
   "id": "342b8d70",
   "metadata": {},
   "outputs": [
    {
     "data": {
      "text/plain": [
       "0    5\n",
       "1    7\n",
       "Name: b, dtype: int64"
      ]
     },
     "execution_count": 28,
     "metadata": {},
     "output_type": "execute_result"
    }
   ],
   "source": [
    "# consultar una columna en concreto con un dataframe\n",
    "\n",
    "dataframe1['b']"
   ]
  },
  {
   "cell_type": "code",
   "execution_count": 29,
   "id": "8910395d",
   "metadata": {},
   "outputs": [],
   "source": [
    "# agregar columnas a un dataframe\n",
    "\n",
    "dataframe1['t'] = pd.Series([5,2], index = [0,1])"
   ]
  },
  {
   "cell_type": "code",
   "execution_count": 30,
   "id": "2c1ca211",
   "metadata": {},
   "outputs": [
    {
     "data": {
      "text/html": [
       "<div>\n",
       "<style scoped>\n",
       "    .dataframe tbody tr th:only-of-type {\n",
       "        vertical-align: middle;\n",
       "    }\n",
       "\n",
       "    .dataframe tbody tr th {\n",
       "        vertical-align: top;\n",
       "    }\n",
       "\n",
       "    .dataframe thead th {\n",
       "        text-align: right;\n",
       "    }\n",
       "</style>\n",
       "<table border=\"1\" class=\"dataframe\">\n",
       "  <thead>\n",
       "    <tr style=\"text-align: right;\">\n",
       "      <th></th>\n",
       "      <th>a</th>\n",
       "      <th>b</th>\n",
       "      <th>c</th>\n",
       "      <th>h</th>\n",
       "      <th>t</th>\n",
       "    </tr>\n",
       "  </thead>\n",
       "  <tbody>\n",
       "    <tr>\n",
       "      <th>0</th>\n",
       "      <td>1.0</td>\n",
       "      <td>5</td>\n",
       "      <td>7</td>\n",
       "      <td>NaN</td>\n",
       "      <td>5</td>\n",
       "    </tr>\n",
       "    <tr>\n",
       "      <th>1</th>\n",
       "      <td>NaN</td>\n",
       "      <td>7</td>\n",
       "      <td>1</td>\n",
       "      <td>5.0</td>\n",
       "      <td>2</td>\n",
       "    </tr>\n",
       "  </tbody>\n",
       "</table>\n",
       "</div>"
      ],
      "text/plain": [
       "     a  b  c    h  t\n",
       "0  1.0  5  7  NaN  5\n",
       "1  NaN  7  1  5.0  2"
      ]
     },
     "execution_count": 30,
     "metadata": {},
     "output_type": "execute_result"
    }
   ],
   "source": [
    "dataframe1"
   ]
  },
  {
   "cell_type": "code",
   "execution_count": 31,
   "id": "9dbb4c58",
   "metadata": {},
   "outputs": [],
   "source": [
    "# añadir columna al primer frame\n",
    "dataframe['columna3'] = pd.Series([1,2,4,5,6], index = ['a', 'b', 'c', 'd', 'e'])"
   ]
  },
  {
   "cell_type": "code",
   "execution_count": 32,
   "id": "60efa693",
   "metadata": {},
   "outputs": [
    {
     "data": {
      "text/html": [
       "<div>\n",
       "<style scoped>\n",
       "    .dataframe tbody tr th:only-of-type {\n",
       "        vertical-align: middle;\n",
       "    }\n",
       "\n",
       "    .dataframe tbody tr th {\n",
       "        vertical-align: top;\n",
       "    }\n",
       "\n",
       "    .dataframe thead th {\n",
       "        text-align: right;\n",
       "    }\n",
       "</style>\n",
       "<table border=\"1\" class=\"dataframe\">\n",
       "  <thead>\n",
       "    <tr style=\"text-align: right;\">\n",
       "      <th></th>\n",
       "      <th>columna1</th>\n",
       "      <th>columna2</th>\n",
       "      <th>columna3</th>\n",
       "    </tr>\n",
       "  </thead>\n",
       "  <tbody>\n",
       "    <tr>\n",
       "      <th>a</th>\n",
       "      <td>1</td>\n",
       "      <td>8</td>\n",
       "      <td>1</td>\n",
       "    </tr>\n",
       "    <tr>\n",
       "      <th>b</th>\n",
       "      <td>2</td>\n",
       "      <td>9</td>\n",
       "      <td>2</td>\n",
       "    </tr>\n",
       "    <tr>\n",
       "      <th>c</th>\n",
       "      <td>4</td>\n",
       "      <td>10</td>\n",
       "      <td>4</td>\n",
       "    </tr>\n",
       "    <tr>\n",
       "      <th>d</th>\n",
       "      <td>5</td>\n",
       "      <td>11</td>\n",
       "      <td>5</td>\n",
       "    </tr>\n",
       "    <tr>\n",
       "      <th>e</th>\n",
       "      <td>6</td>\n",
       "      <td>12</td>\n",
       "      <td>6</td>\n",
       "    </tr>\n",
       "  </tbody>\n",
       "</table>\n",
       "</div>"
      ],
      "text/plain": [
       "   columna1  columna2  columna3\n",
       "a         1         8         1\n",
       "b         2         9         2\n",
       "c         4        10         4\n",
       "d         5        11         5\n",
       "e         6        12         6"
      ]
     },
     "execution_count": 32,
     "metadata": {},
     "output_type": "execute_result"
    }
   ],
   "source": [
    "dataframe"
   ]
  },
  {
   "cell_type": "code",
   "execution_count": 33,
   "id": "b08612b8",
   "metadata": {},
   "outputs": [],
   "source": [
    "# eliminar una columna del dataframe\n",
    "\n",
    "del dataframe['columna1']"
   ]
  },
  {
   "cell_type": "code",
   "execution_count": 34,
   "id": "ca572089",
   "metadata": {},
   "outputs": [
    {
     "data": {
      "text/html": [
       "<div>\n",
       "<style scoped>\n",
       "    .dataframe tbody tr th:only-of-type {\n",
       "        vertical-align: middle;\n",
       "    }\n",
       "\n",
       "    .dataframe tbody tr th {\n",
       "        vertical-align: top;\n",
       "    }\n",
       "\n",
       "    .dataframe thead th {\n",
       "        text-align: right;\n",
       "    }\n",
       "</style>\n",
       "<table border=\"1\" class=\"dataframe\">\n",
       "  <thead>\n",
       "    <tr style=\"text-align: right;\">\n",
       "      <th></th>\n",
       "      <th>columna2</th>\n",
       "      <th>columna3</th>\n",
       "    </tr>\n",
       "  </thead>\n",
       "  <tbody>\n",
       "    <tr>\n",
       "      <th>a</th>\n",
       "      <td>8</td>\n",
       "      <td>1</td>\n",
       "    </tr>\n",
       "    <tr>\n",
       "      <th>b</th>\n",
       "      <td>9</td>\n",
       "      <td>2</td>\n",
       "    </tr>\n",
       "    <tr>\n",
       "      <th>c</th>\n",
       "      <td>10</td>\n",
       "      <td>4</td>\n",
       "    </tr>\n",
       "    <tr>\n",
       "      <th>d</th>\n",
       "      <td>11</td>\n",
       "      <td>5</td>\n",
       "    </tr>\n",
       "    <tr>\n",
       "      <th>e</th>\n",
       "      <td>12</td>\n",
       "      <td>6</td>\n",
       "    </tr>\n",
       "  </tbody>\n",
       "</table>\n",
       "</div>"
      ],
      "text/plain": [
       "   columna2  columna3\n",
       "a         8         1\n",
       "b         9         2\n",
       "c        10         4\n",
       "d        11         5\n",
       "e        12         6"
      ]
     },
     "execution_count": 34,
     "metadata": {},
     "output_type": "execute_result"
    }
   ],
   "source": [
    "dataframe"
   ]
  },
  {
   "cell_type": "code",
   "execution_count": 36,
   "id": "fa577d0d",
   "metadata": {},
   "outputs": [
    {
     "data": {
      "text/plain": [
       "columna2    9\n",
       "columna3    2\n",
       "Name: b, dtype: int64"
      ]
     },
     "execution_count": 36,
     "metadata": {},
     "output_type": "execute_result"
    }
   ],
   "source": [
    "# acceder a valores de una fila de un dataframe\n",
    "\n",
    "dataframe.loc['b']"
   ]
  },
  {
   "cell_type": "code",
   "execution_count": 37,
   "id": "b9ae2a39",
   "metadata": {},
   "outputs": [
    {
     "data": {
      "text/plain": [
       "columna2    9\n",
       "columna3    2\n",
       "Name: b, dtype: int64"
      ]
     },
     "execution_count": 37,
     "metadata": {},
     "output_type": "execute_result"
    }
   ],
   "source": [
    "# acceder a valores de una fila por posicion de un dataframe\n",
    "\n",
    "dataframe.iloc[1]"
   ]
  },
  {
   "cell_type": "code",
   "execution_count": 38,
   "id": "6a762bb7",
   "metadata": {},
   "outputs": [],
   "source": [
    "# seleccion de filas por array booleano\n",
    "\n",
    "filtro = np.array([True, False, True, False, True])"
   ]
  },
  {
   "cell_type": "code",
   "execution_count": 39,
   "id": "6f3b7f84",
   "metadata": {},
   "outputs": [
    {
     "data": {
      "text/html": [
       "<div>\n",
       "<style scoped>\n",
       "    .dataframe tbody tr th:only-of-type {\n",
       "        vertical-align: middle;\n",
       "    }\n",
       "\n",
       "    .dataframe tbody tr th {\n",
       "        vertical-align: top;\n",
       "    }\n",
       "\n",
       "    .dataframe thead th {\n",
       "        text-align: right;\n",
       "    }\n",
       "</style>\n",
       "<table border=\"1\" class=\"dataframe\">\n",
       "  <thead>\n",
       "    <tr style=\"text-align: right;\">\n",
       "      <th></th>\n",
       "      <th>columna2</th>\n",
       "      <th>columna3</th>\n",
       "    </tr>\n",
       "  </thead>\n",
       "  <tbody>\n",
       "    <tr>\n",
       "      <th>a</th>\n",
       "      <td>8</td>\n",
       "      <td>1</td>\n",
       "    </tr>\n",
       "    <tr>\n",
       "      <th>c</th>\n",
       "      <td>10</td>\n",
       "      <td>4</td>\n",
       "    </tr>\n",
       "    <tr>\n",
       "      <th>e</th>\n",
       "      <td>12</td>\n",
       "      <td>6</td>\n",
       "    </tr>\n",
       "  </tbody>\n",
       "</table>\n",
       "</div>"
      ],
      "text/plain": [
       "   columna2  columna3\n",
       "a         8         1\n",
       "c        10         4\n",
       "e        12         6"
      ]
     },
     "execution_count": 39,
     "metadata": {},
     "output_type": "execute_result"
    }
   ],
   "source": [
    "dataframe[filtro]"
   ]
  },
  {
   "cell_type": "code",
   "execution_count": null,
   "id": "49e182f5",
   "metadata": {},
   "outputs": [],
   "source": [
    "# realizar la transpuesta de un dataframe\n",
    "\n"
   ]
  }
 ],
 "metadata": {
  "kernelspec": {
   "display_name": "Python 3 (ipykernel)",
   "language": "python",
   "name": "python3"
  },
  "language_info": {
   "codemirror_mode": {
    "name": "ipython",
    "version": 3
   },
   "file_extension": ".py",
   "mimetype": "text/x-python",
   "name": "python",
   "nbconvert_exporter": "python",
   "pygments_lexer": "ipython3",
   "version": "3.9.7"
  }
 },
 "nbformat": 4,
 "nbformat_minor": 5
}
