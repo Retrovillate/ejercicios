{
 "cells": [
  {
   "cell_type": "code",
   "execution_count": 1,
   "id": "5b307acc",
   "metadata": {},
   "outputs": [],
   "source": [
    "# importando la libreria pandas\n",
    "\n",
    "import pandas as pd"
   ]
  },
  {
   "cell_type": "code",
   "execution_count": 2,
   "id": "5b1372f3",
   "metadata": {},
   "outputs": [],
   "source": [
    "\"\"\"\n",
    "las series son arreglos unidimencionales como las listas o los arrays\n",
    "pero se pueden generar por id etiquetas\n",
    "\"\"\"\n",
    "\n",
    "serie = pd.Series([1,2,4,5,6])"
   ]
  },
  {
   "cell_type": "code",
   "execution_count": 3,
   "id": "6c5f1d38",
   "metadata": {},
   "outputs": [
    {
     "data": {
      "text/plain": [
       "0    1\n",
       "1    2\n",
       "2    4\n",
       "3    5\n",
       "4    6\n",
       "dtype: int64"
      ]
     },
     "execution_count": 3,
     "metadata": {},
     "output_type": "execute_result"
    }
   ],
   "source": [
    "serie"
   ]
  },
  {
   "cell_type": "code",
   "execution_count": 4,
   "id": "29ba9a38",
   "metadata": {},
   "outputs": [],
   "source": [
    "# ejemplo creando serie con etiquetas\n",
    "serie = pd.Series([1,2,4,5,6], index = ['a', 'b', 'c', 'd', 'e'])"
   ]
  },
  {
   "cell_type": "code",
   "execution_count": 5,
   "id": "a9c948b4",
   "metadata": {},
   "outputs": [
    {
     "data": {
      "text/plain": [
       "a    1\n",
       "b    2\n",
       "c    4\n",
       "d    5\n",
       "e    6\n",
       "dtype: int64"
      ]
     },
     "execution_count": 5,
     "metadata": {},
     "output_type": "execute_result"
    }
   ],
   "source": [
    "serie"
   ]
  },
  {
   "cell_type": "code",
   "execution_count": 6,
   "id": "af6e27d6",
   "metadata": {},
   "outputs": [],
   "source": [
    "# creando series a partir de diccionarios\n",
    "\n",
    "diccionario = {'a':5, 'b':6 ,'c':89, 'd':97}\n",
    "\n",
    "serie1 = pd.Series(diccionario)"
   ]
  },
  {
   "cell_type": "code",
   "execution_count": 7,
   "id": "1cf350b6",
   "metadata": {},
   "outputs": [
    {
     "data": {
      "text/plain": [
       "a     5\n",
       "b     6\n",
       "c    89\n",
       "d    97\n",
       "dtype: int64"
      ]
     },
     "execution_count": 7,
     "metadata": {},
     "output_type": "execute_result"
    }
   ],
   "source": [
    "serie1"
   ]
  },
  {
   "cell_type": "code",
   "execution_count": 8,
   "id": "5c602371",
   "metadata": {},
   "outputs": [
    {
     "data": {
      "text/plain": [
       "5"
      ]
     },
     "execution_count": 8,
     "metadata": {},
     "output_type": "execute_result"
    }
   ],
   "source": [
    "# obtener el valor de una serie pasando el valor de la etiqueta\n",
    "\n",
    "serie1['a']"
   ]
  },
  {
   "cell_type": "code",
   "execution_count": 9,
   "id": "8a6dd248",
   "metadata": {},
   "outputs": [
    {
     "data": {
      "text/plain": [
       "97"
      ]
     },
     "execution_count": 9,
     "metadata": {},
     "output_type": "execute_result"
    }
   ],
   "source": [
    "# obtener el valor de una serie pasando el valor de la posicion\n",
    "\n",
    "serie1[3]"
   ]
  },
  {
   "cell_type": "code",
   "execution_count": 10,
   "id": "63eeb1c2",
   "metadata": {},
   "outputs": [
    {
     "data": {
      "text/plain": [
       "c    89\n",
       "d    97\n",
       "dtype: int64"
      ]
     },
     "execution_count": 10,
     "metadata": {},
     "output_type": "execute_result"
    }
   ],
   "source": [
    "# obtener los valores de una serie pasando un rango de valores\n",
    "\n",
    "serie1[2:]"
   ]
  },
  {
   "cell_type": "code",
   "execution_count": 11,
   "id": "07422cb7",
   "metadata": {},
   "outputs": [
    {
     "data": {
      "text/plain": [
       "Index(['a', 'b', 'c', 'd'], dtype='object')"
      ]
     },
     "execution_count": 11,
     "metadata": {},
     "output_type": "execute_result"
    }
   ],
   "source": [
    "# devulve las etiquetas asignadas a una serie\n",
    "\n",
    "serie1.index"
   ]
  },
  {
   "cell_type": "code",
   "execution_count": 12,
   "id": "1bf64c80",
   "metadata": {},
   "outputs": [
    {
     "data": {
      "text/plain": [
       "array([ 5,  6, 89, 97], dtype=int64)"
      ]
     },
     "execution_count": 12,
     "metadata": {},
     "output_type": "execute_result"
    }
   ],
   "source": [
    "# devulve los valores asignados a una serie\n",
    "\n",
    "serie1.values"
   ]
  },
  {
   "cell_type": "code",
   "execution_count": 13,
   "id": "5be1bb4f",
   "metadata": {},
   "outputs": [],
   "source": [
    "# realizar operaciones con series se debe tener cuidado que tengan las mismas etiquetas\n",
    "\n",
    "# suma de series\n",
    "\n",
    "serie = pd.Series([1,2,4,5,6], index = ['a', 'b', 'c', 'd', 'e'])\n",
    "\n",
    "diccionario = {'a':5, 'b':6 ,'c':89, 'd':97, 'e':15}\n",
    "\n",
    "serie1 = pd.Series(diccionario)\n",
    "\n",
    "resultado = serie + serie1"
   ]
  },
  {
   "cell_type": "code",
   "execution_count": 14,
   "id": "0e6382bf",
   "metadata": {},
   "outputs": [
    {
     "data": {
      "text/plain": [
       "a      6\n",
       "b      8\n",
       "c     93\n",
       "d    102\n",
       "e     21\n",
       "dtype: int64"
      ]
     },
     "execution_count": 14,
     "metadata": {},
     "output_type": "execute_result"
    }
   ],
   "source": [
    "resultado"
   ]
  },
  {
   "cell_type": "code",
   "execution_count": 15,
   "id": "5162ace6",
   "metadata": {},
   "outputs": [
    {
     "data": {
      "text/plain": [
       "a     50\n",
       "b     60\n",
       "c    890\n",
       "d    970\n",
       "e    150\n",
       "dtype: int64"
      ]
     },
     "execution_count": 15,
     "metadata": {},
     "output_type": "execute_result"
    }
   ],
   "source": [
    "# multiplicar todos los elementos de una serie por un valor\n",
    "\n",
    "serie1*10"
   ]
  },
  {
   "cell_type": "code",
   "execution_count": 16,
   "id": "95e20aa7",
   "metadata": {},
   "outputs": [],
   "source": [
    "# utilizar las opciones de numpy \n",
    "import numpy as np"
   ]
  },
  {
   "cell_type": "code",
   "execution_count": 17,
   "id": "d3be9605",
   "metadata": {},
   "outputs": [
    {
     "data": {
      "text/plain": [
       "a    2.236068\n",
       "b    2.449490\n",
       "c    9.433981\n",
       "d    9.848858\n",
       "e    3.872983\n",
       "dtype: float64"
      ]
     },
     "execution_count": 17,
     "metadata": {},
     "output_type": "execute_result"
    }
   ],
   "source": [
    "# raiz cuadrada de la serie1\n",
    "np.sqrt(serie1)"
   ]
  },
  {
   "cell_type": "code",
   "execution_count": 18,
   "id": "647444a9",
   "metadata": {},
   "outputs": [],
   "source": [
    "\"\"\"\n",
    "\n",
    "Crear un dataframe es una estructura bidimencional muy parecidas a las tablas\n",
    "\n",
    "\"\"\"\n",
    "\n",
    "# se crea un diccionario con dos columnas se series\n",
    "\n",
    "dic1 = {'columna1': pd.Series([1,2,4,5,6], index = ['a', 'b', 'c', 'd', 'e']),'columna2': pd.Series([8,9,10,11,12], index = ['a', 'b', 'c', 'd', 'e'])}"
   ]
  },
  {
   "cell_type": "code",
   "execution_count": 19,
   "id": "a34ee339",
   "metadata": {},
   "outputs": [],
   "source": [
    "# se crea el dataframe a partir del diccionario\n",
    "\n",
    "dataframe = pd.DataFrame(dic1)"
   ]
  },
  {
   "cell_type": "code",
   "execution_count": 20,
   "id": "1a6228c7",
   "metadata": {},
   "outputs": [
    {
     "data": {
      "text/html": [
       "<div>\n",
       "<style scoped>\n",
       "    .dataframe tbody tr th:only-of-type {\n",
       "        vertical-align: middle;\n",
       "    }\n",
       "\n",
       "    .dataframe tbody tr th {\n",
       "        vertical-align: top;\n",
       "    }\n",
       "\n",
       "    .dataframe thead th {\n",
       "        text-align: right;\n",
       "    }\n",
       "</style>\n",
       "<table border=\"1\" class=\"dataframe\">\n",
       "  <thead>\n",
       "    <tr style=\"text-align: right;\">\n",
       "      <th></th>\n",
       "      <th>columna1</th>\n",
       "      <th>columna2</th>\n",
       "    </tr>\n",
       "  </thead>\n",
       "  <tbody>\n",
       "    <tr>\n",
       "      <th>a</th>\n",
       "      <td>1</td>\n",
       "      <td>8</td>\n",
       "    </tr>\n",
       "    <tr>\n",
       "      <th>b</th>\n",
       "      <td>2</td>\n",
       "      <td>9</td>\n",
       "    </tr>\n",
       "    <tr>\n",
       "      <th>c</th>\n",
       "      <td>4</td>\n",
       "      <td>10</td>\n",
       "    </tr>\n",
       "    <tr>\n",
       "      <th>d</th>\n",
       "      <td>5</td>\n",
       "      <td>11</td>\n",
       "    </tr>\n",
       "    <tr>\n",
       "      <th>e</th>\n",
       "      <td>6</td>\n",
       "      <td>12</td>\n",
       "    </tr>\n",
       "  </tbody>\n",
       "</table>\n",
       "</div>"
      ],
      "text/plain": [
       "   columna1  columna2\n",
       "a         1         8\n",
       "b         2         9\n",
       "c         4        10\n",
       "d         5        11\n",
       "e         6        12"
      ]
     },
     "execution_count": 20,
     "metadata": {},
     "output_type": "execute_result"
    }
   ],
   "source": [
    "dataframe"
   ]
  },
  {
   "cell_type": "code",
   "execution_count": 21,
   "id": "8a121f9f",
   "metadata": {},
   "outputs": [],
   "source": [
    "# crear un dataframe a partir de una lista con diccionarios\n",
    "\n",
    "lista = [{'a':1, 'b':5, 'c':7}, {'c':1, 'h':5, 'b':7}]\n",
    "\n",
    "dataframe1 = pd.DataFrame(lista)"
   ]
  },
  {
   "cell_type": "code",
   "execution_count": 22,
   "id": "baba68ea",
   "metadata": {},
   "outputs": [
    {
     "data": {
      "text/html": [
       "<div>\n",
       "<style scoped>\n",
       "    .dataframe tbody tr th:only-of-type {\n",
       "        vertical-align: middle;\n",
       "    }\n",
       "\n",
       "    .dataframe tbody tr th {\n",
       "        vertical-align: top;\n",
       "    }\n",
       "\n",
       "    .dataframe thead th {\n",
       "        text-align: right;\n",
       "    }\n",
       "</style>\n",
       "<table border=\"1\" class=\"dataframe\">\n",
       "  <thead>\n",
       "    <tr style=\"text-align: right;\">\n",
       "      <th></th>\n",
       "      <th>a</th>\n",
       "      <th>b</th>\n",
       "      <th>c</th>\n",
       "      <th>h</th>\n",
       "    </tr>\n",
       "  </thead>\n",
       "  <tbody>\n",
       "    <tr>\n",
       "      <th>0</th>\n",
       "      <td>1.0</td>\n",
       "      <td>5</td>\n",
       "      <td>7</td>\n",
       "      <td>NaN</td>\n",
       "    </tr>\n",
       "    <tr>\n",
       "      <th>1</th>\n",
       "      <td>NaN</td>\n",
       "      <td>7</td>\n",
       "      <td>1</td>\n",
       "      <td>5.0</td>\n",
       "    </tr>\n",
       "  </tbody>\n",
       "</table>\n",
       "</div>"
      ],
      "text/plain": [
       "     a  b  c    h\n",
       "0  1.0  5  7  NaN\n",
       "1  NaN  7  1  5.0"
      ]
     },
     "execution_count": 22,
     "metadata": {},
     "output_type": "execute_result"
    }
   ],
   "source": [
    "dataframe1"
   ]
  },
  {
   "cell_type": "code",
   "execution_count": 23,
   "id": "80da5dc9",
   "metadata": {},
   "outputs": [
    {
     "data": {
      "text/plain": [
       "0    5\n",
       "1    7\n",
       "Name: b, dtype: int64"
      ]
     },
     "execution_count": 23,
     "metadata": {},
     "output_type": "execute_result"
    }
   ],
   "source": [
    "# consultar una columna en concreto con un dataframe\n",
    "\n",
    "dataframe1['b']"
   ]
  },
  {
   "cell_type": "code",
   "execution_count": 24,
   "id": "3c046bdc",
   "metadata": {},
   "outputs": [],
   "source": [
    "# agregar columnas a un dataframe\n",
    "\n",
    "dataframe1['t'] = pd.Series([5,2], index = [0,1])"
   ]
  },
  {
   "cell_type": "code",
   "execution_count": 25,
   "id": "e550a527",
   "metadata": {},
   "outputs": [
    {
     "data": {
      "text/html": [
       "<div>\n",
       "<style scoped>\n",
       "    .dataframe tbody tr th:only-of-type {\n",
       "        vertical-align: middle;\n",
       "    }\n",
       "\n",
       "    .dataframe tbody tr th {\n",
       "        vertical-align: top;\n",
       "    }\n",
       "\n",
       "    .dataframe thead th {\n",
       "        text-align: right;\n",
       "    }\n",
       "</style>\n",
       "<table border=\"1\" class=\"dataframe\">\n",
       "  <thead>\n",
       "    <tr style=\"text-align: right;\">\n",
       "      <th></th>\n",
       "      <th>a</th>\n",
       "      <th>b</th>\n",
       "      <th>c</th>\n",
       "      <th>h</th>\n",
       "      <th>t</th>\n",
       "    </tr>\n",
       "  </thead>\n",
       "  <tbody>\n",
       "    <tr>\n",
       "      <th>0</th>\n",
       "      <td>1.0</td>\n",
       "      <td>5</td>\n",
       "      <td>7</td>\n",
       "      <td>NaN</td>\n",
       "      <td>5</td>\n",
       "    </tr>\n",
       "    <tr>\n",
       "      <th>1</th>\n",
       "      <td>NaN</td>\n",
       "      <td>7</td>\n",
       "      <td>1</td>\n",
       "      <td>5.0</td>\n",
       "      <td>2</td>\n",
       "    </tr>\n",
       "  </tbody>\n",
       "</table>\n",
       "</div>"
      ],
      "text/plain": [
       "     a  b  c    h  t\n",
       "0  1.0  5  7  NaN  5\n",
       "1  NaN  7  1  5.0  2"
      ]
     },
     "execution_count": 25,
     "metadata": {},
     "output_type": "execute_result"
    }
   ],
   "source": [
    "dataframe1"
   ]
  },
  {
   "cell_type": "code",
   "execution_count": 26,
   "id": "48521a61",
   "metadata": {},
   "outputs": [],
   "source": [
    "# añadir columna al primer frame\n",
    "dataframe['columna3'] = pd.Series([1,2,4,5,6], index = ['a', 'b', 'c', 'd', 'e'])"
   ]
  },
  {
   "cell_type": "code",
   "execution_count": 27,
   "id": "934c1fa1",
   "metadata": {},
   "outputs": [
    {
     "data": {
      "text/html": [
       "<div>\n",
       "<style scoped>\n",
       "    .dataframe tbody tr th:only-of-type {\n",
       "        vertical-align: middle;\n",
       "    }\n",
       "\n",
       "    .dataframe tbody tr th {\n",
       "        vertical-align: top;\n",
       "    }\n",
       "\n",
       "    .dataframe thead th {\n",
       "        text-align: right;\n",
       "    }\n",
       "</style>\n",
       "<table border=\"1\" class=\"dataframe\">\n",
       "  <thead>\n",
       "    <tr style=\"text-align: right;\">\n",
       "      <th></th>\n",
       "      <th>columna1</th>\n",
       "      <th>columna2</th>\n",
       "      <th>columna3</th>\n",
       "    </tr>\n",
       "  </thead>\n",
       "  <tbody>\n",
       "    <tr>\n",
       "      <th>a</th>\n",
       "      <td>1</td>\n",
       "      <td>8</td>\n",
       "      <td>1</td>\n",
       "    </tr>\n",
       "    <tr>\n",
       "      <th>b</th>\n",
       "      <td>2</td>\n",
       "      <td>9</td>\n",
       "      <td>2</td>\n",
       "    </tr>\n",
       "    <tr>\n",
       "      <th>c</th>\n",
       "      <td>4</td>\n",
       "      <td>10</td>\n",
       "      <td>4</td>\n",
       "    </tr>\n",
       "    <tr>\n",
       "      <th>d</th>\n",
       "      <td>5</td>\n",
       "      <td>11</td>\n",
       "      <td>5</td>\n",
       "    </tr>\n",
       "    <tr>\n",
       "      <th>e</th>\n",
       "      <td>6</td>\n",
       "      <td>12</td>\n",
       "      <td>6</td>\n",
       "    </tr>\n",
       "  </tbody>\n",
       "</table>\n",
       "</div>"
      ],
      "text/plain": [
       "   columna1  columna2  columna3\n",
       "a         1         8         1\n",
       "b         2         9         2\n",
       "c         4        10         4\n",
       "d         5        11         5\n",
       "e         6        12         6"
      ]
     },
     "execution_count": 27,
     "metadata": {},
     "output_type": "execute_result"
    }
   ],
   "source": [
    "dataframe"
   ]
  },
  {
   "cell_type": "code",
   "execution_count": 28,
   "id": "3275eff1",
   "metadata": {},
   "outputs": [],
   "source": [
    "# eliminar una columna del dataframe\n",
    "\n",
    "del dataframe['columna1']"
   ]
  },
  {
   "cell_type": "code",
   "execution_count": 29,
   "id": "e5f39798",
   "metadata": {},
   "outputs": [
    {
     "data": {
      "text/html": [
       "<div>\n",
       "<style scoped>\n",
       "    .dataframe tbody tr th:only-of-type {\n",
       "        vertical-align: middle;\n",
       "    }\n",
       "\n",
       "    .dataframe tbody tr th {\n",
       "        vertical-align: top;\n",
       "    }\n",
       "\n",
       "    .dataframe thead th {\n",
       "        text-align: right;\n",
       "    }\n",
       "</style>\n",
       "<table border=\"1\" class=\"dataframe\">\n",
       "  <thead>\n",
       "    <tr style=\"text-align: right;\">\n",
       "      <th></th>\n",
       "      <th>columna2</th>\n",
       "      <th>columna3</th>\n",
       "    </tr>\n",
       "  </thead>\n",
       "  <tbody>\n",
       "    <tr>\n",
       "      <th>a</th>\n",
       "      <td>8</td>\n",
       "      <td>1</td>\n",
       "    </tr>\n",
       "    <tr>\n",
       "      <th>b</th>\n",
       "      <td>9</td>\n",
       "      <td>2</td>\n",
       "    </tr>\n",
       "    <tr>\n",
       "      <th>c</th>\n",
       "      <td>10</td>\n",
       "      <td>4</td>\n",
       "    </tr>\n",
       "    <tr>\n",
       "      <th>d</th>\n",
       "      <td>11</td>\n",
       "      <td>5</td>\n",
       "    </tr>\n",
       "    <tr>\n",
       "      <th>e</th>\n",
       "      <td>12</td>\n",
       "      <td>6</td>\n",
       "    </tr>\n",
       "  </tbody>\n",
       "</table>\n",
       "</div>"
      ],
      "text/plain": [
       "   columna2  columna3\n",
       "a         8         1\n",
       "b         9         2\n",
       "c        10         4\n",
       "d        11         5\n",
       "e        12         6"
      ]
     },
     "execution_count": 29,
     "metadata": {},
     "output_type": "execute_result"
    }
   ],
   "source": [
    "dataframe"
   ]
  },
  {
   "cell_type": "code",
   "execution_count": 30,
   "id": "a01f3cca",
   "metadata": {},
   "outputs": [
    {
     "data": {
      "text/plain": [
       "columna2    9\n",
       "columna3    2\n",
       "Name: b, dtype: int64"
      ]
     },
     "execution_count": 30,
     "metadata": {},
     "output_type": "execute_result"
    }
   ],
   "source": [
    "# acceder a valores de una fila de un dataframe\n",
    "\n",
    "dataframe.loc['b']"
   ]
  },
  {
   "cell_type": "code",
   "execution_count": 31,
   "id": "5a72c029",
   "metadata": {},
   "outputs": [
    {
     "data": {
      "text/plain": [
       "columna2    9\n",
       "columna3    2\n",
       "Name: b, dtype: int64"
      ]
     },
     "execution_count": 31,
     "metadata": {},
     "output_type": "execute_result"
    }
   ],
   "source": [
    "# acceder a valores de una fila por posicion de un dataframe\n",
    "\n",
    "dataframe.iloc[1]"
   ]
  },
  {
   "cell_type": "code",
   "execution_count": 32,
   "id": "0285891e",
   "metadata": {},
   "outputs": [],
   "source": [
    "# seleccion de filas por array booleano\n",
    "\n",
    "filtro = np.array([True, False, True, False, True])"
   ]
  },
  {
   "cell_type": "code",
   "execution_count": 33,
   "id": "c3e108ed",
   "metadata": {},
   "outputs": [
    {
     "data": {
      "text/html": [
       "<div>\n",
       "<style scoped>\n",
       "    .dataframe tbody tr th:only-of-type {\n",
       "        vertical-align: middle;\n",
       "    }\n",
       "\n",
       "    .dataframe tbody tr th {\n",
       "        vertical-align: top;\n",
       "    }\n",
       "\n",
       "    .dataframe thead th {\n",
       "        text-align: right;\n",
       "    }\n",
       "</style>\n",
       "<table border=\"1\" class=\"dataframe\">\n",
       "  <thead>\n",
       "    <tr style=\"text-align: right;\">\n",
       "      <th></th>\n",
       "      <th>columna2</th>\n",
       "      <th>columna3</th>\n",
       "    </tr>\n",
       "  </thead>\n",
       "  <tbody>\n",
       "    <tr>\n",
       "      <th>a</th>\n",
       "      <td>8</td>\n",
       "      <td>1</td>\n",
       "    </tr>\n",
       "    <tr>\n",
       "      <th>c</th>\n",
       "      <td>10</td>\n",
       "      <td>4</td>\n",
       "    </tr>\n",
       "    <tr>\n",
       "      <th>e</th>\n",
       "      <td>12</td>\n",
       "      <td>6</td>\n",
       "    </tr>\n",
       "  </tbody>\n",
       "</table>\n",
       "</div>"
      ],
      "text/plain": [
       "   columna2  columna3\n",
       "a         8         1\n",
       "c        10         4\n",
       "e        12         6"
      ]
     },
     "execution_count": 33,
     "metadata": {},
     "output_type": "execute_result"
    }
   ],
   "source": [
    "dataframe[filtro]"
   ]
  },
  {
   "cell_type": "code",
   "execution_count": 34,
   "id": "09960c18",
   "metadata": {},
   "outputs": [
    {
     "data": {
      "text/html": [
       "<div>\n",
       "<style scoped>\n",
       "    .dataframe tbody tr th:only-of-type {\n",
       "        vertical-align: middle;\n",
       "    }\n",
       "\n",
       "    .dataframe tbody tr th {\n",
       "        vertical-align: top;\n",
       "    }\n",
       "\n",
       "    .dataframe thead th {\n",
       "        text-align: right;\n",
       "    }\n",
       "</style>\n",
       "<table border=\"1\" class=\"dataframe\">\n",
       "  <thead>\n",
       "    <tr style=\"text-align: right;\">\n",
       "      <th></th>\n",
       "      <th>a</th>\n",
       "      <th>b</th>\n",
       "      <th>c</th>\n",
       "      <th>d</th>\n",
       "      <th>e</th>\n",
       "    </tr>\n",
       "  </thead>\n",
       "  <tbody>\n",
       "    <tr>\n",
       "      <th>columna2</th>\n",
       "      <td>8</td>\n",
       "      <td>9</td>\n",
       "      <td>10</td>\n",
       "      <td>11</td>\n",
       "      <td>12</td>\n",
       "    </tr>\n",
       "    <tr>\n",
       "      <th>columna3</th>\n",
       "      <td>1</td>\n",
       "      <td>2</td>\n",
       "      <td>4</td>\n",
       "      <td>5</td>\n",
       "      <td>6</td>\n",
       "    </tr>\n",
       "  </tbody>\n",
       "</table>\n",
       "</div>"
      ],
      "text/plain": [
       "          a  b   c   d   e\n",
       "columna2  8  9  10  11  12\n",
       "columna3  1  2   4   5   6"
      ]
     },
     "execution_count": 34,
     "metadata": {},
     "output_type": "execute_result"
    }
   ],
   "source": [
    "# realizar la transpuesta de un dataframe\n",
    "\n",
    "dataframe.T"
   ]
  },
  {
   "cell_type": "code",
   "execution_count": 35,
   "id": "fed185bb",
   "metadata": {},
   "outputs": [
    {
     "data": {
      "text/html": [
       "<div>\n",
       "<style scoped>\n",
       "    .dataframe tbody tr th:only-of-type {\n",
       "        vertical-align: middle;\n",
       "    }\n",
       "\n",
       "    .dataframe tbody tr th {\n",
       "        vertical-align: top;\n",
       "    }\n",
       "\n",
       "    .dataframe thead th {\n",
       "        text-align: right;\n",
       "    }\n",
       "</style>\n",
       "<table border=\"1\" class=\"dataframe\">\n",
       "  <thead>\n",
       "    <tr style=\"text-align: right;\">\n",
       "      <th></th>\n",
       "      <th>nombre</th>\n",
       "      <th>localidad</th>\n",
       "      <th>edad</th>\n",
       "      <th>estado civil</th>\n",
       "      <th>sexo</th>\n",
       "    </tr>\n",
       "  </thead>\n",
       "  <tbody>\n",
       "    <tr>\n",
       "      <th>user3</th>\n",
       "      <td>Juan</td>\n",
       "      <td>Barcelona</td>\n",
       "      <td>32</td>\n",
       "      <td>Soltero</td>\n",
       "      <td>Hombre</td>\n",
       "    </tr>\n",
       "    <tr>\n",
       "      <th>user4</th>\n",
       "      <td>Alicia</td>\n",
       "      <td>Santander</td>\n",
       "      <td>47</td>\n",
       "      <td>Casado</td>\n",
       "      <td>Mujer</td>\n",
       "    </tr>\n",
       "    <tr>\n",
       "      <th>user2</th>\n",
       "      <td>Marcos</td>\n",
       "      <td>Madrid</td>\n",
       "      <td>31</td>\n",
       "      <td>Casado</td>\n",
       "      <td>Hombre</td>\n",
       "    </tr>\n",
       "    <tr>\n",
       "      <th>user1</th>\n",
       "      <td>Isabel</td>\n",
       "      <td>Zaragoza</td>\n",
       "      <td>70</td>\n",
       "      <td>Soltero</td>\n",
       "      <td>Mujer</td>\n",
       "    </tr>\n",
       "  </tbody>\n",
       "</table>\n",
       "</div>"
      ],
      "text/plain": [
       "       nombre  localidad edad estado civil    sexo\n",
       "user3    Juan  Barcelona   32      Soltero  Hombre\n",
       "user4  Alicia  Santander   47       Casado   Mujer\n",
       "user2  Marcos     Madrid   31       Casado  Hombre\n",
       "user1  Isabel   Zaragoza   70      Soltero   Mujer"
      ]
     },
     "execution_count": 35,
     "metadata": {},
     "output_type": "execute_result"
    }
   ],
   "source": [
    "# gestion de datos \n",
    "\n",
    "diccionario = {'user3': pd.Series(['Juan', 'Barcelona', 32, 'Soltero', 'Hombre'], index = ['nombre', 'localidad', 'edad','estado civil', 'sexo']),\n",
    "               'user4': pd.Series(['Alicia', 'Santander', 47, 'Casado', 'Mujer'] , index = ['nombre', 'localidad', 'edad','estado civil', 'sexo']),\n",
    "               'user2': pd.Series(['Marcos', 'Madrid', 31, 'Casado', 'Hombre'] , index = ['nombre', 'localidad', 'edad','estado civil', 'sexo']),\n",
    "               'user1': pd.Series(['Isabel', 'Zaragoza', 70, 'Soltero', 'Mujer'] , index = ['nombre', 'localidad', 'edad','estado civil', 'sexo'])}\n",
    "\n",
    "datframe = pd.DataFrame(diccionario).T\n",
    "datframe"
   ]
  },
  {
   "cell_type": "code",
   "execution_count": 36,
   "id": "29b4d858",
   "metadata": {},
   "outputs": [
    {
     "data": {
      "text/html": [
       "<div>\n",
       "<style scoped>\n",
       "    .dataframe tbody tr th:only-of-type {\n",
       "        vertical-align: middle;\n",
       "    }\n",
       "\n",
       "    .dataframe tbody tr th {\n",
       "        vertical-align: top;\n",
       "    }\n",
       "\n",
       "    .dataframe thead th {\n",
       "        text-align: right;\n",
       "    }\n",
       "</style>\n",
       "<table border=\"1\" class=\"dataframe\">\n",
       "  <thead>\n",
       "    <tr style=\"text-align: right;\">\n",
       "      <th></th>\n",
       "      <th>nombre</th>\n",
       "      <th>localidad</th>\n",
       "      <th>edad</th>\n",
       "      <th>estado civil</th>\n",
       "      <th>sexo</th>\n",
       "    </tr>\n",
       "  </thead>\n",
       "  <tbody>\n",
       "    <tr>\n",
       "      <th>user2</th>\n",
       "      <td>Marcos</td>\n",
       "      <td>Madrid</td>\n",
       "      <td>31</td>\n",
       "      <td>Casado</td>\n",
       "      <td>Hombre</td>\n",
       "    </tr>\n",
       "    <tr>\n",
       "      <th>user3</th>\n",
       "      <td>Juan</td>\n",
       "      <td>Barcelona</td>\n",
       "      <td>32</td>\n",
       "      <td>Soltero</td>\n",
       "      <td>Hombre</td>\n",
       "    </tr>\n",
       "    <tr>\n",
       "      <th>user4</th>\n",
       "      <td>Alicia</td>\n",
       "      <td>Santander</td>\n",
       "      <td>47</td>\n",
       "      <td>Casado</td>\n",
       "      <td>Mujer</td>\n",
       "    </tr>\n",
       "    <tr>\n",
       "      <th>user1</th>\n",
       "      <td>Isabel</td>\n",
       "      <td>Zaragoza</td>\n",
       "      <td>70</td>\n",
       "      <td>Soltero</td>\n",
       "      <td>Mujer</td>\n",
       "    </tr>\n",
       "  </tbody>\n",
       "</table>\n",
       "</div>"
      ],
      "text/plain": [
       "       nombre  localidad edad estado civil    sexo\n",
       "user2  Marcos     Madrid   31       Casado  Hombre\n",
       "user3    Juan  Barcelona   32      Soltero  Hombre\n",
       "user4  Alicia  Santander   47       Casado   Mujer\n",
       "user1  Isabel   Zaragoza   70      Soltero   Mujer"
      ]
     },
     "execution_count": 36,
     "metadata": {},
     "output_type": "execute_result"
    }
   ],
   "source": [
    "# ordenar filas por un valor\n",
    "\n",
    "datframe.sort_values(by = \"edad\")"
   ]
  },
  {
   "cell_type": "code",
   "execution_count": 37,
   "id": "1e5ee7d7",
   "metadata": {},
   "outputs": [
    {
     "data": {
      "text/html": [
       "<div>\n",
       "<style scoped>\n",
       "    .dataframe tbody tr th:only-of-type {\n",
       "        vertical-align: middle;\n",
       "    }\n",
       "\n",
       "    .dataframe tbody tr th {\n",
       "        vertical-align: top;\n",
       "    }\n",
       "\n",
       "    .dataframe thead th {\n",
       "        text-align: right;\n",
       "    }\n",
       "</style>\n",
       "<table border=\"1\" class=\"dataframe\">\n",
       "  <thead>\n",
       "    <tr style=\"text-align: right;\">\n",
       "      <th></th>\n",
       "      <th>nombre</th>\n",
       "      <th>localidad</th>\n",
       "      <th>edad</th>\n",
       "      <th>estado civil</th>\n",
       "      <th>sexo</th>\n",
       "    </tr>\n",
       "  </thead>\n",
       "  <tbody>\n",
       "    <tr>\n",
       "      <th>user2</th>\n",
       "      <td>Marcos</td>\n",
       "      <td>Madrid</td>\n",
       "      <td>31</td>\n",
       "      <td>Casado</td>\n",
       "      <td>Hombre</td>\n",
       "    </tr>\n",
       "    <tr>\n",
       "      <th>user3</th>\n",
       "      <td>Juan</td>\n",
       "      <td>Barcelona</td>\n",
       "      <td>32</td>\n",
       "      <td>Soltero</td>\n",
       "      <td>Hombre</td>\n",
       "    </tr>\n",
       "    <tr>\n",
       "      <th>user1</th>\n",
       "      <td>Isabel</td>\n",
       "      <td>Zaragoza</td>\n",
       "      <td>70</td>\n",
       "      <td>Soltero</td>\n",
       "      <td>Mujer</td>\n",
       "    </tr>\n",
       "    <tr>\n",
       "      <th>user4</th>\n",
       "      <td>Alicia</td>\n",
       "      <td>Santander</td>\n",
       "      <td>47</td>\n",
       "      <td>Casado</td>\n",
       "      <td>Mujer</td>\n",
       "    </tr>\n",
       "  </tbody>\n",
       "</table>\n",
       "</div>"
      ],
      "text/plain": [
       "       nombre  localidad edad estado civil    sexo\n",
       "user2  Marcos     Madrid   31       Casado  Hombre\n",
       "user3    Juan  Barcelona   32      Soltero  Hombre\n",
       "user1  Isabel   Zaragoza   70      Soltero   Mujer\n",
       "user4  Alicia  Santander   47       Casado   Mujer"
      ]
     },
     "execution_count": 37,
     "metadata": {},
     "output_type": "execute_result"
    }
   ],
   "source": [
    "# ordenar filas por un dato de forma acendente o decendente\n",
    "\n",
    "datframe.sort_values(by = \"nombre\", ascending = False)"
   ]
  },
  {
   "cell_type": "code",
   "execution_count": 38,
   "id": "cd6830e2",
   "metadata": {},
   "outputs": [
    {
     "data": {
      "text/html": [
       "<div>\n",
       "<style scoped>\n",
       "    .dataframe tbody tr th:only-of-type {\n",
       "        vertical-align: middle;\n",
       "    }\n",
       "\n",
       "    .dataframe tbody tr th {\n",
       "        vertical-align: top;\n",
       "    }\n",
       "\n",
       "    .dataframe thead th {\n",
       "        text-align: right;\n",
       "    }\n",
       "</style>\n",
       "<table border=\"1\" class=\"dataframe\">\n",
       "  <thead>\n",
       "    <tr style=\"text-align: right;\">\n",
       "      <th></th>\n",
       "      <th>nombre</th>\n",
       "      <th>localidad</th>\n",
       "      <th>edad</th>\n",
       "      <th>sexo</th>\n",
       "    </tr>\n",
       "    <tr>\n",
       "      <th>estado civil</th>\n",
       "      <th></th>\n",
       "      <th></th>\n",
       "      <th></th>\n",
       "      <th></th>\n",
       "    </tr>\n",
       "  </thead>\n",
       "  <tbody>\n",
       "    <tr>\n",
       "      <th>Casado</th>\n",
       "      <td>2</td>\n",
       "      <td>2</td>\n",
       "      <td>2</td>\n",
       "      <td>2</td>\n",
       "    </tr>\n",
       "    <tr>\n",
       "      <th>Soltero</th>\n",
       "      <td>2</td>\n",
       "      <td>2</td>\n",
       "      <td>2</td>\n",
       "      <td>2</td>\n",
       "    </tr>\n",
       "  </tbody>\n",
       "</table>\n",
       "</div>"
      ],
      "text/plain": [
       "              nombre  localidad  edad  sexo\n",
       "estado civil                               \n",
       "Casado             2          2     2     2\n",
       "Soltero            2          2     2     2"
      ]
     },
     "execution_count": 38,
     "metadata": {},
     "output_type": "execute_result"
    }
   ],
   "source": [
    "# agrupar por valores\n",
    "\n",
    "datframe.groupby(by = \"estado civil\").count()"
   ]
  },
  {
   "cell_type": "code",
   "execution_count": 39,
   "id": "3f58fc20",
   "metadata": {},
   "outputs": [
    {
     "data": {
      "text/plain": [
       "user3     True\n",
       "user4    False\n",
       "user2    False\n",
       "user1    False\n",
       "dtype: bool"
      ]
     },
     "execution_count": 39,
     "metadata": {},
     "output_type": "execute_result"
    }
   ],
   "source": [
    "# generar funciones anonimas para una fila de un dataframe\n",
    "\n",
    "datframe.apply(lambda item: item['edad'] < 35 and item['estado civil'] == 'Soltero', axis= 1)"
   ]
  },
  {
   "cell_type": "code",
   "execution_count": 40,
   "id": "d5bc8eb5",
   "metadata": {},
   "outputs": [
    {
     "data": {
      "text/html": [
       "<div>\n",
       "<style scoped>\n",
       "    .dataframe tbody tr th:only-of-type {\n",
       "        vertical-align: middle;\n",
       "    }\n",
       "\n",
       "    .dataframe tbody tr th {\n",
       "        vertical-align: top;\n",
       "    }\n",
       "\n",
       "    .dataframe thead th {\n",
       "        text-align: right;\n",
       "    }\n",
       "</style>\n",
       "<table border=\"1\" class=\"dataframe\">\n",
       "  <thead>\n",
       "    <tr style=\"text-align: right;\">\n",
       "      <th></th>\n",
       "      <th>nombre</th>\n",
       "      <th>localidad</th>\n",
       "      <th>edad</th>\n",
       "      <th>estado civil</th>\n",
       "      <th>sexo</th>\n",
       "    </tr>\n",
       "  </thead>\n",
       "  <tbody>\n",
       "    <tr>\n",
       "      <th>count</th>\n",
       "      <td>4</td>\n",
       "      <td>4</td>\n",
       "      <td>4</td>\n",
       "      <td>4</td>\n",
       "      <td>4</td>\n",
       "    </tr>\n",
       "    <tr>\n",
       "      <th>unique</th>\n",
       "      <td>4</td>\n",
       "      <td>4</td>\n",
       "      <td>4</td>\n",
       "      <td>2</td>\n",
       "      <td>2</td>\n",
       "    </tr>\n",
       "    <tr>\n",
       "      <th>top</th>\n",
       "      <td>Juan</td>\n",
       "      <td>Barcelona</td>\n",
       "      <td>32</td>\n",
       "      <td>Soltero</td>\n",
       "      <td>Hombre</td>\n",
       "    </tr>\n",
       "    <tr>\n",
       "      <th>freq</th>\n",
       "      <td>1</td>\n",
       "      <td>1</td>\n",
       "      <td>1</td>\n",
       "      <td>2</td>\n",
       "      <td>2</td>\n",
       "    </tr>\n",
       "  </tbody>\n",
       "</table>\n",
       "</div>"
      ],
      "text/plain": [
       "       nombre  localidad  edad estado civil    sexo\n",
       "count       4          4     4            4       4\n",
       "unique      4          4     4            2       2\n",
       "top      Juan  Barcelona    32      Soltero  Hombre\n",
       "freq        1          1     1            2       2"
      ]
     },
     "execution_count": 40,
     "metadata": {},
     "output_type": "execute_result"
    }
   ],
   "source": [
    "# funciones estadisticas de los dataframes\n",
    "\n",
    "# obtiene algunas descripciones del dataframe\n",
    "\n",
    "datframe.describe()"
   ]
  },
  {
   "cell_type": "code",
   "execution_count": 41,
   "id": "6ffa09b3",
   "metadata": {},
   "outputs": [
    {
     "data": {
      "text/html": [
       "<div>\n",
       "<style scoped>\n",
       "    .dataframe tbody tr th:only-of-type {\n",
       "        vertical-align: middle;\n",
       "    }\n",
       "\n",
       "    .dataframe tbody tr th {\n",
       "        vertical-align: top;\n",
       "    }\n",
       "\n",
       "    .dataframe thead th {\n",
       "        text-align: right;\n",
       "    }\n",
       "</style>\n",
       "<table border=\"1\" class=\"dataframe\">\n",
       "  <thead>\n",
       "    <tr style=\"text-align: right;\">\n",
       "      <th></th>\n",
       "      <th>Film</th>\n",
       "      <th>Genre</th>\n",
       "      <th>Lead Studio</th>\n",
       "      <th>Audience score %</th>\n",
       "      <th>Profitability</th>\n",
       "      <th>Rotten Tomatoes %</th>\n",
       "      <th>Worldwide Gross</th>\n",
       "      <th>Year</th>\n",
       "    </tr>\n",
       "  </thead>\n",
       "  <tbody>\n",
       "    <tr>\n",
       "      <th>0</th>\n",
       "      <td>Zack and Miri Make a Porno</td>\n",
       "      <td>Romance</td>\n",
       "      <td>The Weinstein Company</td>\n",
       "      <td>70</td>\n",
       "      <td>1.747542</td>\n",
       "      <td>64</td>\n",
       "      <td>$41.94</td>\n",
       "      <td>2008</td>\n",
       "    </tr>\n",
       "    <tr>\n",
       "      <th>1</th>\n",
       "      <td>Youth in Revolt</td>\n",
       "      <td>Comedy</td>\n",
       "      <td>The Weinstein Company</td>\n",
       "      <td>52</td>\n",
       "      <td>1.090000</td>\n",
       "      <td>68</td>\n",
       "      <td>$19.62</td>\n",
       "      <td>2010</td>\n",
       "    </tr>\n",
       "    <tr>\n",
       "      <th>2</th>\n",
       "      <td>You Will Meet a Tall Dark Stranger</td>\n",
       "      <td>Comedy</td>\n",
       "      <td>Independent</td>\n",
       "      <td>35</td>\n",
       "      <td>1.211818</td>\n",
       "      <td>43</td>\n",
       "      <td>$26.66</td>\n",
       "      <td>2010</td>\n",
       "    </tr>\n",
       "    <tr>\n",
       "      <th>3</th>\n",
       "      <td>When in Rome</td>\n",
       "      <td>Comedy</td>\n",
       "      <td>Disney</td>\n",
       "      <td>44</td>\n",
       "      <td>0.000000</td>\n",
       "      <td>15</td>\n",
       "      <td>$43.04</td>\n",
       "      <td>2010</td>\n",
       "    </tr>\n",
       "    <tr>\n",
       "      <th>4</th>\n",
       "      <td>What Happens in Vegas</td>\n",
       "      <td>Comedy</td>\n",
       "      <td>Fox</td>\n",
       "      <td>72</td>\n",
       "      <td>6.267647</td>\n",
       "      <td>28</td>\n",
       "      <td>$219.37</td>\n",
       "      <td>2008</td>\n",
       "    </tr>\n",
       "    <tr>\n",
       "      <th>...</th>\n",
       "      <td>...</td>\n",
       "      <td>...</td>\n",
       "      <td>...</td>\n",
       "      <td>...</td>\n",
       "      <td>...</td>\n",
       "      <td>...</td>\n",
       "      <td>...</td>\n",
       "      <td>...</td>\n",
       "    </tr>\n",
       "    <tr>\n",
       "      <th>72</th>\n",
       "      <td>Across the Universe</td>\n",
       "      <td>romance</td>\n",
       "      <td>Independent</td>\n",
       "      <td>84</td>\n",
       "      <td>0.652603</td>\n",
       "      <td>54</td>\n",
       "      <td>$29.37</td>\n",
       "      <td>2007</td>\n",
       "    </tr>\n",
       "    <tr>\n",
       "      <th>73</th>\n",
       "      <td>A Serious Man</td>\n",
       "      <td>Drama</td>\n",
       "      <td>Universal</td>\n",
       "      <td>64</td>\n",
       "      <td>4.382857</td>\n",
       "      <td>89</td>\n",
       "      <td>$30.68</td>\n",
       "      <td>2009</td>\n",
       "    </tr>\n",
       "    <tr>\n",
       "      <th>74</th>\n",
       "      <td>A Dangerous Method</td>\n",
       "      <td>Drama</td>\n",
       "      <td>Independent</td>\n",
       "      <td>89</td>\n",
       "      <td>0.448645</td>\n",
       "      <td>79</td>\n",
       "      <td>$8.97</td>\n",
       "      <td>2011</td>\n",
       "    </tr>\n",
       "    <tr>\n",
       "      <th>75</th>\n",
       "      <td>27 Dresses</td>\n",
       "      <td>Comedy</td>\n",
       "      <td>Fox</td>\n",
       "      <td>71</td>\n",
       "      <td>5.343622</td>\n",
       "      <td>40</td>\n",
       "      <td>$160.31</td>\n",
       "      <td>2008</td>\n",
       "    </tr>\n",
       "    <tr>\n",
       "      <th>76</th>\n",
       "      <td>(500) Days of Summer</td>\n",
       "      <td>comedy</td>\n",
       "      <td>Fox</td>\n",
       "      <td>81</td>\n",
       "      <td>8.096000</td>\n",
       "      <td>87</td>\n",
       "      <td>$60.72</td>\n",
       "      <td>2009</td>\n",
       "    </tr>\n",
       "  </tbody>\n",
       "</table>\n",
       "<p>77 rows × 8 columns</p>\n",
       "</div>"
      ],
      "text/plain": [
       "                                  Film    Genre            Lead Studio  \\\n",
       "0           Zack and Miri Make a Porno  Romance  The Weinstein Company   \n",
       "1                      Youth in Revolt   Comedy  The Weinstein Company   \n",
       "2   You Will Meet a Tall Dark Stranger   Comedy            Independent   \n",
       "3                         When in Rome   Comedy                 Disney   \n",
       "4                What Happens in Vegas   Comedy                    Fox   \n",
       "..                                 ...      ...                    ...   \n",
       "72                 Across the Universe  romance            Independent   \n",
       "73                       A Serious Man    Drama              Universal   \n",
       "74                  A Dangerous Method    Drama            Independent   \n",
       "75                          27 Dresses   Comedy                    Fox   \n",
       "76                (500) Days of Summer   comedy                    Fox   \n",
       "\n",
       "    Audience score %  Profitability  Rotten Tomatoes % Worldwide Gross  Year  \n",
       "0                 70       1.747542                 64         $41.94   2008  \n",
       "1                 52       1.090000                 68         $19.62   2010  \n",
       "2                 35       1.211818                 43         $26.66   2010  \n",
       "3                 44       0.000000                 15         $43.04   2010  \n",
       "4                 72       6.267647                 28        $219.37   2008  \n",
       "..               ...            ...                ...             ...   ...  \n",
       "72                84       0.652603                 54         $29.37   2007  \n",
       "73                64       4.382857                 89         $30.68   2009  \n",
       "74                89       0.448645                 79          $8.97   2011  \n",
       "75                71       5.343622                 40        $160.31   2008  \n",
       "76                81       8.096000                 87         $60.72   2009  \n",
       "\n",
       "[77 rows x 8 columns]"
      ]
     },
     "execution_count": 41,
     "metadata": {},
     "output_type": "execute_result"
    }
   ],
   "source": [
    "# leer archivos .csv y convertirlo en dataframe\n",
    "\n",
    "pd.read_csv(\"movies.csv\")"
   ]
  },
  {
   "cell_type": "code",
   "execution_count": 42,
   "id": "354e8b86",
   "metadata": {},
   "outputs": [],
   "source": [
    "# generar archivo csv apartir de un dataframe\n",
    "\n",
    "dataframe.to_csv(\"mi_csv.csv\")"
   ]
  },
  {
   "cell_type": "code",
   "execution_count": null,
   "id": "8d87f11f",
   "metadata": {},
   "outputs": [],
   "source": []
  }
 ],
 "metadata": {
  "kernelspec": {
   "display_name": "Python 3 (ipykernel)",
   "language": "python",
   "name": "python3"
  },
  "language_info": {
   "codemirror_mode": {
    "name": "ipython",
    "version": 3
   },
   "file_extension": ".py",
   "mimetype": "text/x-python",
   "name": "python",
   "nbconvert_exporter": "python",
   "pygments_lexer": "ipython3",
   "version": "3.9.7"
  }
 },
 "nbformat": 4,
 "nbformat_minor": 5
}
