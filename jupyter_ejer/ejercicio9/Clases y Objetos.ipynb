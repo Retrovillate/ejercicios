{
 "cells": [
  {
   "cell_type": "code",
   "execution_count": 14,
   "id": "6e8c8718",
   "metadata": {},
   "outputs": [],
   "source": [
    "\"\"\"\n",
    "Creación de una clase\n",
    "\"\"\"\n",
    "class Libro:\n",
    "    titulo = \"Don Quijote de la Mancha\"\n",
    "    autor = \"Miguel de Cervantes\"\n",
    "    isbn = \"0987-4889\"\n",
    "    editorial = \"Una editorial\"\n",
    "    paginas = 987\n",
    "    edicion = 34\n",
    "    \n",
    "    # creando un constructor init\n",
    "    \n",
    "    def __init__(self, titulo, autor, isbn, editorial, paginas, edicion):\n",
    "        self.titulo = titulo\n",
    "        self.autor = autor\n",
    "        self.isbn = isbn\n",
    "        self.editorial = editorial\n",
    "        self.paginas = paginas\n",
    "        self.edicion = edicion\n",
    "    \n",
    "    # definición de metodos\n",
    "    def modificaEdicion(self, sumaEdicion):\n",
    "        self.edicion += sumaEdicion"
   ]
  },
  {
   "cell_type": "code",
   "execution_count": 5,
   "id": "fe63b022",
   "metadata": {},
   "outputs": [],
   "source": [
    "# invocación de una clase\n",
    "miLibro = Libro()"
   ]
  },
  {
   "cell_type": "code",
   "execution_count": 10,
   "id": "13310fa5",
   "metadata": {},
   "outputs": [
    {
     "data": {
      "text/plain": [
       "'Don Quijote de la Mancha'"
      ]
     },
     "execution_count": 10,
     "metadata": {},
     "output_type": "execute_result"
    }
   ],
   "source": [
    "# Llamado de los atributos de un objeto\n",
    "miLibro.titulo"
   ]
  },
  {
   "cell_type": "code",
   "execution_count": 11,
   "id": "f075ca26",
   "metadata": {},
   "outputs": [
    {
     "data": {
      "text/plain": [
       "39"
      ]
     },
     "execution_count": 11,
     "metadata": {},
     "output_type": "execute_result"
    }
   ],
   "source": [
    "miLibro.edicion"
   ]
  },
  {
   "cell_type": "code",
   "execution_count": 12,
   "id": "78b11bf5",
   "metadata": {},
   "outputs": [],
   "source": [
    "# llamado a los metodos del objeto\n",
    "miLibro.modificaEdicion(5)"
   ]
  },
  {
   "cell_type": "code",
   "execution_count": 13,
   "id": "ec39f3a0",
   "metadata": {},
   "outputs": [
    {
     "data": {
      "text/plain": [
       "44"
      ]
     },
     "execution_count": 13,
     "metadata": {},
     "output_type": "execute_result"
    }
   ],
   "source": [
    "miLibro.edicion"
   ]
  },
  {
   "cell_type": "code",
   "execution_count": 17,
   "id": "3f7e1b1e",
   "metadata": {},
   "outputs": [],
   "source": [
    "# invocación de un objeto inicializandolo\n",
    "miLibro = Libro(\"El principito\", \"Anonimo\", \"0658-7859\", \"Mi editorial\", 25, 1)\n",
    "miLibro2 = Libro(\"Crepusculo\", \"Stephenie Meyer\", \"568954654\", \"Editorial 2\", 250, 5)"
   ]
  },
  {
   "cell_type": "code",
   "execution_count": 16,
   "id": "da71cc74",
   "metadata": {},
   "outputs": [
    {
     "data": {
      "text/plain": [
       "1"
      ]
     },
     "execution_count": 16,
     "metadata": {},
     "output_type": "execute_result"
    }
   ],
   "source": [
    "miLibro.edicion"
   ]
  },
  {
   "cell_type": "code",
   "execution_count": 18,
   "id": "ef869735",
   "metadata": {},
   "outputs": [
    {
     "name": "stdout",
     "output_type": "stream",
     "text": [
      "El principito\n",
      "Crepusculo\n"
     ]
    }
   ],
   "source": [
    "print(miLibro.titulo)\n",
    "print(miLibro2.titulo)"
   ]
  },
  {
   "cell_type": "code",
   "execution_count": 47,
   "id": "cdc0cfdb",
   "metadata": {},
   "outputs": [],
   "source": [
    "\"\"\"\n",
    "Herencia en objetos\n",
    "\"\"\"\n",
    "class Persona:\n",
    "    \"\"\"\n",
    "    Clase Persona\n",
    "    \n",
    "    Esta clase cuenta con 4 atributos y un metodo\n",
    "    \"\"\"\n",
    "    def __init__(self, nombre, fechaDeNacimiento, domicilio):\n",
    "        self.nombre = nombre\n",
    "        self.fechaDeNacimiento = fechaDeNacimiento\n",
    "        self.domicilio = domicilio\n",
    "        \n",
    "    def cambiarDomicilio (self, nuevoDomicilio):\n",
    "        \"\"\"\n",
    "        Este metodo cambia de domicilio a la persona\n",
    "        \"\"\"\n",
    "        self.domicilio = nuevoDomicilio"
   ]
  },
  {
   "cell_type": "code",
   "execution_count": 26,
   "id": "25fc2dbd",
   "metadata": {},
   "outputs": [],
   "source": [
    "\"\"\"\n",
    "Clase heredada pofesor\n",
    "\"\"\"\n",
    "class Profesor (Persona):\n",
    "    def __init__(self, nombre, fechaDeNacimiento, domicilio, identificacionProfesor):\n",
    "        # llamado al objeto persona padre\n",
    "        Persona.__init__(self, nombre, fechaDeNacimiento, domicilio)\n",
    "        self.identificacionProfesor = identificacionProfesor\n",
    "    \n",
    "    def modificaIdentificacion(self, nuevaIdentificacion):\n",
    "        self.nuevaIdentificacion = nuevaIdentificacion\n",
    "        "
   ]
  },
  {
   "cell_type": "code",
   "execution_count": 34,
   "id": "62405a34",
   "metadata": {},
   "outputs": [],
   "source": [
    "\"\"\"\n",
    "Clase heredada Alumno\n",
    "\"\"\"\n",
    "class Alumno (Persona):\n",
    "    def __init__(self, nombre, fechaDeNacimiento, domicilio, calificacion):\n",
    "        # llamado al objeto persona padre\n",
    "        Persona.__init__(self, nombre, fechaDeNacimiento, domicilio)\n",
    "        self.calificacion = calificacion\n",
    "    \n",
    "    def calificar(self, nota):\n",
    "        self.calificacion = nota"
   ]
  },
  {
   "cell_type": "code",
   "execution_count": 35,
   "id": "bfde1db0",
   "metadata": {},
   "outputs": [],
   "source": [
    "alumno = Alumno (\"Alejandro\", \"30/08/1990\", \"calle inventada 123\", 0)\n",
    "\n",
    "profesor = Profesor(\"Pepe\", \"12707/1975\", \"calle inventada2 456\", \"123456\")"
   ]
  },
  {
   "cell_type": "code",
   "execution_count": 36,
   "id": "0bf758ee",
   "metadata": {},
   "outputs": [
    {
     "data": {
      "text/plain": [
       "'calle inventada 123'"
      ]
     },
     "execution_count": 36,
     "metadata": {},
     "output_type": "execute_result"
    }
   ],
   "source": [
    "alumno.domicilio"
   ]
  },
  {
   "cell_type": "code",
   "execution_count": 37,
   "id": "30fc271e",
   "metadata": {},
   "outputs": [
    {
     "data": {
      "text/plain": [
       "'calle inventada2 456'"
      ]
     },
     "execution_count": 37,
     "metadata": {},
     "output_type": "execute_result"
    }
   ],
   "source": [
    "profesor.domicilio"
   ]
  },
  {
   "cell_type": "code",
   "execution_count": 38,
   "id": "24f13085",
   "metadata": {},
   "outputs": [],
   "source": [
    "# llamando al metodo para cambiar domicilio\n",
    "alumno.cambiarDomicilio(\"inventado 789\")"
   ]
  },
  {
   "cell_type": "code",
   "execution_count": 39,
   "id": "a9c1e193",
   "metadata": {},
   "outputs": [
    {
     "data": {
      "text/plain": [
       "'inventado 789'"
      ]
     },
     "execution_count": 39,
     "metadata": {},
     "output_type": "execute_result"
    }
   ],
   "source": [
    "alumno.domicilio"
   ]
  },
  {
   "cell_type": "code",
   "execution_count": 40,
   "id": "e7e92eb4",
   "metadata": {},
   "outputs": [],
   "source": [
    "alumno.calificar(7)"
   ]
  },
  {
   "cell_type": "code",
   "execution_count": 41,
   "id": "69a72cac",
   "metadata": {},
   "outputs": [
    {
     "data": {
      "text/plain": [
       "7"
      ]
     },
     "execution_count": 41,
     "metadata": {},
     "output_type": "execute_result"
    }
   ],
   "source": [
    "alumno.calificacion"
   ]
  },
  {
   "cell_type": "code",
   "execution_count": 48,
   "id": "2755fef0",
   "metadata": {},
   "outputs": [
    {
     "name": "stdout",
     "output_type": "stream",
     "text": [
      "Help on class Persona in module __main__:\n",
      "\n",
      "class Persona(builtins.object)\n",
      " |  Persona(nombre, fechaDeNacimiento, domicilio)\n",
      " |  \n",
      " |  Clase Persona\n",
      " |  \n",
      " |  Esta clase cuenta con 4 atributos y un metodo\n",
      " |  \n",
      " |  Methods defined here:\n",
      " |  \n",
      " |  __init__(self, nombre, fechaDeNacimiento, domicilio)\n",
      " |      Initialize self.  See help(type(self)) for accurate signature.\n",
      " |  \n",
      " |  cambiarDomicilio(self, nuevoDomicilio)\n",
      " |      Este metodo cambia de domicilio a la persona\n",
      " |  \n",
      " |  ----------------------------------------------------------------------\n",
      " |  Data descriptors defined here:\n",
      " |  \n",
      " |  __dict__\n",
      " |      dictionary for instance variables (if defined)\n",
      " |  \n",
      " |  __weakref__\n",
      " |      list of weak references to the object (if defined)\n",
      "\n"
     ]
    }
   ],
   "source": [
    "# documentar clases\n",
    "help(Persona)"
   ]
  },
  {
   "cell_type": "code",
   "execution_count": 49,
   "id": "7bbde01a",
   "metadata": {},
   "outputs": [
    {
     "name": "stdout",
     "output_type": "stream",
     "text": [
      "Help on function cambiarDomicilio in module __main__:\n",
      "\n",
      "cambiarDomicilio(self, nuevoDomicilio)\n",
      "    Este metodo cambia de domicilio a la persona\n",
      "\n"
     ]
    }
   ],
   "source": [
    "help(Persona.cambiarDomicilio)"
   ]
  }
 ],
 "metadata": {
  "kernelspec": {
   "display_name": "Python 3 (ipykernel)",
   "language": "python",
   "name": "python3"
  },
  "language_info": {
   "codemirror_mode": {
    "name": "ipython",
    "version": 3
   },
   "file_extension": ".py",
   "mimetype": "text/x-python",
   "name": "python",
   "nbconvert_exporter": "python",
   "pygments_lexer": "ipython3",
   "version": "3.9.7"
  }
 },
 "nbformat": 4,
 "nbformat_minor": 5
}
