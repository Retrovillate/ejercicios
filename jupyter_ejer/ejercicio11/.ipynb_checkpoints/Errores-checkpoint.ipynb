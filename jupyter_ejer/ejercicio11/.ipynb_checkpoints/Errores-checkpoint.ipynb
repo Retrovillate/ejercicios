{
 "cells": [
  {
   "cell_type": "code",
   "execution_count": 1,
   "id": "b416f4da",
   "metadata": {},
   "outputs": [
    {
     "ename": "TypeError",
     "evalue": "can only concatenate str (not \"int\") to str",
     "output_type": "error",
     "traceback": [
      "\u001b[1;31m---------------------------------------------------------------------------\u001b[0m",
      "\u001b[1;31mTypeError\u001b[0m                                 Traceback (most recent call last)",
      "Cell \u001b[1;32mIn[1], line 3\u001b[0m\n\u001b[0;32m      1\u001b[0m stri \u001b[38;5;241m=\u001b[39m \u001b[38;5;124m\"\u001b[39m\u001b[38;5;124mHola mundo\u001b[39m\u001b[38;5;124m\"\u001b[39m\n\u001b[0;32m      2\u001b[0m num \u001b[38;5;241m=\u001b[39m \u001b[38;5;241m9\u001b[39m\n\u001b[1;32m----> 3\u001b[0m \u001b[43mstri\u001b[49m\u001b[43m \u001b[49m\u001b[38;5;241;43m+\u001b[39;49m\u001b[43m \u001b[49m\u001b[43mnum\u001b[49m\n",
      "\u001b[1;31mTypeError\u001b[0m: can only concatenate str (not \"int\") to str"
     ]
    }
   ],
   "source": [
    "# Error de tipo de dato\n",
    "stri = \"Hola mundo\"\n",
    "num = 9\n",
    "stri + num"
   ]
  },
  {
   "cell_type": "code",
   "execution_count": 2,
   "id": "aa950ead",
   "metadata": {},
   "outputs": [
    {
     "ename": "SyntaxError",
     "evalue": "invalid syntax (128245705.py, line 4)",
     "output_type": "error",
     "traceback": [
      "\u001b[1;36m  Cell \u001b[1;32mIn[2], line 4\u001b[1;36m\u001b[0m\n\u001b[1;33m    stri +\u001b[0m\n\u001b[1;37m          ^\u001b[0m\n\u001b[1;31mSyntaxError\u001b[0m\u001b[1;31m:\u001b[0m invalid syntax\n"
     ]
    }
   ],
   "source": [
    "# Error de sintaxis\n",
    "stri = \"Hola mundo\"\n",
    "num = 9\n",
    "stri +"
   ]
  },
  {
   "cell_type": "code",
   "execution_count": 3,
   "id": "8f0d270e",
   "metadata": {},
   "outputs": [
    {
     "ename": "NameError",
     "evalue": "name 'asd' is not defined",
     "output_type": "error",
     "traceback": [
      "\u001b[1;31m---------------------------------------------------------------------------\u001b[0m",
      "\u001b[1;31mNameError\u001b[0m                                 Traceback (most recent call last)",
      "Cell \u001b[1;32mIn[3], line 2\u001b[0m\n\u001b[0;32m      1\u001b[0m \u001b[38;5;66;03m# Error de nombre\u001b[39;00m\n\u001b[1;32m----> 2\u001b[0m \u001b[43masd\u001b[49m\n",
      "\u001b[1;31mNameError\u001b[0m: name 'asd' is not defined"
     ]
    }
   ],
   "source": [
    "# Error de nombre\n",
    "asd"
   ]
  },
  {
   "cell_type": "code",
   "execution_count": 5,
   "id": "575dce26",
   "metadata": {},
   "outputs": [],
   "source": [
    "# Errores de indice\n",
    "arr = []"
   ]
  },
  {
   "cell_type": "code",
   "execution_count": 1,
   "id": "8127e923",
   "metadata": {},
   "outputs": [
    {
     "ename": "NameError",
     "evalue": "name 'arr' is not defined",
     "output_type": "error",
     "traceback": [
      "\u001b[1;31m---------------------------------------------------------------------------\u001b[0m",
      "\u001b[1;31mNameError\u001b[0m                                 Traceback (most recent call last)",
      "Cell \u001b[1;32mIn[1], line 1\u001b[0m\n\u001b[1;32m----> 1\u001b[0m \u001b[43marr\u001b[49m[\u001b[38;5;241m2\u001b[39m]\n",
      "\u001b[1;31mNameError\u001b[0m: name 'arr' is not defined"
     ]
    }
   ],
   "source": [
    "arr[2]"
   ]
  },
  {
   "cell_type": "code",
   "execution_count": 3,
   "id": "fb51cc49",
   "metadata": {},
   "outputs": [
    {
     "name": "stdout",
     "output_type": "stream",
     "text": [
      "error\n",
      "Hola Mundo\n"
     ]
    }
   ],
   "source": [
    "# manejo de execpciones\n",
    "try:\n",
    "    arr[2]\n",
    "except:\n",
    "    print(\"error\")\n",
    "print(\"Hola Mundo\")"
   ]
  },
  {
   "cell_type": "code",
   "execution_count": 6,
   "id": "d8fd8229",
   "metadata": {},
   "outputs": [
    {
     "name": "stdout",
     "output_type": "stream",
     "text": [
      "error IndexError\n"
     ]
    }
   ],
   "source": [
    "# manejo de execpciones con un tipo de error especifico\n",
    "try:\n",
    "    arr[2]\n",
    "except IndexError:\n",
    "    print(\"error IndexError\")\n",
    "except NameError:\n",
    "    print(\"Name Error\")\n",
    "except:\n",
    "    print(\"Error General\")\n",
    "    \n"
   ]
  },
  {
   "cell_type": "code",
   "execution_count": 8,
   "id": "8c1fdaf6",
   "metadata": {},
   "outputs": [
    {
     "name": "stdout",
     "output_type": "stream",
     "text": [
      "Hola Mundo\n",
      "Sin Errores\n"
     ]
    }
   ],
   "source": [
    "# manejo de execpciones cuando no se encuentra error\n",
    "try:\n",
    "    print(\"Hola Mundo\")\n",
    "except IndexError:\n",
    "    print(\"error IndexError\")\n",
    "except NameError:\n",
    "    print(\"Name Error\")\n",
    "except:\n",
    "    print(\"Error General\")\n",
    "else:\n",
    "    print(\"Sin Errores\")"
   ]
  },
  {
   "cell_type": "code",
   "execution_count": 9,
   "id": "c9eaba0b",
   "metadata": {},
   "outputs": [
    {
     "name": "stdout",
     "output_type": "stream",
     "text": [
      "Hola Mundo\n",
      "Sin Errores\n",
      "Me ejecuto igualmente\n"
     ]
    }
   ],
   "source": [
    "# bloque finally para terminar el proceso aparesca si o no una execpcion\n",
    "\n",
    "\"\"\"\n",
    "finally se puede utilizar para cerrar ficheros o conexiones a BD\n",
    "\"\"\"\n",
    "try:\n",
    "    print(\"Hola Mundo\")\n",
    "except IndexError:\n",
    "    print(\"error IndexError\")\n",
    "except NameError:\n",
    "    print(\"Name Error\")\n",
    "except:\n",
    "    print(\"Error General\")\n",
    "else:\n",
    "    print(\"Sin Errores\")\n",
    "finally:\n",
    "    print(\"Me ejecuto igualmente\")"
   ]
  },
  {
   "cell_type": "code",
   "execution_count": 11,
   "id": "89258280",
   "metadata": {},
   "outputs": [
    {
     "ename": "IndexError",
     "evalue": "Mensaje",
     "output_type": "error",
     "traceback": [
      "\u001b[1;31m---------------------------------------------------------------------------\u001b[0m",
      "\u001b[1;31mIndexError\u001b[0m                                Traceback (most recent call last)",
      "Cell \u001b[1;32mIn[11], line 2\u001b[0m\n\u001b[0;32m      1\u001b[0m \u001b[38;5;66;03m# bloque raise para gestion de errores\u001b[39;00m\n\u001b[1;32m----> 2\u001b[0m \u001b[38;5;28;01mraise\u001b[39;00m \u001b[38;5;167;01mIndexError\u001b[39;00m(\u001b[38;5;124m\"\u001b[39m\u001b[38;5;124mMensaje\u001b[39m\u001b[38;5;124m\"\u001b[39m)\n\u001b[0;32m      3\u001b[0m \u001b[38;5;28mprint\u001b[39m(\u001b[38;5;124m\"\u001b[39m\u001b[38;5;124mHola Mundo\u001b[39m\u001b[38;5;124m\"\u001b[39m)\n",
      "\u001b[1;31mIndexError\u001b[0m: Mensaje"
     ]
    }
   ],
   "source": [
    "# bloque raise para gestion de errores\n",
    "raise IndexError(\"Mensaje\")\n",
    "print(\"Hola Mundo\")\n"
   ]
  },
  {
   "cell_type": "code",
   "execution_count": null,
   "id": "83e083a5",
   "metadata": {},
   "outputs": [],
   "source": []
  }
 ],
 "metadata": {
  "kernelspec": {
   "display_name": "Python 3 (ipykernel)",
   "language": "python",
   "name": "python3"
  },
  "language_info": {
   "codemirror_mode": {
    "name": "ipython",
    "version": 3
   },
   "file_extension": ".py",
   "mimetype": "text/x-python",
   "name": "python",
   "nbconvert_exporter": "python",
   "pygments_lexer": "ipython3",
   "version": "3.9.7"
  }
 },
 "nbformat": 4,
 "nbformat_minor": 5
}
