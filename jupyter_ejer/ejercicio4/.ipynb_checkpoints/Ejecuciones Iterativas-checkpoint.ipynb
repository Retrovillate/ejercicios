{
 "cells": [
  {
   "cell_type": "code",
   "execution_count": 2,
   "id": "0aee44ec",
   "metadata": {},
   "outputs": [
    {
     "name": "stdout",
     "output_type": "stream",
     "text": [
      "1\n",
      "2\n",
      "3\n",
      "4\n",
      "He terminado\n"
     ]
    }
   ],
   "source": [
    "numero = 5\n",
    "contador = 0\n",
    "\n",
    "while (contador < 5):\n",
    "    contador +=1\n",
    "    print(contador)\n",
    "    if(contador == 4):\n",
    "        contador +=1\n",
    "else:\n",
    "    print(\"He terminado\")"
   ]
  },
  {
   "cell_type": "code",
   "execution_count": 2,
   "id": "89f87bcb",
   "metadata": {},
   "outputs": [
    {
     "name": "stdout",
     "output_type": "stream",
     "text": [
      "4\n",
      "5\n",
      "6\n",
      "He terminado\n"
     ]
    }
   ],
   "source": [
    "lista = [4,5,6]\n",
    "\n",
    "for variable in lista:\n",
    "    print(variable)\n",
    "else:\n",
    "    print(\"He terminado\")"
   ]
  },
  {
   "cell_type": "code",
   "execution_count": 3,
   "id": "df57d6c8",
   "metadata": {},
   "outputs": [
    {
     "name": "stdout",
     "output_type": "stream",
     "text": [
      "H\n",
      "o\n",
      "l\n",
      "a\n",
      " \n",
      "m\n",
      "u\n",
      "n\n",
      "d\n",
      "o\n"
     ]
    }
   ],
   "source": [
    "cadena = \"Hola mundo\"\n",
    "\n",
    "for caracter in cadena:\n",
    "    print(caracter)"
   ]
  },
  {
   "cell_type": "code",
   "execution_count": 5,
   "id": "09def9ec",
   "metadata": {},
   "outputs": [
    {
     "name": "stdout",
     "output_type": "stream",
     "text": [
      "4\n",
      "<class 'int'>\n",
      "Hola mundo\n",
      "<class 'str'>\n",
      "True\n",
      "<class 'bool'>\n",
      "He terminado\n"
     ]
    }
   ],
   "source": [
    "lista = [4,\"Hola mundo\",True]\n",
    "\n",
    "for variable in lista:\n",
    "    print(variable)\n",
    "    print(type(variable))\n",
    "else:\n",
    "    print(\"He terminado\")"
   ]
  },
  {
   "cell_type": "code",
   "execution_count": 3,
   "id": "d058b945",
   "metadata": {},
   "outputs": [
    {
     "name": "stdout",
     "output_type": "stream",
     "text": [
      "H\n",
      "o\n",
      "l\n",
      "a\n",
      " \n",
      "m\n",
      "u\n",
      "n\n",
      "d\n",
      "o\n"
     ]
    }
   ],
   "source": [
    "\"\"\"\n",
    "\n",
    "recorro un for por rango\n",
    "\n",
    "\"\"\"\n",
    "cadena = \"Hola mundo\"\n",
    "\n",
    "for caracter in range(len(cadena)):\n",
    "    #print(caracter) # muestra el indice de la cadena\n",
    "    print(cadena[caracter]) #muestra el caracter de la cadena"
   ]
  },
  {
   "cell_type": "code",
   "execution_count": 4,
   "id": "e1ae4f8a",
   "metadata": {},
   "outputs": [
    {
     "name": "stdout",
     "output_type": "stream",
     "text": [
      "H\n",
      "l\n",
      " \n",
      "u\n",
      "d\n"
     ]
    }
   ],
   "source": [
    "\"\"\"\n",
    "\n",
    "recorro un for por rango cambiando el numero de saltos\n",
    "\n",
    "\"\"\"\n",
    "cadena = \"Hola mundo\"\n",
    "\n",
    "for caracter in range(0,len(cadena),2):\n",
    "    #print(caracter) # muestra el indice de la cadena\n",
    "    print(cadena[caracter]) #muestra el caracter de la cadena"
   ]
  },
  {
   "cell_type": "code",
   "execution_count": 5,
   "id": "875a4e36",
   "metadata": {},
   "outputs": [
    {
     "name": "stdout",
     "output_type": "stream",
     "text": [
      "H\n",
      "o\n",
      "l\n",
      "a\n",
      " \n"
     ]
    }
   ],
   "source": [
    "\"\"\"\n",
    "Sentencia breack\n",
    "\"\"\"\n",
    "cadena = \"Hola mundo\"\n",
    "\n",
    "for caracter in cadena:\n",
    "    print(caracter)\n",
    "    if(caracter == \" \"):\n",
    "        break"
   ]
  },
  {
   "cell_type": "code",
   "execution_count": 11,
   "id": "4fdb1547",
   "metadata": {},
   "outputs": [
    {
     "name": "stdout",
     "output_type": "stream",
     "text": [
      "H\n",
      "o\n",
      "l\n",
      "a\n",
      "m\n",
      "u\n",
      "n\n",
      "d\n",
      "o\n"
     ]
    }
   ],
   "source": [
    "\"\"\"\n",
    "Sentencia continue salta la sebtencia pero no rompe el ciclo\n",
    "\"\"\"\n",
    "cadena = \"Hola mundo\"\n",
    "\n",
    "for caracter in cadena:\n",
    "    if(caracter == \" \"):\n",
    "        continue\n",
    "    print(caracter)"
   ]
  },
  {
   "cell_type": "code",
   "execution_count": 12,
   "id": "0272064d",
   "metadata": {},
   "outputs": [
    {
     "data": {
      "text/plain": [
       "'H'"
      ]
     },
     "execution_count": 12,
     "metadata": {},
     "output_type": "execute_result"
    }
   ],
   "source": [
    "\"\"\"\n",
    "creación de iteradores\n",
    "\n",
    "\"\"\"\n",
    "cadena = \"Hola mundo\"\n",
    "iterador = iter(cadena)\n",
    "next(iterador)"
   ]
  },
  {
   "cell_type": "code",
   "execution_count": 13,
   "id": "9d72155b",
   "metadata": {},
   "outputs": [
    {
     "name": "stdout",
     "output_type": "stream",
     "text": [
      "H\n",
      "o\n",
      "l\n",
      "a\n",
      " \n",
      "m\n",
      "u\n",
      "n\n",
      "d\n",
      "o\n"
     ]
    }
   ],
   "source": [
    "\"\"\"\n",
    "recorre el iterador con un rango\n",
    "\n",
    "\"\"\"\n",
    "cadena = \"Hola mundo\"\n",
    "iterador = iter(cadena)\n",
    "for caracter in range(len(cadena)):\n",
    "    #print(caracter) # muestra el indice de la cadena\n",
    "    print(next(iterador)) #muestra el caracter de la cadena"
   ]
  },
  {
   "cell_type": "code",
   "execution_count": 15,
   "id": "a9151120",
   "metadata": {},
   "outputs": [
    {
     "name": "stdout",
     "output_type": "stream",
     "text": [
      "H\n",
      "o\n",
      "l\n",
      "a\n",
      " \n",
      "m\n",
      "u\n",
      "n\n",
      "d\n",
      "o\n",
      "H\n",
      "o\n",
      "l\n",
      "a\n",
      " \n",
      "m\n",
      "u\n",
      "n\n",
      "d\n",
      "o\n",
      "H\n",
      "o\n",
      "l\n",
      "a\n",
      " \n",
      "m\n",
      "u\n",
      "n\n",
      "d\n",
      "o\n"
     ]
    }
   ],
   "source": [
    "\"\"\"\n",
    "ciclos anidados\n",
    "\"\"\"\n",
    "cadena = \"Hola mundo\"\n",
    "for i in range(0,3):\n",
    "    for variable in cadena:\n",
    "        print(variable)"
   ]
  },
  {
   "cell_type": "code",
   "execution_count": null,
   "id": "30bc3aef",
   "metadata": {},
   "outputs": [],
   "source": []
  }
 ],
 "metadata": {
  "kernelspec": {
   "display_name": "Python 3 (ipykernel)",
   "language": "python",
   "name": "python3"
  },
  "language_info": {
   "codemirror_mode": {
    "name": "ipython",
    "version": 3
   },
   "file_extension": ".py",
   "mimetype": "text/x-python",
   "name": "python",
   "nbconvert_exporter": "python",
   "pygments_lexer": "ipython3",
   "version": "3.9.7"
  }
 },
 "nbformat": 4,
 "nbformat_minor": 5
}
