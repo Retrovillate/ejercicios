{
 "cells": [
  {
   "cell_type": "code",
   "execution_count": 2,
   "id": "0aee44ec",
   "metadata": {},
   "outputs": [
    {
     "name": "stdout",
     "output_type": "stream",
     "text": [
      "1\n",
      "2\n",
      "3\n",
      "4\n",
      "He terminado\n"
     ]
    }
   ],
   "source": [
    "numero = 5\n",
    "contador = 0\n",
    "\n",
    "while (contador < 5):\n",
    "    contador +=1\n",
    "    print(contador)\n",
    "    if(contador == 4):\n",
    "        contador +=1\n",
    "else:\n",
    "    print(\"He terminado\")"
   ]
  },
  {
   "cell_type": "code",
   "execution_count": 2,
   "id": "89f87bcb",
   "metadata": {},
   "outputs": [
    {
     "name": "stdout",
     "output_type": "stream",
     "text": [
      "4\n",
      "5\n",
      "6\n",
      "He terminado\n"
     ]
    }
   ],
   "source": [
    "lista = [4,5,6]\n",
    "\n",
    "for variable in lista:\n",
    "    print(variable)\n",
    "else:\n",
    "    print(\"He terminado\")"
   ]
  },
  {
   "cell_type": "code",
   "execution_count": 3,
   "id": "df57d6c8",
   "metadata": {},
   "outputs": [
    {
     "name": "stdout",
     "output_type": "stream",
     "text": [
      "H\n",
      "o\n",
      "l\n",
      "a\n",
      " \n",
      "m\n",
      "u\n",
      "n\n",
      "d\n",
      "o\n"
     ]
    }
   ],
   "source": [
    "cadena = \"Hola mundo\"\n",
    "\n",
    "for caracter in cadena:\n",
    "    print(caracter)"
   ]
  },
  {
   "cell_type": "code",
   "execution_count": 5,
   "id": "09def9ec",
   "metadata": {},
   "outputs": [
    {
     "name": "stdout",
     "output_type": "stream",
     "text": [
      "4\n",
      "<class 'int'>\n",
      "Hola mundo\n",
      "<class 'str'>\n",
      "True\n",
      "<class 'bool'>\n",
      "He terminado\n"
     ]
    }
   ],
   "source": [
    "lista = [4,\"Hola mundo\",True]\n",
    "\n",
    "for variable in lista:\n",
    "    print(variable)\n",
    "    print(type(variable))\n",
    "else:\n",
    "    print(\"He terminado\")"
   ]
  },
  {
   "cell_type": "code",
   "execution_count": 3,
   "id": "d058b945",
   "metadata": {},
   "outputs": [
    {
     "name": "stdout",
     "output_type": "stream",
     "text": [
      "H\n",
      "o\n",
      "l\n",
      "a\n",
      " \n",
      "m\n",
      "u\n",
      "n\n",
      "d\n",
      "o\n"
     ]
    }
   ],
   "source": [
    "\"\"\"\n",
    "\n",
    "recorro un for por rango\n",
    "\n",
    "\"\"\"\n",
    "cadena = \"Hola mundo\"\n",
    "\n",
    "for caracter in range(len(cadena)):\n",
    "    #print(caracter) # muestra el indice de la cadena\n",
    "    print(cadena[caracter]) #muestra el caracter de la cadena"
   ]
  },
  {
   "cell_type": "code",
   "execution_count": 4,
   "id": "f3ddf379",
   "metadata": {},
   "outputs": [
    {
     "name": "stdout",
     "output_type": "stream",
     "text": [
      "H\n",
      "l\n",
      " \n",
      "u\n",
      "d\n"
     ]
    }
   ],
   "source": [
    "\"\"\"\n",
    "\n",
    "recorro un for por rango cambiando el numero de saltos\n",
    "\n",
    "\"\"\"\n",
    "cadena = \"Hola mundo\"\n",
    "\n",
    "for caracter in range(0,len(cadena),2):\n",
    "    #print(caracter) # muestra el indice de la cadena\n",
    "    print(cadena[caracter]) #muestra el caracter de la cadena"
   ]
  },
  {
   "cell_type": "code",
   "execution_count": 5,
   "id": "ddfe48ec",
   "metadata": {},
   "outputs": [
    {
     "name": "stdout",
     "output_type": "stream",
     "text": [
      "H\n",
      "o\n",
      "l\n",
      "a\n",
      " \n"
     ]
    }
   ],
   "source": [
    "\"\"\"\n",
    "Sentencia breack\n",
    "\"\"\"\n",
    "cadena = \"Hola mundo\"\n",
    "\n",
    "for caracter in cadena:\n",
    "    print(caracter)\n",
    "    if(caracter == \" \"):\n",
    "        break"
   ]
  },
  {
   "cell_type": "code",
   "execution_count": 11,
   "id": "74c6fd45",
   "metadata": {},
   "outputs": [
    {
     "name": "stdout",
     "output_type": "stream",
     "text": [
      "H\n",
      "o\n",
      "l\n",
      "a\n",
      "m\n",
      "u\n",
      "n\n",
      "d\n",
      "o\n"
     ]
    }
   ],
   "source": [
    "\"\"\"\n",
    "Sentencia continue salta la sebtencia pero no rompe el ciclo\n",
    "\"\"\"\n",
    "cadena = \"Hola mundo\"\n",
    "\n",
    "for caracter in cadena:\n",
    "    if(caracter == \" \"):\n",
    "        continue\n",
    "    print(caracter)"
   ]
  },
  {
   "cell_type": "code",
   "execution_count": 12,
   "id": "4f5a3d28",
   "metadata": {},
   "outputs": [
    {
     "data": {
      "text/plain": [
       "'H'"
      ]
     },
     "execution_count": 12,
     "metadata": {},
     "output_type": "execute_result"
    }
   ],
   "source": [
    "\"\"\"\n",
    "creación de iteradores\n",
    "\n",
    "\"\"\"\n",
    "cadena = \"Hola mundo\"\n",
    "iterador = iter(cadena)\n",
    "next(iterador)"
   ]
  },
  {
   "cell_type": "code",
   "execution_count": 13,
   "id": "9c372c1b",
   "metadata": {},
   "outputs": [
    {
     "name": "stdout",
     "output_type": "stream",
     "text": [
      "H\n",
      "o\n",
      "l\n",
      "a\n",
      " \n",
      "m\n",
      "u\n",
      "n\n",
      "d\n",
      "o\n"
     ]
    }
   ],
   "source": [
    "\"\"\"\n",
    "recorre el iterador con un rango\n",
    "\n",
    "\"\"\"\n",
    "cadena = \"Hola mundo\"\n",
    "iterador = iter(cadena)\n",
    "for caracter in range(len(cadena)):\n",
    "    #print(caracter) # muestra el indice de la cadena\n",
    "    print(next(iterador)) #muestra el caracter de la cadena"
   ]
  },
  {
   "cell_type": "code",
   "execution_count": 15,
   "id": "b29996fa",
   "metadata": {},
   "outputs": [
    {
     "name": "stdout",
     "output_type": "stream",
     "text": [
      "H\n",
      "o\n",
      "l\n",
      "a\n",
      " \n",
      "m\n",
      "u\n",
      "n\n",
      "d\n",
      "o\n",
      "H\n",
      "o\n",
      "l\n",
      "a\n",
      " \n",
      "m\n",
      "u\n",
      "n\n",
      "d\n",
      "o\n",
      "H\n",
      "o\n",
      "l\n",
      "a\n",
      " \n",
      "m\n",
      "u\n",
      "n\n",
      "d\n",
      "o\n"
     ]
    }
   ],
   "source": [
    "\"\"\"\n",
    "ciclos anidados\n",
    "\"\"\"\n",
    "cadena = \"Hola mundo\"\n",
    "for i in range(0,3):\n",
    "    for variable in cadena:\n",
    "        print(variable)"
   ]
  },
  {
   "cell_type": "code",
   "execution_count": 1,
   "id": "9db5d112",
   "metadata": {},
   "outputs": [
    {
     "ename": "SyntaxError",
     "evalue": "invalid character '“' (U+201C) (729360266.py, line 1)",
     "output_type": "error",
     "traceback": [
      "\u001b[1;36m  Cell \u001b[1;32mIn[1], line 1\u001b[1;36m\u001b[0m\n\u001b[1;33m    frase = “Hola, Python!”\u001b[0m\n\u001b[1;37m            ^\u001b[0m\n\u001b[1;31mSyntaxError\u001b[0m\u001b[1;31m:\u001b[0m invalid character '“' (U+201C)\n"
     ]
    }
   ],
   "source": [
    "frase = “Hola, Python!”"
   ]
  },
  {
   "cell_type": "code",
   "execution_count": 2,
   "id": "6e745496",
   "metadata": {},
   "outputs": [],
   "source": [
    "frase = \"Hola, Python!\""
   ]
  },
  {
   "cell_type": "code",
   "execution_count": 3,
   "id": "daedf480",
   "metadata": {},
   "outputs": [
    {
     "data": {
      "text/plain": [
       "'Python'"
      ]
     },
     "execution_count": 3,
     "metadata": {},
     "output_type": "execute_result"
    }
   ],
   "source": [
    "frase[-7:12]"
   ]
  },
  {
   "cell_type": "code",
   "execution_count": 4,
   "id": "11d35d52",
   "metadata": {},
   "outputs": [
    {
     "data": {
      "text/plain": [
       "'Hola, Python!'"
      ]
     },
     "execution_count": 4,
     "metadata": {},
     "output_type": "execute_result"
    }
   ],
   "source": [
    "frase.replace(\"Adios\", \"Buenos dias\")"
   ]
  },
  {
   "cell_type": "code",
   "execution_count": 5,
   "id": "d243fa96",
   "metadata": {},
   "outputs": [
    {
     "data": {
      "text/plain": [
       "True"
      ]
     },
     "execution_count": 5,
     "metadata": {},
     "output_type": "execute_result"
    }
   ],
   "source": [
    "len(\"Hola\")<= frase.find(',')"
   ]
  },
  {
   "cell_type": "code",
   "execution_count": 6,
   "id": "c8c87e10",
   "metadata": {},
   "outputs": [
    {
     "data": {
      "text/plain": [
       "'4545454'"
      ]
     },
     "execution_count": 6,
     "metadata": {},
     "output_type": "execute_result"
    }
   ],
   "source": [
    "str(4545454)"
   ]
  },
  {
   "cell_type": "code",
   "execution_count": 7,
   "id": "2aaddce9",
   "metadata": {},
   "outputs": [
    {
     "data": {
      "text/plain": [
       "True"
      ]
     },
     "execution_count": 7,
     "metadata": {},
     "output_type": "execute_result"
    }
   ],
   "source": [
    "bool(0) or not(bool())"
   ]
  },
  {
   "cell_type": "code",
   "execution_count": 4,
   "id": "d5c5aa47",
   "metadata": {},
   "outputs": [
    {
     "data": {
      "text/plain": [
       "range(10, 0)"
      ]
     },
     "execution_count": 4,
     "metadata": {},
     "output_type": "execute_result"
    }
   ],
   "source": [
    "range(10,0)"
   ]
  },
  {
   "cell_type": "raw",
   "id": "c2a495a3",
   "metadata": {},
   "source": []
  },
  {
   "cell_type": "code",
   "execution_count": null,
   "id": "602ea9a1",
   "metadata": {},
   "outputs": [],
   "source": []
  }
 ],
 "metadata": {
  "kernelspec": {
   "display_name": "Python 3 (ipykernel)",
   "language": "python",
   "name": "python3"
  },
  "language_info": {
   "codemirror_mode": {
    "name": "ipython",
    "version": 3
   },
   "file_extension": ".py",
   "mimetype": "text/x-python",
   "name": "python",
   "nbconvert_exporter": "python",
   "pygments_lexer": "ipython3",
   "version": "3.9.7"
  }
 },
 "nbformat": 4,
 "nbformat_minor": 5
}
