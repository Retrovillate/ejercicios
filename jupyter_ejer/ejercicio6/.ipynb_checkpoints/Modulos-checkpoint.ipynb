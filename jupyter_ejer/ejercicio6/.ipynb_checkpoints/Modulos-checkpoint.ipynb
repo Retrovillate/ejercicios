{
 "cells": [
  {
   "cell_type": "code",
   "execution_count": 47,
   "id": "32b57362",
   "metadata": {},
   "outputs": [],
   "source": [
    "                                                                                                                                                                                                                                                                                                \"\"\"\n",
    "Modulo math\n",
    "\"\"\"\n",
    "import math\n",
    "\n",
    "absol = math.fabs(-15836.585)"
   ]
  },
  {
   "cell_type": "code",
   "execution_count": 14,
   "id": "eb3ec028",
   "metadata": {},
   "outputs": [
    {
     "name": "stdout",
     "output_type": "stream",
     "text": [
      "15836.585\n"
     ]
    }
   ],
   "source": [
    "print(absol)"
   ]
  },
  {
   "cell_type": "code",
   "execution_count": 16,
   "id": "653b9ca6",
   "metadata": {},
   "outputs": [
    {
     "data": {
      "text/plain": [
       "6"
      ]
     },
     "execution_count": 16,
     "metadata": {},
     "output_type": "execute_result"
    }
   ],
   "source": [
    "\"\"\"\n",
    "Minimo comun divisior\n",
    "\"\"\"\n",
    "math.gcd(30,12)"
   ]
  },
  {
   "cell_type": "code",
   "execution_count": 18,
   "id": "f72c46dc",
   "metadata": {},
   "outputs": [
    {
     "data": {
      "text/plain": [
       "60"
      ]
     },
     "execution_count": 18,
     "metadata": {},
     "output_type": "execute_result"
    }
   ],
   "source": [
    "\"\"\"\n",
    "redondeo por debajo\n",
    "\"\"\"\n",
    "math.floor(60.30)"
   ]
  },
  {
   "cell_type": "code",
   "execution_count": 19,
   "id": "5ea12345",
   "metadata": {},
   "outputs": [
    {
     "data": {
      "text/plain": [
       "61"
      ]
     },
     "execution_count": 19,
     "metadata": {},
     "output_type": "execute_result"
    }
   ],
   "source": [
    "\"\"\"\n",
    "redondeo por arriba\n",
    "\n",
    "\"\"\"\n",
    "math.ceil(60.30)"
   ]
  },
  {
   "cell_type": "code",
   "execution_count": 20,
   "id": "b4c09ab8",
   "metadata": {},
   "outputs": [
    {
     "data": {
      "text/plain": [
       "120"
      ]
     },
     "execution_count": 20,
     "metadata": {},
     "output_type": "execute_result"
    }
   ],
   "source": [
    "\"\"\"\n",
    "obtiene el numero factorial de un numero\n",
    "\"\"\"\n",
    "math.factorial(5)"
   ]
  },
  {
   "cell_type": "code",
   "execution_count": 21,
   "id": "245fc44e",
   "metadata": {},
   "outputs": [
    {
     "data": {
      "text/plain": [
       "60"
      ]
     },
     "execution_count": 21,
     "metadata": {},
     "output_type": "execute_result"
    }
   ],
   "source": [
    "\"\"\"\n",
    "devuelve la parte entera de un numero\n",
    "\"\"\"\n",
    "math.trunc(60.65)"
   ]
  },
  {
   "cell_type": "code",
   "execution_count": 23,
   "id": "c375d0c1",
   "metadata": {},
   "outputs": [
    {
     "data": {
      "text/plain": [
       "0.7071067811865476"
      ]
     },
     "execution_count": 23,
     "metadata": {},
     "output_type": "execute_result"
    }
   ],
   "source": [
    "\"\"\"\n",
    "funciones trigonometicas  trabajan con angulo en radianes\n",
    "\"\"\"\n",
    "math.sin(math.pi/4) # seno"
   ]
  },
  {
   "cell_type": "code",
   "execution_count": 24,
   "id": "3ac1cb42",
   "metadata": {},
   "outputs": [
    {
     "data": {
      "text/plain": [
       "0.7071067811865476"
      ]
     },
     "execution_count": 24,
     "metadata": {},
     "output_type": "execute_result"
    }
   ],
   "source": [
    "math.cos(math.pi/4) # coseno"
   ]
  },
  {
   "cell_type": "code",
   "execution_count": 25,
   "id": "10549214",
   "metadata": {},
   "outputs": [
    {
     "data": {
      "text/plain": [
       "1.633123935319537e+16"
      ]
     },
     "execution_count": 25,
     "metadata": {},
     "output_type": "execute_result"
    }
   ],
   "source": [
    "math.tan(math.pi/2) # tangente"
   ]
  },
  {
   "cell_type": "code",
   "execution_count": 26,
   "id": "e7a7c7af",
   "metadata": {},
   "outputs": [
    {
     "data": {
      "text/plain": [
       "1.5707963267948966"
      ]
     },
     "execution_count": 26,
     "metadata": {},
     "output_type": "execute_result"
    }
   ],
   "source": [
    "math.asin(1) # arcoseno"
   ]
  },
  {
   "cell_type": "code",
   "execution_count": 27,
   "id": "bc499b98",
   "metadata": {},
   "outputs": [
    {
     "data": {
      "text/plain": [
       "0.0"
      ]
     },
     "execution_count": 27,
     "metadata": {},
     "output_type": "execute_result"
    }
   ],
   "source": [
    "math.acos(1) # arcocoseno"
   ]
  },
  {
   "cell_type": "code",
   "execution_count": 28,
   "id": "772b1c95",
   "metadata": {},
   "outputs": [
    {
     "data": {
      "text/plain": [
       "0.7853981633974483"
      ]
     },
     "execution_count": 28,
     "metadata": {},
     "output_type": "execute_result"
    }
   ],
   "source": [
    "math.atan(1) #arcotangente"
   ]
  },
  {
   "cell_type": "code",
   "execution_count": 29,
   "id": "033b2bcd",
   "metadata": {},
   "outputs": [
    {
     "data": {
      "text/plain": [
       "12.206555615733702"
      ]
     },
     "execution_count": 29,
     "metadata": {},
     "output_type": "execute_result"
    }
   ],
   "source": [
    "\"\"\"\n",
    "Calcula el valor de la hipotenusa dado los valores de los catetos\n",
    "\"\"\"\n",
    "\n",
    "math.hypot(10,7)"
   ]
  },
  {
   "cell_type": "code",
   "execution_count": 31,
   "id": "a78cd54a",
   "metadata": {},
   "outputs": [
    {
     "data": {
      "text/plain": [
       "0.7925087653372185"
      ]
     },
     "execution_count": 31,
     "metadata": {},
     "output_type": "execute_result"
    }
   ],
   "source": [
    "\"\"\"\n",
    "funcion de logaritmo numero y base vacio logaritmo en base e\n",
    "\"\"\"\n",
    "math.log(12,23)"
   ]
  },
  {
   "cell_type": "code",
   "execution_count": 32,
   "id": "9a2d65ba",
   "metadata": {},
   "outputs": [
    {
     "data": {
      "text/plain": [
       "3.584962500721156"
      ]
     },
     "execution_count": 32,
     "metadata": {},
     "output_type": "execute_result"
    }
   ],
   "source": [
    "\"\"\"\n",
    "logaritmo en base 2\n",
    "\"\"\"\n",
    "math.log2(12)"
   ]
  },
  {
   "cell_type": "code",
   "execution_count": 33,
   "id": "ea5aa166",
   "metadata": {},
   "outputs": [
    {
     "data": {
      "text/plain": [
       "1.0"
      ]
     },
     "execution_count": 33,
     "metadata": {},
     "output_type": "execute_result"
    }
   ],
   "source": [
    "\"\"\"\n",
    "logaritmo en base 10\n",
    "\"\"\"\n",
    "math.log10(10)"
   ]
  },
  {
   "cell_type": "code",
   "execution_count": 34,
   "id": "1636beea",
   "metadata": {},
   "outputs": [
    {
     "data": {
      "text/plain": [
       "184528125.0"
      ]
     },
     "execution_count": 34,
     "metadata": {},
     "output_type": "execute_result"
    }
   ],
   "source": [
    "\"\"\"\n",
    "Elevar un numero a la potencia del segundo\n",
    "\"\"\"\n",
    "math.pow(45,5)"
   ]
  },
  {
   "cell_type": "code",
   "execution_count": 35,
   "id": "e881b0ca",
   "metadata": {},
   "outputs": [
    {
     "data": {
      "text/plain": [
       "5.0"
      ]
     },
     "execution_count": 35,
     "metadata": {},
     "output_type": "execute_result"
    }
   ],
   "source": [
    "\"\"\"\n",
    "Raiz cuadrada\n",
    "\"\"\"\n",
    "math.sqrt(25)"
   ]
  },
  {
   "cell_type": "code",
   "execution_count": 36,
   "id": "1ae1c8be",
   "metadata": {},
   "outputs": [
    {
     "data": {
      "text/plain": [
       "2.718281828459045"
      ]
     },
     "execution_count": 36,
     "metadata": {},
     "output_type": "execute_result"
    }
   ],
   "source": [
    "\"\"\"\n",
    "constante de euler\n",
    "\"\"\"\n",
    "math.e"
   ]
  },
  {
   "cell_type": "code",
   "execution_count": 37,
   "id": "9fe97b1c",
   "metadata": {},
   "outputs": [
    {
     "data": {
      "text/plain": [
       "3.141592653589793"
      ]
     },
     "execution_count": 37,
     "metadata": {},
     "output_type": "execute_result"
    }
   ],
   "source": [
    "\"\"\"\n",
    "constante pi\n",
    "\"\"\"\n",
    "math.pi"
   ]
  },
  {
   "cell_type": "code",
   "execution_count": 45,
   "id": "54fa1545",
   "metadata": {},
   "outputs": [],
   "source": [
    "\"\"\"\n",
    "libreria que toma del sistemas\n",
    "\"\"\"\n",
    "import sys"
   ]
  },
  {
   "cell_type": "code",
   "execution_count": 38,
   "id": "d2b8e38c",
   "metadata": {},
   "outputs": [
    {
     "name": "stdout",
     "output_type": "stream",
     "text": [
      "['test.py', 'Hola mundo', '35']\n"
     ]
    }
   ],
   "source": [
    "\"\"\"\n",
    "Ejecutar comandos de consola\n",
    "\"\"\"\n",
    "!python test.py \"Hola mundo\" 35"
   ]
  },
  {
   "cell_type": "code",
   "execution_count": 46,
   "id": "dcde039d",
   "metadata": {},
   "outputs": [
    {
     "data": {
      "text/plain": [
       "'C:\\\\ProgramData\\\\Anaconda3\\\\python.exe'"
      ]
     },
     "execution_count": 46,
     "metadata": {},
     "output_type": "execute_result"
    }
   ],
   "source": [
    "\"\"\"\n",
    "Ruta de ejecutable\n",
    "\"\"\"\n",
    "sys.executable"
   ]
  },
  {
   "cell_type": "code",
   "execution_count": 48,
   "id": "d73ef87e",
   "metadata": {},
   "outputs": [
    {
     "data": {
      "text/plain": [
       "'3.9.7 (default, Sep 16 2021, 16:59:28) [MSC v.1916 64 bit (AMD64)]'"
      ]
     },
     "execution_count": 48,
     "metadata": {},
     "output_type": "execute_result"
    }
   ],
   "source": [
    "\"\"\"\n",
    "Versión de python\n",
    "\"\"\"\n",
    "sys.version"
   ]
  },
  {
   "cell_type": "code",
   "execution_count": 49,
   "id": "e5609e9e",
   "metadata": {},
   "outputs": [
    {
     "data": {
      "text/plain": [
       "'win32'"
      ]
     },
     "execution_count": 49,
     "metadata": {},
     "output_type": "execute_result"
    }
   ],
   "source": [
    "\"\"\"\n",
    "Obtiene la plataforma donde se esta ejecutando\n",
    "\"\"\"\n",
    "sys.platform"
   ]
  },
  {
   "cell_type": "code",
   "execution_count": 50,
   "id": "4f0362e9",
   "metadata": {},
   "outputs": [
    {
     "data": {
      "text/plain": [
       "'utf-8'"
      ]
     },
     "execution_count": 50,
     "metadata": {},
     "output_type": "execute_result"
    }
   ],
   "source": [
    "\"\"\"\n",
    "sistema de decodificación\n",
    "\"\"\"\n",
    "sys.getdefaultencoding()"
   ]
  },
  {
   "cell_type": "code",
   "execution_count": 51,
   "id": "90f9e05e",
   "metadata": {},
   "outputs": [],
   "source": [
    "\"\"\"\n",
    "importar modulos del sistema operativo\n",
    "\"\"\"\n",
    "import os"
   ]
  },
  {
   "cell_type": "code",
   "execution_count": 52,
   "id": "0fbc2a5f",
   "metadata": {},
   "outputs": [
    {
     "data": {
      "text/plain": [
       "'C:\\\\Users\\\\Admin\\\\Documents\\\\UNIR\\\\Curso_Python\\\\ejercicios\\\\jupyter_ejer\\\\ejercicio6'"
      ]
     },
     "execution_count": 52,
     "metadata": {},
     "output_type": "execute_result"
    }
   ],
   "source": [
    "\"\"\"\n",
    "obtiene la ruta actual de ejecución\n",
    "\"\"\"\n",
    "os.getcwd()"
   ]
  },
  {
   "cell_type": "code",
   "execution_count": 63,
   "id": "b3f5b242",
   "metadata": {},
   "outputs": [],
   "source": [
    "\"\"\"\n",
    "Crea carpeta en una ruta determinada\n",
    "\"\"\"\n",
    "os.mkdir('C:\\\\Users\\\\Admin\\\\Documents\\\\UNIR\\\\Curso_Python\\\\ejercicios\\\\jupyter_ejer\\\\ejercicio6/Nueva carpeta') "
   ]
  },
  {
   "cell_type": "code",
   "execution_count": 62,
   "id": "99dbc2a1",
   "metadata": {},
   "outputs": [
    {
     "ename": "FileNotFoundError",
     "evalue": "[WinError 2] El sistema no puede encontrar el archivo especificado: 'C:\\\\Users\\\\Admin\\\\Documents\\\\UNIR\\\\Curso_Python\\\\ejercicios\\\\jupyter_ejer\\\\ejercicio6/Nueva carpeta'",
     "output_type": "error",
     "traceback": [
      "\u001b[1;31m---------------------------------------------------------------------------\u001b[0m",
      "\u001b[1;31mFileNotFoundError\u001b[0m                         Traceback (most recent call last)",
      "Cell \u001b[1;32mIn[62], line 4\u001b[0m\n\u001b[0;32m      1\u001b[0m \u001b[38;5;124;03m\"\"\"\u001b[39;00m\n\u001b[0;32m      2\u001b[0m \u001b[38;5;124;03mElimina carpeta en una ruta determinada\u001b[39;00m\n\u001b[0;32m      3\u001b[0m \u001b[38;5;124;03m\"\"\"\u001b[39;00m\n\u001b[1;32m----> 4\u001b[0m \u001b[43mos\u001b[49m\u001b[38;5;241;43m.\u001b[39;49m\u001b[43mrmdir\u001b[49m\u001b[43m(\u001b[49m\u001b[38;5;124;43m'\u001b[39;49m\u001b[38;5;124;43mC:\u001b[39;49m\u001b[38;5;130;43;01m\\\\\u001b[39;49;00m\u001b[38;5;124;43mUsers\u001b[39;49m\u001b[38;5;130;43;01m\\\\\u001b[39;49;00m\u001b[38;5;124;43mAdmin\u001b[39;49m\u001b[38;5;130;43;01m\\\\\u001b[39;49;00m\u001b[38;5;124;43mDocuments\u001b[39;49m\u001b[38;5;130;43;01m\\\\\u001b[39;49;00m\u001b[38;5;124;43mUNIR\u001b[39;49m\u001b[38;5;130;43;01m\\\\\u001b[39;49;00m\u001b[38;5;124;43mCurso_Python\u001b[39;49m\u001b[38;5;130;43;01m\\\\\u001b[39;49;00m\u001b[38;5;124;43mejercicios\u001b[39;49m\u001b[38;5;130;43;01m\\\\\u001b[39;49;00m\u001b[38;5;124;43mjupyter_ejer\u001b[39;49m\u001b[38;5;130;43;01m\\\\\u001b[39;49;00m\u001b[38;5;124;43mejercicio6/Nueva carpeta\u001b[39;49m\u001b[38;5;124;43m'\u001b[39;49m\u001b[43m)\u001b[49m\n",
      "\u001b[1;31mFileNotFoundError\u001b[0m: [WinError 2] El sistema no puede encontrar el archivo especificado: 'C:\\\\Users\\\\Admin\\\\Documents\\\\UNIR\\\\Curso_Python\\\\ejercicios\\\\jupyter_ejer\\\\ejercicio6/Nueva carpeta'"
     ]
    }
   ],
   "source": [
    "\"\"\"\n",
    "Elimina carpeta en una ruta determinada\n",
    "\"\"\"\n",
    "os.rmdir('C:\\\\Users\\\\Admin\\\\Documents\\\\UNIR\\\\Curso_Python\\\\ejercicios\\\\jupyter_ejer\\\\ejercicio6/Nueva carpeta') "
   ]
  },
  {
   "cell_type": "code",
   "execution_count": 59,
   "id": "a984b7c3",
   "metadata": {},
   "outputs": [],
   "source": [
    "\"\"\"\n",
    "Elimina un fichero en particular\n",
    "\"\"\"\n",
    "os.remove('C:\\\\Users\\\\Admin\\\\Documents\\\\UNIR\\\\Curso_Python\\\\ejercicios\\\\jupyter_ejer\\\\ejercicio6/test.py')"
   ]
  },
  {
   "cell_type": "code",
   "execution_count": 66,
   "id": "9f6e9a91",
   "metadata": {},
   "outputs": [],
   "source": [
    "\"\"\"\n",
    "renombrar una carpeta o archivo\n",
    "\"\"\"\n",
    "os.rename('C:\\\\Users\\\\Admin\\\\Documents\\\\UNIR\\\\Curso_Python\\\\ejercicios\\\\jupyter_ejer\\\\ejercicio6/Nueva carpeta2','C:\\\\Users\\\\Admin\\\\Documents\\\\UNIR\\\\Curso_Python\\\\ejercicios\\\\jupyter_ejer\\\\ejercicio6/Nueva carpeta')"
   ]
  },
  {
   "cell_type": "code",
   "execution_count": 67,
   "id": "e105a148",
   "metadata": {},
   "outputs": [],
   "source": [
    "\"\"\"\n",
    "path metodos\n",
    "\"\"\"\n",
    "import os.path"
   ]
  },
  {
   "cell_type": "code",
   "execution_count": 68,
   "id": "29d60ab6",
   "metadata": {},
   "outputs": [
    {
     "data": {
      "text/plain": [
       "'C:\\\\Users\\\\Admin\\\\Documents\\\\UNIR\\\\Curso_Python\\\\ejercicios\\\\jupyter_ejer\\\\ejercicio6\\\\untitled.txt'"
      ]
     },
     "execution_count": 68,
     "metadata": {},
     "output_type": "execute_result"
    }
   ],
   "source": [
    "\"\"\"\n",
    "ruta de un fichero\n",
    "\"\"\"\n",
    "os.path.abspath('./untitled.txt')"
   ]
  },
  {
   "cell_type": "code",
   "execution_count": 69,
   "id": "1ba26436",
   "metadata": {},
   "outputs": [
    {
     "data": {
      "text/plain": [
       "'untitled.txt'"
      ]
     },
     "execution_count": 69,
     "metadata": {},
     "output_type": "execute_result"
    }
   ],
   "source": [
    "\"\"\"\n",
    "retorna el nombre de la carpeta o archivo que se envie con un path\n",
    "\"\"\"\n",
    "os.path.basename('C:\\\\Users\\\\Admin\\\\Documents\\\\UNIR\\\\Curso_Python\\\\ejercicios\\\\jupyter_ejer\\\\ejercicio6\\\\untitled.txt')"
   ]
  },
  {
   "cell_type": "code",
   "execution_count": 70,
   "id": "6f1846cd",
   "metadata": {},
   "outputs": [
    {
     "data": {
      "text/plain": [
       "True"
      ]
     },
     "execution_count": 70,
     "metadata": {},
     "output_type": "execute_result"
    }
   ],
   "source": [
    "\"\"\"\n",
    "entrega un booleano se existe o no un archivo funciona con path relativo o abasoluto\n",
    "\"\"\"\n",
    "os.path.exists('Nueva carpeta')"
   ]
  },
  {
   "cell_type": "code",
   "execution_count": 71,
   "id": "c4c8bc88",
   "metadata": {},
   "outputs": [
    {
     "data": {
      "text/plain": [
       "True"
      ]
     },
     "execution_count": 71,
     "metadata": {},
     "output_type": "execute_result"
    }
   ],
   "source": [
    "\"\"\"\n",
    "entrega un booleano si el parametro que se envia es un fichero funciona con path relativo o abasoluto\n",
    "\"\"\"\n",
    "os.path.isfile('untitled.txt')"
   ]
  },
  {
   "cell_type": "code",
   "execution_count": 72,
   "id": "17901915",
   "metadata": {},
   "outputs": [
    {
     "data": {
      "text/plain": [
       "True"
      ]
     },
     "execution_count": 72,
     "metadata": {},
     "output_type": "execute_result"
    }
   ],
   "source": [
    "\"\"\"\n",
    "entrega un booleano si el parametro que se envia es una carpeta funciona con path relativo o abasoluto\n",
    "\"\"\"\n",
    "os.path.isdir('Nueva carpeta')"
   ]
  },
  {
   "cell_type": "code",
   "execution_count": 73,
   "id": "8e7c218a",
   "metadata": {},
   "outputs": [],
   "source": [
    "\"\"\"\n",
    "importar el modulo random\n",
    "\"\"\"\n",
    "import random"
   ]
  },
  {
   "cell_type": "code",
   "execution_count": 77,
   "id": "dfba4ead",
   "metadata": {},
   "outputs": [
    {
     "data": {
      "text/plain": [
       "9"
      ]
     },
     "execution_count": 77,
     "metadata": {},
     "output_type": "execute_result"
    }
   ],
   "source": [
    "\"\"\"\n",
    "devuleve un entero aleatoriamente entre un rango \n",
    "\"\"\"\n",
    "random.randint(5,9)"
   ]
  },
  {
   "cell_type": "code",
   "execution_count": 79,
   "id": "ee0f85e2",
   "metadata": {},
   "outputs": [
    {
     "data": {
      "text/plain": [
       "3"
      ]
     },
     "execution_count": 79,
     "metadata": {},
     "output_type": "execute_result"
    }
   ],
   "source": [
    "\"\"\"\n",
    "elección aleatoria sobre una lista\n",
    "\"\"\"\n",
    "random.choice(['hola',3,5,True])"
   ]
  },
  {
   "cell_type": "code",
   "execution_count": 83,
   "id": "26aae6af",
   "metadata": {},
   "outputs": [
    {
     "data": {
      "text/plain": [
       "[5, 3, True, 'hola']"
      ]
     },
     "execution_count": 83,
     "metadata": {},
     "output_type": "execute_result"
    }
   ],
   "source": [
    "\"\"\"\n",
    "ordena aleatoriamente una lista\n",
    "\"\"\"\n",
    "\n",
    "lista = ['hola',3,5,True]\n",
    "random.shuffle(lista)\n",
    "lista"
   ]
  },
  {
   "cell_type": "code",
   "execution_count": 85,
   "id": "d6a35190",
   "metadata": {},
   "outputs": [
    {
     "data": {
      "text/plain": [
       "[3, 'hola']"
      ]
     },
     "execution_count": 85,
     "metadata": {},
     "output_type": "execute_result"
    }
   ],
   "source": [
    "\"\"\"\n",
    "obtiene una cantidad variables de forma aleatoria sobre una lista\n",
    "\"\"\"\n",
    "random.sample(lista,2)"
   ]
  },
  {
   "cell_type": "code",
   "execution_count": null,
   "id": "492e4e4b",
   "metadata": {},
   "outputs": [],
   "source": []
  }
 ],
 "metadata": {
  "kernelspec": {
   "display_name": "Python 3 (ipykernel)",
   "language": "python",
   "name": "python3"
  },
  "language_info": {
   "codemirror_mode": {
    "name": "ipython",
    "version": 3
   },
   "file_extension": ".py",
   "mimetype": "text/x-python",
   "name": "python",
   "nbconvert_exporter": "python",
   "pygments_lexer": "ipython3",
   "version": "3.9.7"
  }
 },
 "nbformat": 4,
 "nbformat_minor": 5
}
