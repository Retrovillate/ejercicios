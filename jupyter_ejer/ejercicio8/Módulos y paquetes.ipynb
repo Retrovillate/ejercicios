{
 "cells": [
  {
   "cell_type": "code",
   "execution_count": 1,
   "id": "aca7f1e1",
   "metadata": {},
   "outputs": [
    {
     "ename": "ModuleNotFoundError",
     "evalue": "No module named 'circunferencia'",
     "output_type": "error",
     "traceback": [
      "\u001b[1;31m---------------------------------------------------------------------------\u001b[0m",
      "\u001b[1;31mModuleNotFoundError\u001b[0m                       Traceback (most recent call last)",
      "Cell \u001b[1;32mIn[1], line 3\u001b[0m\n\u001b[0;32m      1\u001b[0m \u001b[38;5;66;03m#se importa la libreria creando un modulo.py\u001b[39;00m\n\u001b[1;32m----> 3\u001b[0m \u001b[38;5;28;01mimport\u001b[39;00m \u001b[38;5;21;01mcircunferencia\u001b[39;00m\u001b[38;5;241m,\u001b[39m \u001b[38;5;21;01mcuadrado\u001b[39;00m\n\u001b[0;32m      5\u001b[0m \u001b[38;5;28mprint\u001b[39m(circunferencia\u001b[38;5;241m.\u001b[39mperimetro(\u001b[38;5;241m8\u001b[39m))\n\u001b[0;32m      6\u001b[0m \u001b[38;5;28mprint\u001b[39m(cuadrado\u001b[38;5;241m.\u001b[39mperimetro(\u001b[38;5;241m8\u001b[39m))\n",
      "\u001b[1;31mModuleNotFoundError\u001b[0m: No module named 'circunferencia'"
     ]
    }
   ],
   "source": [
    "#se importa la libreria creando un modulo.py\n",
    "\n",
    "import circunferencia, cuadrado\n",
    "\n",
    "print(circunferencia.perimetro(8))\n",
    "print(cuadrado.perimetro(8))"
   ]
  },
  {
   "cell_type": "code",
   "execution_count": null,
   "id": "f830e740",
   "metadata": {},
   "outputs": [],
   "source": [
    "circunferencia.area(8)"
   ]
  },
  {
   "cell_type": "code",
   "execution_count": null,
   "id": "d03f9143",
   "metadata": {},
   "outputs": [],
   "source": [
    "cuadrado.area(8)"
   ]
  },
  {
   "cell_type": "code",
   "execution_count": null,
   "id": "fc8f6acf",
   "metadata": {},
   "outputs": [],
   "source": [
    "# se importa con un alias los modulos\n",
    "\n",
    "import circunferencia as cir\n",
    "import cuadrado as cua\n",
    "\n",
    "print(cir.perimetro(8))\n",
    "print(cua.perimetro(8))\n"
   ]
  },
  {
   "cell_type": "code",
   "execution_count": 2,
   "id": "456366ff",
   "metadata": {},
   "outputs": [],
   "source": [
    "import figurasGeometricas"
   ]
  },
  {
   "cell_type": "code",
   "execution_count": 3,
   "id": "bf840f84",
   "metadata": {},
   "outputs": [
    {
     "data": {
      "text/plain": [
       "201.06192982974676"
      ]
     },
     "execution_count": 3,
     "metadata": {},
     "output_type": "execute_result"
    }
   ],
   "source": [
    "figurasGeometricas.circunferencia.area(8)"
   ]
  },
  {
   "cell_type": "code",
   "execution_count": 1,
   "id": "5593ad8c",
   "metadata": {},
   "outputs": [],
   "source": [
    "# importación reduciendo el llamado del modulo principal\n",
    "from figurasGeometricas import circunferencia, cuadrado\n",
    "# si se quiere importar todos los mulos del paquete\n",
    "# from figurasGeometricas import *"
   ]
  },
  {
   "cell_type": "code",
   "execution_count": 3,
   "id": "c4b64a58",
   "metadata": {},
   "outputs": [
    {
     "data": {
      "text/plain": [
       "201.06192982974676"
      ]
     },
     "execution_count": 3,
     "metadata": {},
     "output_type": "execute_result"
    }
   ],
   "source": [
    "circunferencia.area(8)"
   ]
  },
  {
   "cell_type": "code",
   "execution_count": 4,
   "id": "cfc11170",
   "metadata": {},
   "outputs": [
    {
     "data": {
      "text/plain": [
       "64"
      ]
     },
     "execution_count": 4,
     "metadata": {},
     "output_type": "execute_result"
    }
   ],
   "source": [
    "cuadrado.area(8)"
   ]
  },
  {
   "cell_type": "code",
   "execution_count": 5,
   "id": "d948949e",
   "metadata": {},
   "outputs": [],
   "source": [
    "from figurasGeometricas import circunferencia as cir\n",
    "from figurasGeometricas import cuadrado as cua\n",
    "#llamado  de paquetes en otros paquetes\n",
    "#from figurasGeometricas.formulas import circunferencia as cir"
   ]
  },
  {
   "cell_type": "code",
   "execution_count": 2,
   "id": "f5842d67",
   "metadata": {},
   "outputs": [
    {
     "data": {
      "text/plain": [
       "201.06192982974676"
      ]
     },
     "execution_count": 2,
     "metadata": {},
     "output_type": "execute_result"
    }
   ],
   "source": [
    "cir.area(8)"
   ]
  },
  {
   "cell_type": "code",
   "execution_count": 6,
   "id": "da6346f6",
   "metadata": {},
   "outputs": [
    {
     "data": {
      "text/plain": [
       "64"
      ]
     },
     "execution_count": 6,
     "metadata": {},
     "output_type": "execute_result"
    }
   ],
   "source": [
    "cua.area(8)"
   ]
  },
  {
   "cell_type": "code",
   "execution_count": 1,
   "id": "4fe9c300",
   "metadata": {},
   "outputs": [],
   "source": [
    "from figurasGeometricas import circunferencia"
   ]
  },
  {
   "cell_type": "code",
   "execution_count": 2,
   "id": "3c7284ad",
   "metadata": {},
   "outputs": [
    {
     "name": "stdout",
     "output_type": "stream",
     "text": [
      "Help on module figurasGeometricas.circunferencia in figurasGeometricas:\n",
      "\n",
      "NAME\n",
      "    figurasGeometricas.circunferencia - Modulo circunferencia.py\n",
      "\n",
      "DESCRIPTION\n",
      "    Incluye las funciones de perimetro y area de una circunferencia\n",
      "\n",
      "FUNCTIONS\n",
      "    area(radio)\n",
      "    \n",
      "    perimetro(radio)\n",
      "\n",
      "FILE\n",
      "    c:\\users\\admin\\documents\\unir\\curso_python\\ejercicios\\jupyter_ejer\\ejercicio8\\figurasgeometricas\\circunferencia.py\n",
      "\n",
      "\n"
     ]
    }
   ],
   "source": [
    "help(circunferencia)"
   ]
  },
  {
   "cell_type": "code",
   "execution_count": 1,
   "id": "75afb2b7",
   "metadata": {},
   "outputs": [],
   "source": [
    "import figurasGeometricas "
   ]
  },
  {
   "cell_type": "code",
   "execution_count": 2,
   "id": "c08e011c",
   "metadata": {},
   "outputs": [
    {
     "name": "stdout",
     "output_type": "stream",
     "text": [
      "Help on package figurasGeometricas:\n",
      "\n",
      "NAME\n",
      "    figurasGeometricas - __init__.py\n",
      "\n",
      "DESCRIPTION\n",
      "    Este paquete incluye los modulos circunferencia y cuadrado\n",
      "\n",
      "PACKAGE CONTENTS\n",
      "    circunferencia\n",
      "    cuadrado\n",
      "\n",
      "FILE\n",
      "    c:\\users\\admin\\documents\\unir\\curso_python\\ejercicios\\jupyter_ejer\\ejercicio8\\figurasgeometricas\\__init__.py\n",
      "\n",
      "\n"
     ]
    }
   ],
   "source": [
    "help(figurasGeometricas)"
   ]
  },
  {
   "cell_type": "code",
   "execution_count": null,
   "id": "4edfd863",
   "metadata": {},
   "outputs": [],
   "source": []
  }
 ],
 "metadata": {
  "kernelspec": {
   "display_name": "Python 3 (ipykernel)",
   "language": "python",
   "name": "python3"
  },
  "language_info": {
   "codemirror_mode": {
    "name": "ipython",
    "version": 3
   },
   "file_extension": ".py",
   "mimetype": "text/x-python",
   "name": "python",
   "nbconvert_exporter": "python",
   "pygments_lexer": "ipython3",
   "version": "3.9.7"
  }
 },
 "nbformat": 4,
 "nbformat_minor": 5
}
